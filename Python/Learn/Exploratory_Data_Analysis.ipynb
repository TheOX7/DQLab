{
  "nbformat": 4,
  "nbformat_minor": 0,
  "metadata": {
    "colab": {
      "provenance": [],
      "collapsed_sections": [
        "NZ1uTfG4Asry"
      ]
    },
    "kernelspec": {
      "name": "python3",
      "display_name": "Python 3"
    },
    "language_info": {
      "name": "python"
    }
  },
  "cells": [
    {
      "cell_type": "markdown",
      "source": [
        "# Import Library"
      ],
      "metadata": {
        "id": "vhmO_tiDtjbK"
      }
    },
    {
      "cell_type": "code",
      "source": [
        "import numpy as np\n",
        "import pandas as pd\n",
        "import matplotlib.pyplot as plt"
      ],
      "metadata": {
        "id": "ilua13E0tmM1"
      },
      "execution_count": 19,
      "outputs": []
    },
    {
      "cell_type": "markdown",
      "source": [
        "# Pengenalan Library dalam Python"
      ],
      "metadata": {
        "id": "KBj0K16wtoJO"
      }
    },
    {
      "cell_type": "markdown",
      "source": [
        "## Library NumPy\n",
        "- NumPy berfungsi sebagai library untuk melakukan proses komputasi numerik terutama dalam bentuk array multidimensional (1-Dimensi ataupun 2-Dimensi). \n",
        "\n",
        "- Array merupakan kumpulan dari variabel yang memiliki tipe data yang sama. NumPy menyimpan data dalam bentuk arrays."
      ],
      "metadata": {
        "id": "ERQyk8l7t2Te"
      }
    },
    {
      "cell_type": "markdown",
      "source": [
        "## Library Pandas\n",
        "- Pandas merupakan library yang memudahkan dalam melakukan manipulasi, cleansing maupun analisis struktur data. Dengan menggunakan Pandas, dapat memanfaatkan lima fitur utama dalam pemrosesan dan analisis data, yaitu load, prepare, manipulate, modelling, dan analysis data\n",
        "- Pandas menggunakan konsep array dari NumPy namun memberikan index kepada array tersebut, sehingga disebut series ataupun data frame. Sehingga bisa dikatakan Pandas menyimpan data dalam dictionary-based NumPy arrays. 1-Dimensi labelled array dinamakan sebagai Series. Sedangkan 2-Dimensi dinamakan sebagai Data Frame."
      ],
      "metadata": {
        "id": "t5Kgwrf5t5rQ"
      }
    },
    {
      "cell_type": "markdown",
      "source": [
        "## Library SciPy\n",
        "- Scipy dibangun untuk bekerja dengan array NumPy dan menyediakan banyak komputasi numerik yang ramah pengguna dan efisien seperti rutinitas untuk integrasi, diferensiasi dan optimasi numerik."
      ],
      "metadata": {
        "id": "IKXAt79-t7Dd"
      }
    },
    {
      "cell_type": "markdown",
      "source": [
        "## Library Matplotlib\n",
        "- Matplotlib merupakan library dari Python yang umum digunakan untuk visualisasi data. Matplotlib memiliki kapabilitas untuk membuat visualisasi data 2-dimensional"
      ],
      "metadata": {
        "id": "b874Gj-4t92x"
      }
    },
    {
      "cell_type": "markdown",
      "source": [
        "# Exploratory Data Analysis dengan Pandas - Part 1"
      ],
      "metadata": {
        "id": "D_T5zGnzuqsD"
      }
    },
    {
      "cell_type": "markdown",
      "source": [
        "## Membaca file dari Excel atau CSV sebagai data frame\n",
        "- [nama_variable] = pd.read_csv(\"nama_file.csv\")\n",
        "- [nama_variable] = pd.read_excel(\"nama_file.xlsx\")"
      ],
      "metadata": {
        "id": "PzafXbHlu6Vf"
      }
    },
    {
      "cell_type": "code",
      "source": [
        "order_df = pd.read_csv(\"https://storage.googleapis.com/dqlab-dataset/order.csv\")\n",
        "print(order_df)"
      ],
      "metadata": {
        "colab": {
          "base_uri": "https://localhost:8080/"
        },
        "id": "vYOHgjmKva04",
        "outputId": "f054bc46-93bd-45f8-dc6c-832d05be9d31"
      },
      "execution_count": 3,
      "outputs": [
        {
          "output_type": "stream",
          "name": "stdout",
          "text": [
            "                               order_id  quantity  \\\n",
            "0      2e7a8482f6fb09756ca50c10d7bfc047         2   \n",
            "1      2e7a8482f6fb09756ca50c10d7bfc047         1   \n",
            "2      e5fa5a7210941f7d56d0208e4e071d35         1   \n",
            "3      3b697a20d9e427646d92567910af6d57         1   \n",
            "4      71303d7e93b399f5bcd537d124c0bcfa         1   \n",
            "...                                 ...       ...   \n",
            "49994  ec88157ad03aa203c3fdfe7bace5ab6b         1   \n",
            "49995  ed60085e92e2aa3debf49159deb34da7         1   \n",
            "49996  ed98c37d860890f940e2acd83629fdd1         2   \n",
            "49997  ed98c37d860890f940e2acd83629fdd1         1   \n",
            "49998  ede4ebbb6e36cbd377eabcc7f5229575         1   \n",
            "\n",
            "                             product_id    price  \\\n",
            "0      f293394c72c9b5fafd7023301fc21fc2  1489000   \n",
            "1      c1488892604e4ba5cff5b4eb4d595400  1756000   \n",
            "2      f3c2d01a84c947b078e32bbef0718962  1707000   \n",
            "3      3ae08df6bcbfe23586dd431c40bddbb7  3071000   \n",
            "4      d2998d7ced12f83f9b832f33cf6507b6  3833000   \n",
            "...                                 ...      ...   \n",
            "49994  165f86fe8b799a708a20ee4ba125c289  3077000   \n",
            "49995  6e835aea84ae8eb68b8c14878dd43b30  1277000   \n",
            "49996  aca2eb7d00ea1a7b8ebd4e68314663af   486000   \n",
            "49997  aca2eb7d00ea1a7b8ebd4e68314663af   830000   \n",
            "49998  2b0ee2d07306f7c9ac55a43166e9bb4b   215000   \n",
            "\n",
            "                              seller_id  freight_value  \\\n",
            "0      1554a68530182680ad5c8b042c3ab563          28000   \n",
            "1      1554a68530182680ad5c8b042c3ab563          45000   \n",
            "2      a425f92c199eb576938df686728acd20         174000   \n",
            "3      522620dcb18a6b31cd7bdf73665113a9         154000   \n",
            "4      25e6ffe976bd75618accfe16cefcbd0d         147000   \n",
            "...                                 ...            ...   \n",
            "49994  7ddcbb64b5bc1ef36ca8c151f6ec77df         172000   \n",
            "49995  4d6d651bd7684af3fffabd5f08d12e5a         130000   \n",
            "49996  955fee9216a65b617aa5c0531780ce60          14000   \n",
            "49997  955fee9216a65b617aa5c0531780ce60         108000   \n",
            "49998  1900267e848ceeba8fa32d80c1a5f5a8         189000   \n",
            "\n",
            "                            customer_id order_status purchase_date  \\\n",
            "0      08c5351a6aca1c1589a38f244edeee9d      shipped    2016-09-05   \n",
            "1      08c5351a6aca1c1589a38f244edeee9d      shipped    2016-09-05   \n",
            "2      683c54fc24d40ee9f8a6fc179fd9856c     canceled    2016-09-05   \n",
            "3      355077684019f7f60a031656bd7262b8    delivered    2016-10-03   \n",
            "4      b106b360fe2ef8849fbbd056f777b4d5     canceled    2016-10-03   \n",
            "...                                 ...          ...           ...   \n",
            "49994  1642b8087a8ca0c8592becff7e183c98    delivered    2017-12-15   \n",
            "49995  431bbb57d52f3141ab2f33a6a4cf00a6    delivered    2017-12-15   \n",
            "49996  71f8cd490677ee95362201588c0eaff4    delivered    2017-12-15   \n",
            "49997  71f8cd490677ee95362201588c0eaff4    delivered    2017-12-15   \n",
            "49998  60d2d93a97ec1ad751f2ddce9249ba2a    delivered    2017-12-15   \n",
            "\n",
            "          payment_type product_category_name  product_weight_gram  \n",
            "0      virtual account               fashion               1800.0  \n",
            "1      virtual account            automotive               1400.0  \n",
            "2             e-wallet                  toys                700.0  \n",
            "3             e-wallet             utilities                300.0  \n",
            "4             e-wallet               fashion                500.0  \n",
            "...                ...                   ...                  ...  \n",
            "49994         e-wallet            automotive               2425.0  \n",
            "49995       debit card                beauty               2350.0  \n",
            "49996       debit card                gadget               2600.0  \n",
            "49997         e-wallet                gadget               2600.0  \n",
            "49998      credit card                beauty               1450.0  \n",
            "\n",
            "[49999 rows x 12 columns]\n"
          ]
        }
      ]
    },
    {
      "cell_type": "markdown",
      "source": [
        "## Melihat struktur kolom dan baris dari data frame\n",
        "- Menggunakan fungsi shape\n",
        "- Output : (x, y) -> x : baris | y : kolom"
      ],
      "metadata": {
        "id": "6_-8sQAAvM0G"
      }
    },
    {
      "cell_type": "code",
      "source": [
        "print(order_df.shape)"
      ],
      "metadata": {
        "colab": {
          "base_uri": "https://localhost:8080/"
        },
        "id": "Dub4UzUxvTBa",
        "outputId": "4a0f0d74-c709-42bc-9029-57b2c382de61"
      },
      "execution_count": 4,
      "outputs": [
        {
          "output_type": "stream",
          "name": "stdout",
          "text": [
            "(49999, 12)\n"
          ]
        }
      ]
    },
    {
      "cell_type": "markdown",
      "source": [
        "## Melihat preview data dari data frame\n",
        "- head() : Display 5 baris teratas\n",
        "- tail() : Display 5 baris terbawah"
      ],
      "metadata": {
        "id": "i5TG0w0Gvzyn"
      }
    },
    {
      "cell_type": "code",
      "source": [
        "print(order_df.head())"
      ],
      "metadata": {
        "colab": {
          "base_uri": "https://localhost:8080/"
        },
        "id": "P96CTpaZv_pQ",
        "outputId": "f244575e-84f5-4ac0-c06d-0eda845a8159"
      },
      "execution_count": 7,
      "outputs": [
        {
          "output_type": "stream",
          "name": "stdout",
          "text": [
            "                           order_id  quantity  \\\n",
            "0  2e7a8482f6fb09756ca50c10d7bfc047         2   \n",
            "1  2e7a8482f6fb09756ca50c10d7bfc047         1   \n",
            "2  e5fa5a7210941f7d56d0208e4e071d35         1   \n",
            "3  3b697a20d9e427646d92567910af6d57         1   \n",
            "4  71303d7e93b399f5bcd537d124c0bcfa         1   \n",
            "\n",
            "                         product_id    price  \\\n",
            "0  f293394c72c9b5fafd7023301fc21fc2  1489000   \n",
            "1  c1488892604e4ba5cff5b4eb4d595400  1756000   \n",
            "2  f3c2d01a84c947b078e32bbef0718962  1707000   \n",
            "3  3ae08df6bcbfe23586dd431c40bddbb7  3071000   \n",
            "4  d2998d7ced12f83f9b832f33cf6507b6  3833000   \n",
            "\n",
            "                          seller_id  freight_value  \\\n",
            "0  1554a68530182680ad5c8b042c3ab563          28000   \n",
            "1  1554a68530182680ad5c8b042c3ab563          45000   \n",
            "2  a425f92c199eb576938df686728acd20         174000   \n",
            "3  522620dcb18a6b31cd7bdf73665113a9         154000   \n",
            "4  25e6ffe976bd75618accfe16cefcbd0d         147000   \n",
            "\n",
            "                        customer_id order_status purchase_date  \\\n",
            "0  08c5351a6aca1c1589a38f244edeee9d      shipped    2016-09-05   \n",
            "1  08c5351a6aca1c1589a38f244edeee9d      shipped    2016-09-05   \n",
            "2  683c54fc24d40ee9f8a6fc179fd9856c     canceled    2016-09-05   \n",
            "3  355077684019f7f60a031656bd7262b8    delivered    2016-10-03   \n",
            "4  b106b360fe2ef8849fbbd056f777b4d5     canceled    2016-10-03   \n",
            "\n",
            "      payment_type product_category_name  product_weight_gram  \n",
            "0  virtual account               fashion               1800.0  \n",
            "1  virtual account            automotive               1400.0  \n",
            "2         e-wallet                  toys                700.0  \n",
            "3         e-wallet             utilities                300.0  \n",
            "4         e-wallet               fashion                500.0  \n"
          ]
        }
      ]
    },
    {
      "cell_type": "code",
      "source": [
        "print(order_df.tail())"
      ],
      "metadata": {
        "colab": {
          "base_uri": "https://localhost:8080/"
        },
        "id": "0JqMFekAwEhD",
        "outputId": "be745b29-5884-47fb-960f-119522f106b7"
      },
      "execution_count": 8,
      "outputs": [
        {
          "output_type": "stream",
          "name": "stdout",
          "text": [
            "                               order_id  quantity  \\\n",
            "49994  ec88157ad03aa203c3fdfe7bace5ab6b         1   \n",
            "49995  ed60085e92e2aa3debf49159deb34da7         1   \n",
            "49996  ed98c37d860890f940e2acd83629fdd1         2   \n",
            "49997  ed98c37d860890f940e2acd83629fdd1         1   \n",
            "49998  ede4ebbb6e36cbd377eabcc7f5229575         1   \n",
            "\n",
            "                             product_id    price  \\\n",
            "49994  165f86fe8b799a708a20ee4ba125c289  3077000   \n",
            "49995  6e835aea84ae8eb68b8c14878dd43b30  1277000   \n",
            "49996  aca2eb7d00ea1a7b8ebd4e68314663af   486000   \n",
            "49997  aca2eb7d00ea1a7b8ebd4e68314663af   830000   \n",
            "49998  2b0ee2d07306f7c9ac55a43166e9bb4b   215000   \n",
            "\n",
            "                              seller_id  freight_value  \\\n",
            "49994  7ddcbb64b5bc1ef36ca8c151f6ec77df         172000   \n",
            "49995  4d6d651bd7684af3fffabd5f08d12e5a         130000   \n",
            "49996  955fee9216a65b617aa5c0531780ce60          14000   \n",
            "49997  955fee9216a65b617aa5c0531780ce60         108000   \n",
            "49998  1900267e848ceeba8fa32d80c1a5f5a8         189000   \n",
            "\n",
            "                            customer_id order_status purchase_date  \\\n",
            "49994  1642b8087a8ca0c8592becff7e183c98    delivered    2017-12-15   \n",
            "49995  431bbb57d52f3141ab2f33a6a4cf00a6    delivered    2017-12-15   \n",
            "49996  71f8cd490677ee95362201588c0eaff4    delivered    2017-12-15   \n",
            "49997  71f8cd490677ee95362201588c0eaff4    delivered    2017-12-15   \n",
            "49998  60d2d93a97ec1ad751f2ddce9249ba2a    delivered    2017-12-15   \n",
            "\n",
            "      payment_type product_category_name  product_weight_gram  \n",
            "49994     e-wallet            automotive               2425.0  \n",
            "49995   debit card                beauty               2350.0  \n",
            "49996   debit card                gadget               2600.0  \n",
            "49997     e-wallet                gadget               2600.0  \n",
            "49998  credit card                beauty               1450.0  \n"
          ]
        }
      ]
    },
    {
      "cell_type": "markdown",
      "source": [
        "# Statistik Deskriptif dari Data Frame\n",
        "\n",
        "\n"
      ],
      "metadata": {
        "id": "e3ks2Nzvwg3E"
      }
    },
    {
      "cell_type": "markdown",
      "source": [
        "## Dataframe yang dipakai\n",
        "- [nama_dataframe] : nilai_skor_df\n",
        "![part_1_1.png](data:image/png;base64,iVBORw0KGgoAAAANSUhEUgAABH4AAAIoCAYAAAFotRxfAAAAAXNSR0IArs4c6QAAAARnQU1BAACxjwv8YQUAAAAJcEhZcwAADsMAAA7DAcdvqGQAAKCzSURBVHhe7d0HmBRF2sBxco4SBJGoCKioKILxRFQMiAFFTAicinqHnmcEBUUxnZ45n6KiKAqKCVRExYiKKCJBTCCgkhHJub7vra3qrenpmZ0NszPT/f89Tz3bXV0zu9tTU/PO293VZRRQDLoDdR/8HYVS6BLTgYCioAOhWOhAKJaMdKAyZfSvzRr278m2v6sw5G/PxN+fsQ5k/9kDDjhAL++6665q/fr1avPmzbq+NMnvr1y5svd3LV++3KuXsmDBgpj1bGT/rmXLlqm1a9eqs846K+bvtcsLFy7U6yUl4x1I+NdLm/zuAQMGxP0dffr0iVmvXbu2Wcouo0eP1j/lb3X/Rln//PPPzVreeknTz5jJGGj69OnePzZu3Dj9E4W3YsUKs6TUW2+9ZZbijRkzxiyVjIx3IOQ2OhCKhQ6EYqEDoVjoQCgWOhCKhQ6EYgnsQOlIOLkkQSc6dOigKlSooJczqW7dumYpdx144IFqzpw5qnv37qp9+/amNv0y0oHEjBkzSuX3pMLfgZYuXar/tkqVKqnt27frOnlhpO6WW27R61a2/A+iY8eOZqn0ZKQD2efPlp0fNALJ3+b/+2T9xBNPNGvZ8/db9u+RN2dp0b+xNDvQpEmT9PPb31GjRg39M5Pcv8ey640aNdI/DzroIPXxxx/r5QYNGuif2cT+vfZ/scfH0k3/VoLoolmzZo1Zii46EIqFDoRioQOhWOhAKBY6EIqFDoRiCexA1atXN0vpsW3bNrOkVP369c1S5jRr1kxdfPHFZi33TJgwQf8PUoT9WRriOtCGDRvMUvrcdttt+qc/eZcpbmJQ/qby5ct7y5Zdlp9Satasqdezibx23377rVkrHYEjkLvj0iHbOlC9evUS/i22w2TL35qIvRSptMV1INlRnTp10sv2QGJJczuQXBeWaf4RyHYWOYzx1FNPqUsvvVQfTHX16NHDLGWHffbZR/+U8OCyyy7Ty6UhrgMBhUEHQrHQgVAsdCAUCx0IxUIHQrHQgVAsGelAs2bNMktIB5lnqbTEdaB0v7innHKK/lmuXLms6Uj+c5xlqpQjjjjCrCn1zjvvqOHDh3vnRGerxx9/vNQz5oEj0JdffmmW0sM9XlNaJ38n42afxdatW81S3rZcsttuu5ml0hHXgWSH7dixw6yll/yu0hxuE/GPQPJ3/etf/zJreeQMhWzuTPZvK+2/Ma4DAYVBB0Kx0IFQLHQgFAsdCMVCB0Kx0IFQLHSgAixevNgsIUhgB/rqq6/MUskbOnSo/imHMmbOnJkVyTl7GZP7t7zxxhv6p0xHk2tOPvlks5R+cR2o1DOZWdCBZIIp+TuktGzZUrVp08ZsUerdd9/VP88++2z15ptv6uVsJX//oYceatZKR1wHKm3Z0oGE7UD2wsdRo0Z5E2KJbPhbk8nE35fxDoTcRgdCsdCBUCx0IBQLHQjFQgdCsdCBUCx0IBRLXAeS6UzSaezYsfpn27Zt1XnnnaeXM62wM8+vW7cuK5OKVapUKfW/K64DufeCSLfDDjvMLGWW7UD77bef/umSF8QWK1s7kP2bSvNvi+tApfrLs+RFcEegwYMHx13WI0UO/lq2A2XL32/Nmzev1P+muA4EFAYdCMVCB0Kx0IFQLKUbcSF06EAoFu8jjEIpbPE6EFBYdCAUCx0IxZLRDpRNhwBeeOEFNXny5LTdF6Q0ZOKwSsY60IABA9QHH3ygl+Wffuyxx7zlTHQs6UDye20H6tatm/e3rFy50lt+6KGH1ObNm9WIESN0u2wif5+9GYz9e+Wsh1WrVnlH6A8++GBvW0nIWAey/0TVqlVj/pk777zTLJUu6UDC/i1yKbP9G4V0dnc9G9m/zf07g+q2bNmif5YEYqAE3n77bbMU76OPPjJL2efTTz81S/nkTobpQgdCsdCBUCx0IBQLHQjFQgdCsdCBUCx0IBRLwg5kk07p4ia25Ob9559/vl7OBq1btzZL+dK9P0qCu09L69qwjI5AU6dONUvZ9QJ17NhR/z1yyEJMnDhRr//xxx96Xdx66626Lpv+bvlbfv31V7NWOvs0az7CsumFsB3IZddvuukm/VMm37R1FStW1D8zzU7RJzp37myW0qvADiQ3WEsH2fn2BahQoYL+mWn2b/J3oEqVKnnr7s8jjzxSL//vf//TP7OBfHQJ+fvc/yFdCKKLSTpXlNGBUCx0IBQLHQjFQgdCsdCBUCx0IBRLwg7kJqXSrVq1amYps5o1a2aW8pVGLqWkyN9v/wd3OZ2SjkClufOy5YWqXbu2/mn/HvnpLi9fvlz/vPnmm736bGIvDiity5Oy5iMsG16M+fPn659uh3H/Lrvubs82Tz75pFlS6rbbbjNL6ZOwA3Xq1EmXdu3amZr0Of74470UfKbZTnHLLbfon+5R7fLly2d9B7LcvzOdCKJRLHQgFAsdCMVCB0Kx0IFQLHQgFAsdCMWSsAOV5kRL9uT1bHX99debJfglHYFKM1GWLUk5OUH+ggsu0Mv2b5IO1KFDB72cLX9nIv4bxKRbRjuQzJZlVa5c2Sxljv1/+/fvr+655x69LP72t7/pn3Z7NneivfbaS/+0E2KlW4EdaMqUKWatZPn/uWx5UeTvkA5kPf/883oEkvpNmzaZ2uy3ZMmSUtmnBNEoFjoQioUOhGKhA6FY6EAoFjoQioUOhGKhA6VgzZo1Zgl+CTvQjz/+qM4880yzFg2JLi+SfZELMpGcTToCpbsDlcY/WBKkA7l/69KlS81SdolUB8rWzuP+XXLnmxkzZsSMQNn6d4us60CIl80dKBPoQCgWOhCKhQ6EYqEDoVjoQCgWOhCKhQ6EYslYB5o7d65Zyi6p5nlGjhxplrJHViUS165dm/Y/wD6/XINWGv9sYQXdM0MMGTIkrgNlw98vf8Nvv/3mLa9YsUIvp1PSESidO8X/3NnwAgj37zjggAMS/l3Z2IFE3759zVLp/E3EQCgWOhCKhQ6EYqEDoVjoQCgRdCAAGeMNQPYjDQDSyR1rGIAAlCoGIAAZwwAEZKlt27apX375xayFUyQHIDk9Rsq1115ravJI3cUXX6yniLYuvfRSXf/JJ5+YmnCTO2Xa/SP85/jJLMyyvmPHDr0u+2rs2LGqUqVKar/99tN1sv3oo4/Wy+K5557TdVdddZWpQUHcfS7Ldn3y5Ml6uVevXnpdvPrqq7quR48epibvdbn77ru9+0R27txZt9mwYYNezxaRG4DkRbC3o7Uvqghalp/16tVTu+66q162b7AwswOQkJ/+Aah58+Z63W3Tp08fb1neIHbZ/pQ3g+xDGaRsPQq2cuVKvb/cfenff7JubxIrc8W4bS1Zlv1v+/Frr71mtmRepAagChUqxLwwEtW4L5hbxLRp0/RyuXLl9M/3339f14eZOwAJd3/YZX+dOwDZfWS3C9teypFHHmlqkYy7z6TYS5dk2fZjuYeFrbN3gba355Zl65RTTtHr2fgBELkIKBF5YdwCIP0YgABkDAMQgIxhAAKQMQxAADKGAQhAxjAAAcgYBiCUqFGjRpkloGCFGoDee+89/TNXz5MZOnSoWcojJxgK9//hHCCl6tata5YSmzp1qlnKs2XLFv3Tv/8+/PBDs5TPnkCHxIL6ZBj7aZEioDD884lezLC8sMURNADJ/OoiaF8F1W3cuFE1aNBAL/stXrzYa/fDDz+oZ555Ri8PHDhQ/4RS1atX96YkX7JkianNI2c0h0XkBqCgv92ty+X/raSUxABUs2ZN/VPYG6cHtROy7K4jeF898MAD6v7779fLYVGkAQgoSQw+0cUABCBjGIAAZAwDEICMYQACkDEMQAAyhgEIQMYwAAHImEINQEEnR+Ua+bvPOusss5YnDP9XSXLPYC5ofxR1f7GfU+fuK05E/H9yryK5XU2ushN3u+RF5k2Rxw5A7iUTcmmANW/ePHXZZZfpZXef2eWC6oR/HcHc/SS3jJL1E088MTT7r9ADUBj+cf8A5P5PYXlhiyMoAvLvl0aNGumfQfsuaB/664LaIFayfSb3/AqDIkVAAFASGIAAZAwDEICMYQACkDEMQAAyhgEIQMYwAAHIGAYgABlTqAHIngi1evXqnD2RzP7dciLd559/rpdt3Y8//qiqVKmil6NMTkSUSeVffPFFb9+sXLlS/0zk+uuvN0soafY1aN++vRoxYoReztX3n1+hI6Dff/9dHXbYYeqaa64xNblp3333NUt55P9q3ry5euONN0xNdAWdCd2/f3/9U9i6TZs2qa5du+plGYB69+6trrjiCr1+4YUXqo8//lgv9+zZU61YsUIvo3DcgUb2Ya1atdTtt9+umjVrZmpzW6EGIPf2ILk6Am/dulVVrVrVrOVZtmyZWcrd/6sk2QFo7dq1au+999bLdgCaMmWK+u233/Syq0WLFvpxixYt0uv+/ch+Lbxk+1Bu2RMGRYqAJDwPm59++klt27bNrKEgX375pVlKbuzYsWYJJWH79u1qzpw5Zi33FXoAAoCSwgAEIGMYgABkDAMQgIxhAAKQMQxAADKGAQhAxhRpAJITos4880yzllvkb+/Tp0/MSV1btmzR625dlPn3g13fbbfd9M8gchnLpEmTzBpKQqI+Wbdu3dD01UIPQPYfz9UByJo6daqaMWOGWcsTlhe1uPwd3C63bNlS/xS2rnbt2voETjsAyYmqlStX1tuCngOpkf1li8uuh2V/pjwA7dixI2anSLEXxuWaRC9eovqokQFIyO135BILu1/sANSqVSv90yUDkO0XrqA6FMzdZ3bZ7ktbmjZtqutzWaEjIMtGQMOHD9c/c4F8QvtfRJd/ParsAGTZ/eJGQHIphtQPGzZMr7tfweR+YjvvvLNefumll/SHFwpPrln0X7dohaWvFnkAAgrCgI6CMAAByBgGIAAZwwAEIGMYgABkDAMQgIxhAAKQMYUegOTQqi25qFKlSnF/v9wdI9f/r5JU3H2R7HEjR45U69at08vs68Rkgv+g18DW3XXXXaYmtxVqAOrUqZOe1P2hhx4yNbntoosu0j/lBf3rr7/UM888o9ejzr0rxq+//qruuOMOvSz76aabbop5U8iy3OJILsk48sgjvTpLlv/1r395dUEDUI0aNdRpp52mGjZsqP75z3/quqi7+uqrzVL+fvLv1zAodARk2bsl5KJkL15YXtjicAegX375Rd188816WfaNLL/++uveXRmC3hTuz3Llynll9uzZgQOQ/OzRo4d+XluHvDOhN2zYELOfrLDsp0IPQPKPSznnnHP0es2aNXX0kAsSXYohF1Pa9dtuu03XRZl//1i27vLLL/e2uW0S1dkiggYg6UOyXLZsWa8u6hYsWKD3xeTJk01N/g1BpRx++OGmNrcVOQICgOJiAAKQMQxAADKGAQhAxgQOQABQ2hiAAGQEgw+AjIjJ/VAoFEq6i0XkAyAjGHwAZASDD4CMYPABkBEMPgAygsEHQEYw+ABZZMaMGWYp/CIz+Mg8KZUrVzZrcNl5ZCxZHjp0qFlDabj77ru918H/eoRVJAYfmchKZo/zv6AyRajUPf/886pixYqmNu/N57//eZjZzn7KKad463bwGTt2rF7fc8899bqQfTVmzBhdL0499VRv2ZL18uXLmzUURPZXtWrVzFreuiVT0fr3r39yNnlNLrjgAq9u8+bNerlNmzZ6PRvF/kchZV8Q+fnnn3/q5csuu0yvuzPICfn52GOPqUMOOcSrCzv5P6dPnx6zD2TwkVks3bp99tnHW5bBZ+edd9bL48eP1z/dtsccc4yeFN3WIbkffvjB24cyp7ol6+3atVP33nuvty/l52677aaee+65mDopMnOkXf/6668DP3SzReh7xu+//+7tfJkU3S7LT5k8X7Rv316v20+LXXfdVRfbNuzk/5TBp1atWnpZio18Xn75Za9OirA/V61a5S3LDQjc7VHbhyXl0EMP1fvM3Zd+bp0sT5w4Uf9s2rSprrvuuuv0era/BqHvGbLj/cXWN2vWTC/bwUfYn1Ei/7MMPnZZigw+L7zwQsx+cZdFssEHhSP77KOPPjJr+fswaF+6dbIs82bLTzv42A+MbBf6XuJ/EWRdPhmWLVuml+XuC/LTtrPLbl3Yyf9pBx852iLrMvjYr1MdO3aM2R/2Z7LBxy0o2BFHHBG43wpTZwcfEdQm20S+Z/z000+qQoUKMS+QfOf+5ptvzFq07dixQy1ZssSsFY77SY7UvP3222r79u1mLd9XX31llvIV9LqsWLFCzZ8/36xln8gOPvZ7si1yHyUApSfykQ+AzGDwAZARDD4AMoLBB0BGMPgAyAgGHwAZweADICMYfABkBIMPgIxg8AGQEQw+ADKCwQdARjD4AMgIBh8U26hRo8wSkLoCB58BAwZk7WREqejevbuqUqVKzGyFQpb//ve/5/T/VlKC9kFh9gv7sGTIfjz99NNj9qcs9+nTJ5T7OKX/qFKlSmYp9/hfSNG3b1/9U/z22296MvQoS6VjL1682Czle/fdd/VP9/Fz587VE5C5vvzyy8AJspCvdu3aZkmpLl266J92Hm1LZt0Mk9APPi77JvG/2Q4++GCzFE1Bg4+t69WrV+B+s8uNGzeO2/7GG294U3raOpmS9bjjjtPL9jZF//73v9WmTZv0ctTJjIO9e/fWy+5+tqZOnRq6GwrG/5cBwjD4uP+D/8Vt27atWYqmoM5u62TwsUaOHKknK5fbuLhsW/lpb03kt2jRoph27k/kkf1x8sknB+6XMO6rlP6jXB98OnfuHPOpIfdBcl155ZVmKZqSdfagwefyyy83NXncx2/btk2v9+/fX6+72+yy5OGEuy3q3H0h8zV/+umnZi28+yml/yqXB58HHnhA3X///WYtj+QfzjvvPL2811576Z9RFtS5bV3Q4CPkZnRCJtq3bd3n8ddNmTIlcDvyuPvD/XAM835K6T/zDz5y9ChXyIvnltGjR+v6G2+8Ua/LrZKjzr+PbJ1INPi89dZbus369eu9tpJodp9D2Nsqr1mzJqbeXUYeGXRkv8idRsWkSZP0ulvChB6AjJBbLSPaGHxQ6nbffXezhChj8AGQEQw+ADKCwQdARjD4AMgIBh8AGcHgAyAjGHwAZASDD4CMYPABkBEMPgAygsEHQEYw+ADICAYfABlR4OAjk3HJPCJPPPGEqclNZ5xxhlnKI3PTyP8lc+NGXbNmzXRp06ZNzAx6QcI2p0y2sK+BLV27dg2sD5OkPemaa65RH330kV7u1q2b+v777/VyLpE3S61atWLeNMuWLfMGo4YNG+qfUebuGxmUd9ttN7MWr6iDD4NW6ty7VoR5vyX9zzZs2GCWlFqwYIF65plnzFru8b/Bli9frpdlZsOg28JEib+D23U79akUmZtZyHLz5s31z8qVK+s6IbNd2rZi9uzZ+o4Vsr7nnnvGbENy7n4K8z5L+T/L9Z3g//vLli2r6xo0aGBqosvdNzKgjB07Vi+79XbZrevQoYP+KfM4T5w4US/L3SvkQ0oGn+uuu07XCfdxSEymUJ05c6ZZy9tv/fr10z/vu+8+UxsOKfWIMHQc93945ZVX1IQJE/Sy3JF1xYoVejmqZN/IfaOkuDemO/HEE81S/v7z94V77rlHVahQQdfbsssuu+jBZ/LkyaZVOPpQaUi2n8K2Dwv8byRfEoYbu7kvnEQ9rkMOOcQsRZO7bwpadusef/xx/fX1sssuMzX5GHwKT77aXnDBBWYtz1FHHWWWwrcPk/43cnsZufNkp06dvCJycSf4/2ZZv/POO3lT/L+gfSPk9jjy1UqS8vYrlmyTIgl793GyPHDgQP1TcoX+wUf6TsuWLc0agrj705I6ic7l5zvvvGNqw4F3HoCMYPABkBEMPgAygsEHQEYw+ADICAYfABnB4AMgIxh8AGQEgw+AjGDwAZARDD4AMoLBB0BGMPgAyAgGHwAZweADICNSGny++uors5S73Pmore+++84sIciiRYvMUryguWeQHnPnzjVL4ZK0B61bt867u0Oudjb5u2Xye7ssZNDZf//99TJvorx9sHHjRj3/sizb2wldf/31+mcQ9lv6yN1Vvv32W71s93Pjxo3VvHnz9HJYJO1Bs2bNMktK/fHHH+rll182a7nDfZPYZff/euGFF5jD2TeQ2PWKFSvqn6JJkyaB+1K47aSeSfmLx923p59+ulnKu0NImMT2ugS++OKLmB2Sq9z/YceOHeqDDz4Ixf9VXO4+kKhn991318u23t3urwvaJtxlFE7//v3NUt5+fOmll0K5P1P+j3L9n0/09/MmydsHthx88MGmNn/fBO0j2961zz77mCX2a1H595tdP+igg/QtisIkaQ9ZsmSJWcrjzqSfS/wvqP//Gj58uFmKJnf/BC37958I2taoUSOzFPwYFKxKlSpmSakRI0boXJwVtn2a9L957733vNvKVKtWTf8UPXv2NEvZz70PlXXDDTeo888/Xy/zJondB/J1tHr16nrZ1sun7uuvv66XbZ39KblA/0EJObLoPidSE7TPbN2QIUP0zQPDJKUeIjfZc61evdos5Ta5nS9S98knn5ilxNavX6+P1qDk2LvBhg0fTwAygsEHQEYw+ADICAYfABnB4AMgIxh8AGQEgw+AjGDwAZARDD4AMoLBB0BGMPgAyAgGHwAZweADICMYfABkBIMPimzUqFFmCSi8lAefXJ0cqnv37np2uPbt28f8DyeddBITXhmyH9zZHG+66Sa1adMmvZxsH7H/StZdd92l9+muu+5qavKFcV+n9B/JP56r/7z7d9tlO9lVGF/QovC/vu7g4/rrr7/UypUrzRr7r6RVrlzZLMXyvz5hUeB/JBGCCMM/7/8fePPksfvB/gyKfOSnvcWQv739KVOqXnXVVXq5fPny+idSs9dee+l7dcm+7Natm6nNu2HnnDlzvH0cJgX+R/75fHNV0D2PwviCFoXdDz169FCvvvpqwsHHT+r89cnaIzHZXzaq7NKlS8KBPkyS/kfyD/tLLurcubOaMWOGWcuXq/9PSXP3gywXZvD59ddfVb169UxNfrtTTz1V/0Rq/PtXJouXOn8Jk5T/m1z9xx944AF1//33m7VYYXsxi8q/H2Q92eDjr5O7V/z+++96WbhtkRq5Rc5pp52ml9u2bavvIuIK4z5N+T9y/3n33kLZTv5ut4wePdps4U1i+ffDnnvuGTf4iLp168asp7KM1L344ot63wXdJSSM+5ReghIln+D33HOPWQMSY/BBifn+++/VkUceadaA5Bh8AGQEgw+AjGDwAZARDD4AMoLBB0BGMPgAyAgGHwAZweADICMYfABkBIMPgIxg8AGQEQw+ADKCwQdARhQ4+Mg8IrbUqlXL1OYOmeLB/v2DBg0ytbH/l52nOqrcfXHRRReZ2sKpWLGiWYonz+v+RDD7GkycONHUKNW0aVOvPmxSGnxymfv3J1qOOndfzJo1S7Vq1cqslQz7/OzzxBL1zV122cUsqdBNV1Jgb5Ad8dhjj+nbpuQ6/wt83333qc2bN5ua6HL3i7Drb7zxhqpQoYIaMGCAV9egQQO9fPHFF8c8rmPHjvpnzZo19QToZcuW1XddELad216W77zzzpi6KHP3g3sPtXLlyumfq1atUldeeaVeDosCX3l7C5Q2bdqoG2+8US/noqeeeko9+OCDZk2p+vXr65+1a9dWkydP1stR5R8AggYEWyeDj3XGGWeYpfzBx32sXfb/dPXt29csRZukNBYvXqyX3f00ePBgvR6073Jdof6jXN0By5cvV40aNTJr8cL4whaG//+3608//bTO5YwdO9arcwef/v37m6X8wUciHvm0tkXYx7q/R5YfffRRddRRR5ka9O7dW+fcZAJ5IbfSkejccvdfGBT43wwZMsQs5e4/L28IlySh33vvPbOWH9pGlfu6zps3z4sK/YOFKGjwCeojts7+rFOnjv4pDj30ULMEy+4nuSPI66+/rpdF0L7NZQX+N/K1RP5p9x/PpZ1g/3Zb7N0r5OukrYs6d/+ccsopplbpr6PuNlHQ4PPFF1947adNm6br7GPtT2Hb3HzzzWr27NmmNtrsPnHJB2dQfRiE7z8CkBMYfABkBIMPgIxg8AGQEQw+ADKCwQdARjD4AMgIBh8AGcHgAyAjGHwAZASDDwAAiBSCHwAAEClxwU/3wd+ZJQAAgNwWFNcQ/AAAgNAi+AEAAJFC8AMAACKF4AcAAEQKwQ8AAIgUgh8AABApBD8R0KJFC1WmTBld3nrrLVMLJPfCCy94/aZ27dqmNt/27du97UOHDjW1QDg99dRTXn93S8WKFdXGjRtNK+QKgp+QGzlyZNybFUiFG/wE9R2CH0RFovfA888/79V3797d1CIXEPyEnH1jvvjii6pBgwbeehC7LVFxBW2Xcswxx5gWyHVu8NO6dWtvecOGDXp7ouCnXbt2Xr2/bNu2zbTK70PVq1ePaSOlXLlyqmrVqnH1++yzj3l0nsaNG8e1kSLfxoGS4vYtyQAVpFOnTjGPcYtrt912C2wjZceOHaZV/u+vV6+et7zffvvpbT/99JNX5y8ffvihboN4BD8hZt8AVapUMTX5dQcddJCpyWPrpbjat28fV2/Xjz76aFOTx9YPGjTI1CCXucHP9OnT1fvvv++tSzAdFPzIgL1582ZdXLadFMuu9+nTx9Qo9f3333v177zzjqlV6oYbbvDqLbvu1gnp71JXtmxZUwMU36pVq2L6nC116tQxLfIccMAB3jZXjRo1dJ3tlxUqVAhsd/HFF8fV2/Xy5cubmjyzZ8/2tn366aemVukvGbbefllBLIKfkNpzzz29zp+oTJw40bTOf3Odc845piaPfNO228SPP/7orScq1apV022R2/zBj3AH1c6dO3vLbuZHsi62XoqbcZRi2XU3+HE/YD744ANTq9RDDz3k1Vt2PVkB0qlv375eXzvppJN0Xar9z7aRTKlr69at3rbRo0frOrvetGlTvW6dffbZ3rZE5c477zSt4SL4CaFXXnnF6/jnn3+++s9//hNTdt55Z2+75R5i2LRpk6lVqlatWnFt7bpbJxYtWsS5HyESFPxYbh+QYl/3k08+2atzuW0tu54o+JFMkxUU/LhB1e+//25q88hJ/kBJ2LJli9fP3Cy6WLlypbfNHoa69NJLvbp169bpOmHrbPbmsMMO8+r+/PNPXSdq1qzp1Vt23R/8uF9GZFx3PfDAA2rhwoVmDX4EPyFk3wz+N6rLtpFiPf300zH1UuTNZpdd8q3cbWdLr169TAvkumTBj2jSpIm33Q163UOltrjnAVl2PVHw895775na4OBHrF27Vp8fZLfZ0rBhQ9MCKBnDhw+P62e2jBs3zrTKI1d/yeEtf7vrrrvOtMgj/dffRor/S6St9wc/lhtwuWXMmDGmBfwIfuBp06aNevvtt82aUj/88IP3JvJ/qwAAIFcR/MAzatSomG8NUuRwmHsYDACAXEfwAwAAIoXgBwAARArBDwAAiBSCHwAAECkEPwAAIFIIfgAAQKQQ/AAAgEgh+AEAAJFC8AMAACKF4AcAAEQKwQ8AAIgUgh8AABApBD8AACBS0h78LFq0SO2xxx5mDaXphx9+UK1bt9Z3Zy9btqw688wzzZZ4Dz74oGrcuLFuK495//33zRZEWbNmzVT79u3NWmLVqlVTl1xyiVkrGdIXpQDZ4txzz9VjqfTLtm3bqg0bNpgtsQoz9iIz0hL82EGrY8eOqkKFCgxgpWzJkiV6n3ft2tXU5Pn00091fe/evU2NUjt27NB15513nqnJ06ZNG1436D5Qt25ds1a65HfTB5EN/vnPf+q+OGPGDFOTx99HCzP2IrPSnvmpVKlSTOdA+m3atCnhNxJ5LVq0aGHWlNpzzz0Tvj5Sf8UVV5g1RJH0gVSCH2knX3asXr166bpvv/1W/3TLU089ZVrlK1++fEybDh06eMsu6Y9uOyk1atQwW/PdfPPNSdu99tpruu7pp582NXm2bdum68844wxTAyjVsmVL3S/8/F8SCzP2IrMIfiJEXgf/B4XUJXp9pF5Su4gu6QPFCX7km7Drqquuiulvv/32m173Zx6F1Ltthw0bFrNuNWnSRBfr8ssv18XP/3ytWrWKez5/G8BasGCB1z9s6d+/v9manLQNCtKROQQ/EWDP5fF/EAn7Jg4i9UceeaRZQxRJHyhO8OM3cuRIXb9u3Tq93qNHj8B2Qur926ZPn+7VS6lTp46aPXu22ZrP/v6g4pJ1GaPEQw89pNflUDDg2meffXTf2L59u6nJI+e6+fuUK9nYi8wi+Amxfv366X0/fvx4UxPvggsuCHx9li5dqutHjx5tahBF0gfSGfy8+eabev2nn37S6y6pd5/jxx9/1MWvXLlyMe1kWQ6j+fmfT8ghCql75pln9M/hw4ebLUA+6Rty6MtP+q1se/fdd01NnlTGXmRWRoOfdu3a6W3+aBrFM2fOHL1f5QOgU6dOgWXixImmtdJX40n73XbbTd16662qUaNGep0rFCD9QK5WkW+wQcWSdkUJfsRNN93k/Z6+ffuqevXq6XVbrL/++surk6BdDm3ZK2/cw1z2+aScddZZ+pCYXZfid/XVV+t6CaKAIGvWrPH6j/TR66+/XtWsWVOvn3POOaZV4cdeZE7agx8AyGbPPfec/sACEB0EPwAiyWalpaxfv97UAogCgh8AABApBD8AACBSCH4AAECkEPwAAIBIIfgBAACRQvADAAAiheAHAABECsEPAACIFIIfAAAQKQQ/AAAgUgh+AABApBD8AACASCH4AQAAkULwA6DUjRo1ShcAyIS0BD/ly5dXZcqUUU2bNlUXXXSRqlu3rl7feeedTQuUhkceeUTvd1sS2X333b3X58ILL1RVqlTR63379jUtEFVu/wkqRVXcxxfWvvvuqwtQWG+88YaqV69ewiL9+LzzzjOt89j+HVSQHUo8+KlQoULgC7xjxw5dP3jwYFODdLr77rvNklK33XZbwjfdvffeq7dt377d1OT58MMPdf3MmTNNDaJI+kCDBg3MWizZlqhf/frrr+qtt94ya/H8j5W227ZtM2vBNmzYoD+INm3aZGoS++yzz9Sff/5p1pL/rUBRSZ9q27atWctjP+umTp1qapCN0pL5CXLCCScw+GRIsuBHyLZq1aqZtTxSV7ZsWbOGqJJ+kGrws2rVKr0umUNLAhB/O2HrOnXqpD8sxIgRI3SdP0NcsWJFXb9gwQK9Lu39X7Jmz57tPedVV12l1qxZozZu3Gi2xv+tQHFJf6pcubJZy/fkk0/qbSeeeKLX76RMmjTJtEA2SHvws3XrVv3CV69e3dSgtBUU/HTr1k1vb9KkierXr5+qUaOGXr///vtNC0SV9INERbIwLqmrU6eOWYsl2ySIsexz+EmmUeqnTZum1zt37hzYTkj9WWedpZdt8DN58mS97ifbEj0PUFj21I5Eli5dapby0QezS1qDn3LlyvFiZ4FkwU+iw5RC6o8++mizhiiSPuDP/AwbNkzX+w9rSd3BBx9s1mLJNimWf92SDw2pHzNmjF6X8waD2vkR/KC01K9fv0h96csvv9SP+/rrr00NMiktwU+bNm30i7xs2TJTg0xKFvycccYZetu8efNMTZ5nn31W1z/xxBOmBlEkfSDosNcLL7ygt0kgZN166626zmZtLDkZ1F8v61J+//13U5PH1ls2c9y4cWNTk69Zs2ZmieAHpeOAAw4osB/ZC0b86IPZpcSDn0MPPdR7kRMVa/jw4THnByA9CjrsJewHlC3yGED6QqJzfuSETtneo0cPU5NHzrmxhwWkjBs3zmzJJ/WHH364Wrx4sfdNWsaCzz//3LSIJef7yGFZ+5wyzrgKCn5EzZo1vccDhXXOOefovrN582ZTk9zee+/t9bdGjRqplStXmi3IBmnJ/AAAAGQrgh8AABApBD8AACBSCH4AAECkEPwAAIBIIfgBAACRQvADAAAiheAHAABECsEPAACIFIIfAAAQKQQ/AAAgUgh+AABApBD8AACASCH4AQAAkULwAwAAIiUtwc9HH32kypQpE1eWLVtmWiDdNm7cqCpVqhT3GgwaNMi0yPe///0vrl2VKlXU9u3bTQtElb9fuOWrr74yrfJ06tRJ1//111+mJnXyuOuvv96sAdlj7NixMf0+qLRr1860ztO0adO4NnfddZfZimxQ4sHPySefrF9ov9dee03Xr1692tQgXeybde7cuaYmn9S3bdvWrClVp06dwNfr8ssvD6xHtEgfaNCggVmLJdtKqo/I8xD8INfstNNOce8BWd9ll13MWj6pP/LII80aMi0tmZ8gffr00S/+tm3bTA0yQV6Diy66yKwl1qZNm7g3NaJH+kCqwU///v3j+syUKVO8dn379lW9evWKe5yQdTf4kQ8JqXv44YdNTZ7KlSvreumfksWsWbOmXu/SpYtpAZSO/fbbL64fC6krV66cWcuzatUqXX/llVeaGmRaWoMfebFtOeWUU0wtMuGpp57Sr8ODDz5oamKtXbs25vW67rrrzBZEmfSFChUqqIMPPliX/fffP6afuPzBz/fff6/XX3/9dVOTTw4LNGnSxKzlBz9XXHGFXu7Zs6fZkk/q3ed3Sb0EREBpOPPMMxP2RTF48GCvv9qyYsUKsxXZoNQyP0uXLtUd4LbbbjM1KA3Lly/X+71Ro0amJjXjxo3Tj5Nv7ogu6QP+zI/Ntvj5g58bbrghsF0QaSfFPvfVV19ttuSTevnQCWIfD6TbsGHDdF+T8yr9Vq5cqbfdd999piYffTS7lHjwk2hg3Lp1q65/5JFHTA3STfZ32bJlzVqwRG/IadOm6fo5c+aYGkSR9IGgw16tWrXS29atW2dqgg97yfrxxx9v1vJJvdtWlt3DXv7tokaNGnF1YuHChbp+4MCBpgZIj5deekn3tdmzZ5uaWL///rveHpTtlPqg/ovMSEvm55prrvFeaLfMnDnTtMhjA6WiXB2CxCZNmhS37/1l9OjRprVSp556atx2CZrkODWiTfpConN+unbtqrfPmjVLrwcFP6JDhw5ev7LlxRdfNFvzSJ3/hOehQ4fqeskgWfKh4z6PLW4QBqTDt99+q/va008/bWqCyUU9Mn76++jhhx9uWiAbpCX4AQAAyFYEPwAAIFIIfgAAQKQQ/AAAgEgh+AEAAJFC8AMAACKF4AcAAEQKwQ8AAIgUgh8AABApBD8AACBSCH4AAECkEPwAAIBIIfgBAACRQvADAAAiheAHAABESqkEPx9//LFq1qyZGjhwoKlBafjhhx9U69atVZkyZVTZsmXVmWeeabYk9s0336j69eubNUSdvG+bN29u1uLde++9us3mzZtNjVIXXXSRqlatmllL3Y8//qj76qRJk0wNkJ2ee+45dcwxx6iOHTuamuTkPSIF2SPtwc/++++vBzQpqXz4oviWLFmi93fXrl1NTZ5PP/1U1/fu3dvUKLVo0SLv9enevbu3DAjbH6Rs377d1Oa76aab9LZNmzaZmqIj+EE2e/LJJ3X/bNCggakp2Lhx47z3jxRkj7QGP/Jit2zZ0lsm+Ckd8kG0YcMGsxZLXocWLVqYtXi8SeGSvlC3bl3Vv39/vfz444+bLXmCgh95z/v70LZt23Sdv0hAbgUFP3PmzNF1O+20k17fb7/99Lrffffdp+ulPVDSnn32Wd2/pB+narfddvP6qvwM6rfInLQEPytXrtQv9PPPP29q8l58gp/MktegRo0aZi0Yb1K4pC9I8COWLVum1+vVq6fXRSrBz5gxY/T6hx9+aGrySf0dd9yhl93gZ/Xq1XpZDtf6Sb0Ul6wfcsghZg0oWbbPSRkwYIB677331OGHH67XGzdubFrlk/q99trLrAX3WWRWiQc/l112mX6R/SlyqSP4yQx5c8r+l8NhBeFNCpf0BRv8WG4fSSX4cdsnY4MftwTZunWr3nb11Vfr9YYNGyZsC5SEZP1R6h9++GG9vGDBAr3+5ptv6nUr2eORGSUa/MigJNFwUJEXXo6VyvKECRPMI5BO/fr10/t9/PjxpqZgvEnhkr7gD36EZFlkm5z0KT+TBT///Oc/E/Yp6ZtTpkzRy/7DXtddd51eHzRokF533XLLLXrb7Nmz9c9Eh3mBktCpU6fAPmwP544dO1av+z/3bJE2UmT59NNP122RWSWe+UlEXnh/5qddu3a6PuhEShSdPU+ifPny+k0bVCZOnGhax7JvUkBIXwgKfsT06dO9/lLQOT+nnXaarpMsjWSLunXrptfbtGljWiQ+4Vnq/M8nKlWqpOsvvvhiUwOkz7HHHqv7m/ThIUOG6MO/si5fMguSqA8jc0ot+AGAkrT77rvzgQKgSAh+AOSMr7/+2vsWTeADoKgIfgAAQKQQ/AAAgEgh+AEAAJFC8AMAACKF4AcAAEQKwQ8AAIgUgh8AABApBD8AACBSCH4AAECkEPwAAIBIIfgBAACRQvADAAAiheAHAABECsFPBMyaNUtt2LDBrAG55a+//jJLhTNy5Eh95/d169aZmv8f3LgbPIrp559/VuvXrzdryc2dOzfltihdaQl+Zs6cqQeY8ePHq4kTJ8aU999/37RCOtlBfsGCBaZGqUaNGum6zz//3NTkefDBB3W9/7WSMn36dNMKUST9okGDBmrjxo26vPbaa6pr1666vly5cqZVet13333qp59+MmupI/hBSbFjZJcuXUyNUvXq1dN1ixYtMjV52rdvr+tHjBhhapRq3Lixrps3b56pQaalJfj5xz/+wQCTQaecckrC/S/1/g+tPffck9cLgaRfSPATpF27doH9RoKNJk2a6G1SpJ2fbK9YsaJePu6447y2PXv21HUuaXfQQQeZtXy33nqr97gWLVqotWvXmi15ChP8XHnlld42Ka+88orZAuT1m3PPPdes5TvmmGPi+pOsn3766WYtn9RXqlTJrCHT0hL8VKhQQb/Q/tK6dWvTApmw77776tfBz/862SIfSog26QeJgh8h2yXYtmzfcS1ZskTX3X777aZG6eeUun/961+mJo98OPgfL+sdO3Y0a0pdffXVum727NmmJo/UlS1b1qylFvw8+eSTen3OnDmmJk+NGjVi2iHapC/stttuZi3fsGHD9LYdO3aYGqVWrFih62rVqqVeeukl3e9lvVmzZqYFskFagp9EpANIQen69ttv9X4/+OCDTU1qeL0gr39BwU+PHj3MWp5t27apE088UdWpU8frQ1IOOOAA0yI/+PHr379/XL2su8GPrFevXl0H826RDyfZJofnRGEyP6NHj/YOV7gFENKnbZ+oXLmy9wW/W7ducf3E9sMPPvjA1CiduZS6b775xtQg00o8+Nm+fbtauXJlTCRsJco8ID22bt2q93fVqlVNTbxNmzbp1yuIPJbXK9rk9U8U/Oy99956u/tel3UJIvykviSDn1122cWsJZZK8HPZZZfp9S1btpiaPEF/B+AnfUTO57HkPB+pswG4S/o/fSp7pCXz07BhQ/0iu6nkk08+Wdc988wzpkapKVOmBB7jR/HJeT2pvtFsWzcIsudz/Pjjj6YGUSR9wA1+5GT57t276/qg/mXr7fk3Cxcu9OrctH9xgp8///xT1/mDejms7j42leBHDrvJ+sUXX2xqlOrdu3dcO0BIkDxu3Dh9Hpr0j0Tn9kiRw73WkCFDdF2/fv1MDTItLcGPS67uksv9Elm9erVZQqZJaleu0JMPLKA45IrPL774wqylj1xGLOdVFOVqMJdkQOVDLegbO1AUchRErpj1n0+G7JD24AcAACCbEPwAAIBIIfgBAACRQvADAAAiheAHAABECsEPAACIFIIfAAAQKSkHPxQKhUKhUChhKX5xwQ8AAECYEfwAAIBIIfgBAACRQvADAAAiheAHAABECsEPAACIlJjg5/n3lgReIkahUCgUCoWSi2XQ/34xUU6+uOBHCgAAQK777pd1BD8AACA6CH4AAECkEPwAAIBIIfgBAACRQvADAAAiheAHAABECsEPAACIFIIfAAAQKQQ/AAAgUgh+AABApBD8AACASCH4AQAAkULwAwBAISxevFh9/vnnasOGDaYGuYbgJwJ27NihypQp4xUgVW6/WbIkfgxwtwNh17hx45g+b8v1119vWiBXEPxEQL9+/WLeqH/++afZAiTn9hspfsm2AWHi9vWgctppp5mWyAUEPxHgf5N27tzZbAGS8/ed22+/3WzJ424Dwurpp5/2+vn5559vavPwHshNBD8h9+uvv3pvzLPPPrvAN+mnn36qatasqdvUrVtXbdy4UVWsWFGX6667zrTKM3fuXFWrVi3vObt06WK2ICzsa+sWV6J6ceyxx3rbypUrp1566SWzJc8pp5zi9S2x//77e23/+9//6jrpY/ZQQ/ny5dWCBQt0vWvz5s06oLe/q02bNpyLgRI1YMAAr39t27bN1Oa5+eabvW0rV640tXmOPvpob1udOnUC++/27dtVt27dvHY777yzmj17ttma59577415r+y66666reu5557znkPeK1dddZXZgiAEPyHXunVr7w0hb1q7/M4775gW+W655RZve1C59tprTUulrr766sA2UhAeQa9vy5Ytzdbg4Gf58uUx9W457LDDTCulTjzxxMA2tlxxxRWB9XIOm/XTTz8FtpHy4YcfmlZA8Xz22Wdev6pSpYoOWJKRgNzti2555JFHTCulz6MLaiPlyCOPNK2U/jJg68uWLestW4nORbLBEuIR/IScfRP07NkzZl3ewH52m5SJEyfqbx9uZscGP5INsnU1atTQb+ApU6Z4dbvvvrtuh9xnX1Mpt912m7f8ww8/xG23ZMC1datXr9Z1bhBuucGPZGvkCppXXnnFq5PSo0cPtWbNGjVkyBCv7oILLjDPEPv7v/76a7Vw4UJVtWpVrw4oKQ0aNIjpb5JdefXVV83WWLVr1/bavf/++7pvB/VLuy5lwoQJ6vfff9cZd1v3/fff63Zu8GPLTjvtpLc99NBDXt0xxxyjA6+77rrLqxsxYoRuh1gEPyE2evRo7w2wdu1aXfePf/zDq3O9/fbbXr3/DW3rbfDTq1cvr87lZo4QDvb1tK9pQetCBl9brGnTpnntZs6cqevc4Mdl6xLVS6AkJDi3dXK41nIznBz+Qkk699xzvb7lllGjRpkWeWz9NddcY2ryDm/ZehmPly1b5q3feeedplUeW7/33nvrdTf4ee2113SdZeuluOQLrtRJpgjxCH5CTL6Z+N8U7htw8ODBplbp48P+tpatt8GPm3aVY8+21K9f36tHONjX076mf/zxh7d++eWXx223JACRb6EVKlSIaSNFsoSiqMGPnDsh5Bw0W+f2Qym23v9BAZSERx991Otjtvz73//W29xDWf5zd1z/+9//vHZ+tt5uc4MfP1svGVf3PVCpUqWEjwHBT6jZjp+sWKeffnpcnWXrbfBj15MVhEPQa9qhQ4eYev/2Dz74IKa+evXqOkVv10sq+HFP4E9U/N+ogZIk04a4/U24pwCsWLFC1wW54447Yh7nkpP+3W2pBD/JCuIR/ITUwIEDA98E/mLPyXjssce8Oj9bb4MfScUmaotwsa+z/7V26/3b7bqcL2bNmzfPqy+p4Ofll1/26rZs2aLrgHSw/UyK34033uhtW7Vqla6z65MnT9brQdzDtnYctmy9PWSVSvAj5xkhdQQ/IWXfEFL+85//xBW77ZBDDtHt3St03EvWv/32W6/eBj/333+/VycnoroOOOAAs4QwsK+zFNdTTz0Vs83dbtfl0nXr+eef9+pLKvhxz+2Ry4NdDzzwgD75GSgJzZo18/rajBkzTG2eVq1aedssu96kSRNTo9TUqVO9ens+nF2XCwIs6be2Xs4xEsmCH/dEbDlh2tWiRQuzBD+CnxBaunSp92aQuVSC2O1SrOrVq8fU+4sNfoT/XA53Xc41Qji4r7Gfvw9Ybp1cueJe/SXFnlBf3OBHSP9227vnOUgBSsKmTZti+lVQcful+wVTinuepBRLrlx06xO1Sxb8CPcx/uJeMo98BD8htN9++3kdXy4TDvKvf/3LazNp0iRTq+I+PGReFrvsBj9CLml329qS7Dg3cov7uvpJ3wraLql/t16Ke5XMeeedp9uVRPAjLr300pjH2DJmzBjTAig+CYDcy9XdEjS9h5wA7W8nXwzdearEhRdeGNjOPZRbUPAjV4+55wnZ0rBhQ9MCfgQ/iLN161b97VzepPIGtG+kJ554wrSIJXNRjB8/Xq1bt87UAHmzi8sUCqVFgm4JeObPn29qgPSQ0wFkxvLffvvN1CS2aNEifdVhQeOjtHO/iBbVRx99pAuSI/iBR96ccrm6a5dddvGCH3feFgAAchXBDzw2yAkqHTt2NK0AAMhtBD/wyGGu5s2bxwU+119/vWkBAEDuI/gBAACRQvADAAAiheAHAABECsEPAACIFIIfAAAQKQQ/AAAgUgh+AABApBD8AACASCH4AQAAkULwAwAAIoXgBwAARArBDwAAiBSCHwAAECkEPwAAIFIIfgAAQKQQ/AAAgEgh+AEAAJFC8AMAACKF4AcAAEQKwQ8AAIgUgh8AABApBD8AACBSCH4AAECkEPwAAIBIIfgBAACRQvADAAAiheAHQFZatGiRGjVqlFq/fr2pAYCSUSrBz2233abuvPNOs4bS1Lt3b1W+fHlVpkwZ1bRpU/XLL/EvtnXCCSfodmXLllWnn366qUWU/fvf/1bNmjUza4k9/fTTqly5cmatZLz++uu6P0oQBGSDhQsX6nFU+mXFihXVsGHDzJZ4hRl7UfrSFvxMmTJF1a5dW7/wUgh+Sp/d9x07dlTnnHOOt37zzTebFnlWr17tbevatavq0KGDt45oO++881LqB+eff36J9xeCH2STxx57TPdHCfL79++vWrZsqderVKliWuSTeikFjb3InLQEP7vttpv3Yj/wwAP6J8FP6apVq5be736S1fHX29fL9eeff+q6Cy+80NQgilINftKB4AfZRPpihQoVzFqeW265Rde/9tprpqZwYy8yJy3Bz3XXXae2b99u1vI6DcFP6ZJ9Lt9M/O644w69bcOGDaYmr+1+++1n1vLJNxzerNFWksHPhAkT1Jo1a8xasK+++kotXbpULycLfjZv3qzGjx+vfvvtN1MTbNWqVfqDSQ5XAMUhfVFO4fCT+tNOO82sFW7sReaUyjk/8oIT/JQueYPJB4SfpGvl9XDJunyD8Tv00EPj2iJaUg1+EvUreXzz5s31si3+b8/i3nvvjWkj5b///a/+6Q9+7Ddotzz77LNma54dO3Z4wbtbXn75ZdMi7++T4levXr3AekSb9Il//vOfZi2f1F900UVmrXBjLzKH4Cdi5LVw34DyRpV1+ZbtJ4e8eLNGW3GDHymnnnqqqck7gVrqhg4damqUWrBgga6TwwXW559/7j3eDX7sCaRuBqlq1aq6TgIeyz5227ZtpkbpoEvqrEsuuUSvS3bIJXV16tQxa0Ce6tWr677hZm7atm2r69y+l4i0k4LsQPATIZdffrl+LeTDxpo/f76ue+utt0xNvoEDB/JmjbjiBj+NGjUya/mkvkWLFmZN6atmgn7HyJEjdb0b/Mh6w4YNzVqe5cuXqyZNmqhXX31Vr2/dulX39Y8//livW5MnT9aPnzVrlqnJez65ytH67rvvdN27775raoB8e+21l+4fbtmyZYvZmljQ2IvMIviJiA8++EC/Dueee66pyUPwg2SKG/wcccQRZi2f1LttZVm+VfsFnfNTrVo1XSeHyVIl5x/Kc3zxxRf6sW+++abZEv+3HHDAATHrgCX9RvpG5cqVVZ8+fbwLRdq3b29aBEs09iKzCH4iwAY4rVq1MjX5JOUv29xzISx7WADRVVrBT5cuXcxavkQnPEvWyD6HlKDzMOQx9hCZv7jBz4MPPqjr5OpGIctuVgoQclhL+kbnzp1NTZ6ff/5Z1w8aNMjUxEo29iKzCH5CTmbHlf2f7BwG2R40/8QhhxyityG6Siv42WeffcxavoIudZfzgg466KC45xOyLlkilz23yA1+hNR1797dm95hxowZZguQ58Ybb4zrY5bUB21LZexF5hD8hJzs+6Cra1zSZs899zRr+fwniCJ6Siv48T9W+IOfjRs3qh9//FFt2rRJr1s2qHnuuef0+ttvv63X//rrL71uJQp+atasqevPOOMM/RPwu/rqqxP2DakP2iZ1BY29yByCnxBL9Kb0k5Ssv518wEgdkxxGW2kEP5deeqlenzt3rqnJU6NGDV1vgx85kVnWTzrpJL1u2b76+OOP6/V33nlHr/uvYLTPZ0+Mtt5//31dL+XAAw80tUC+OXPm6P4hpwK4bN+TE+5dtj8he2U8+JFtct8TlCw5KU/2rQzmnTp1CiyWXDZs36z9+vVTvXr18tYRbTb4ady4cWCxwXFxgh9h69q0aaMnjJNle86Oe9hLDo9JnVxFduutt6p9993Xe6zL1skJzCeeeKJetvP+3HXXXaZVPtv+999/NzVALPslUSYwlL4n9z+0/cZVmLEXmZPx4Efm6Eh0shiKzr4pkxWXXBFjP1ikyASHgA1+EhU7s21xgx8hJ5PabTJpnD0Z33/Oz5NPPhkz0eHRRx9ttsRyT4weMGCArpPlunXr6mVXu3bt9DYgmRdeeCFm8syjjjrKbMlntyUryLxSCX4AIJvJB5JkiABEA8EPgEh75ZVXdPDDPZeA6CD4ARBJPXv29A5DBF1qDyC8CH4ARJJcuSPnb1x77bWmBkBUEPwAAIBIIfgBAACRQvADAAAiheAHAABECsEPAACIFIIfAAAQKQQ/AAAgUgh+AABApBD8AACASCH4AQAAkULwAwAAIoXgBwAARArBDwAAiBSCHwAAECkEPwAAIFIIfgAAQKQQ/AAAgEgh+AEAAJFC8AMAACKF4AcAAEQKwQ8AAIgUgh8AABApBD8AACBSCH4AAECkEPwAAIBIIfgBAACRQvADoNT98MMPatSoUWYNAEpX2oKfbdu2qYMPPliVKVNGl/32209t377dbEVpe+utt1TdunXNWrwdO3ao/fff33u9unXrZrYgyi699FLVrFmzmHLssceq//znP6ZF0Tz88MO6nwG5wP8eCCqusWPHBraR8sQTT5hWyKS0BD9ffPGF9yF63HHHqaOPPtpbX7ZsmWmFdFu1apXq1KmTt++rVatmtsRat26d16Z79+7q8MMP99YRbWeffbbXF4LK3XffbVoWTmkHP99//73ad9991XfffWdqgNTVq1cvYSlfvnxcX5YvDe77xC333HOPaYVMSkvwY19kv0T1KHnPPfect7/PP/98/TNR8BP0uqxcuVLXScYO0WWDnyC232zatMnUpK60g5+vv/5a/77PP//c1AAlQ/pV165dzVqegw46qFT7NwqvxIOfzZs36xd95MiRpiaffPjSIUrH5MmT1eLFi81a3hs0WfBTtWpVs5ZP6nm9oi1Z8DN79my9bcSIEaYmnxzilj7422+/mZpY/uBH2qWSlZk5c6YOZAqyZcsW9cEHH5g1gh+kxwMPPKD7lZw24KpUqVLC9w2yQ4kHPzLobdiwIa4zCOkMdIjMkP1emMyP4PVCsuBHyLY+ffqYtTwNGzb0+o4tN954o9maxwY/06ZNi2v77LPPmlb5nn/++bh2cojWZevbtGnjLbv1bgFKgvSl+vXrm7V8Ul+xYkWzhmyUthOeg0iH6Nmzp1lDaZJ9nyj4+ec//6m3f/LJJ6ZGqTvvvFPXvfHGG6YGUZQs+LF9ZNy4caZGqcaNG+s6CVYse87f/fffb2rygx8p06dPN7VKVahQQddt3LjR1Cg1Y8YMXSfnoln2dz/00EOmJq+PS6levbqaMGGC2rp1q9lC5gcl791339V9asmS+M9GqW/atKkqV66c1y+bNGlitiIblFrwIyeGSQdAZsi+TxT8iLvuust7k9oyZcoUsxVRlSj4ueqqq3R92bJlTY1S69ev13VBX3BsUGPZ4CfoEJbUN2/e3KzlBzV+NWrUiKlP1E4Q/KCkJetvdlvnzp3VlVde6X0pSNQepa9Ugp8TTjhBv+juNzyULtn/iYIf+ZZt35jHH3+8N0WBfGAh2mzwE1Tatm1rWuWxGcQg9rCVzcYkO+HZPr8ly2eccYZZy+f/ff7HuQh+UJLmzZun+9M777xjauLJ6R8uuTJSHnPFFVeYGmRS2oOfwYMH6xdcMgvIHHkNinLOj3y7RnTZ4Gf+/Pleufjii3Wd/8uMfMsN6kdCTr6XbXI4SiQLfqSf2m1y7qAsJyuWf91F8IOS5PbRwpDHMKZmh7QGP2PGjNEv9t///ndTg0yR1yEo+JGrYmSbez6GJSeUFuUNjvBIdNhL6vz1F154YcL+8tFHH+lt9ryywmZ+br/9drOWmP9xLoIflBR7eHfYsGGmJnXJ+ihKV9qCn2+//Va/yEceeaSpQSbJaxEU/Kxdu1ZvC5qa4JxzzuGNGnGJgp8HH3xQ17uz1b7++uu67scffzQ1+fr27au32VneCxv8yBVcBfE/zkXwg5LSqlWrhP1MDB06NOF2qZfzX5F5aQl+li9frl/kVAYslA55PZId9qpevbpZyyf1UhBdiYIfEdQ/ZN1/rpg9dCVXvlg2+PFfAfPKK6/o+kceecTUKLXPPvvouhUrVpiaPF999VVM8CVtpAT5+eef9bYXX3zR1ABFI/1Izo1MRCb9lDZyUYBr/Pjxur64t4ZByUhL8CMvsBS5tUJQ6dWrl2mZ11YuCUR6yX5OFPzI5cKyXaZplysT7DkdUrgdQLQlC37kZE/ZJoe7rLffflvXyVVgl1xyiTrllFO8viS3UbFs8FO5cmX989xzz9X3PbJt/Wz9IYccooYPH67q1Kmj1w888EDTIr9NIna7/L1FmZUakPvaJetjVpcuXXS71q1bqzvuuEMddthhXv9Ddkhr8JOouBkhmVl40KBBZg3pIvs9UfAjZIbdWrVqea/RLrvsEjPXCqIpWfAjbH9xSb/Zc889vW1HHHFE3E2N3cNecmm8bXvooYfquiDypcm2k+DqmWeeMVvy2G2JyKFd20bO2wAKS/pOo0aNzFpychhY+qntc/379zdbkA3SesIzAABAtiH4AQAAkULwAwAAIoXgBwAARArBDwAAiBSCHwAAECkEPwAAIFIIfgAAQKQQ/AAAgEgh+AEAAJFC8AMAACKF4AcAAEQKwQ8AAIgUgh8AABApBD8AACBSCH4AAECkEPwAAIBIIfgBAACRQvADAAAiheAHAABECsEPAACIFIIfAAAQKQQ/AAAgUgh+AABApBD8AACASCH4AQAAkULwAwAAIoXgBwAARArBDwAAiBSCHwAAEClpD37mzZun/vzzT7OGTNi8ebP67rvvzFpys2bNUhs2bDBrQOH89ddfZqlwdtllF1WmTMywA+S8LVu2qOnTp5s1ZJO0BT977bWXHszccuaZZ5qtKA1Dhw6New0qV66stm3bZlrkq1evXlxbeTyi7eyzz47rF7Yce+yxplU+qa9YsaJZSx3BD7KZ2+8TFdebb74Zt71GjRpmK7JBWoKfNm3a6Bd7zJgxpkapiy++WNc99dRTpgbpNGLECL2/jz/+eFOj1IQJE3RdhQoVTE2eKlWq6PpvvvnG1Cj1t7/9TdfNmTPH1CCKbPCzceNGr3z99dde//AHOvfdd5/66aefzFrqCH6Qq6pWrRrTdzdt2qTX3WDn7bff1nU1a9Y0Nci0tAQ/8iJ3797drOWTereTIH1kP5crV86s5evZs2fMa7Bjxw69ftddd5mafFLfoUMHs4YossFPkIsuukhvmzp1qqkpOoIf5KJ169bpfjt+/HhTo9SQIUN0nYytrpNOOok+nkXSEvzIeSOrVq0ya/nkhefFLx2yn4877jizlu/JJ5/U2+QbvJA3r7xecl6QH68XkgU/cj6DbLv88stNjdKZoIMOOsis5bvlllu8/lSpUiWdPXIFBT8yhsjzVatWzdTkWb58uddeStDhN6A0tGjRIq7fHnHEEXF1QrKiUr99+3ZTg0xK+wnPLnnhd999d7OGTGjevHngG9NPTnqWdv369TM1iKJkwc+vv/6qtw0bNszU5L3HO3bsaNbySPAi9XIeoJxHVrduXb0+aNAg0yI++JHgXNbdOvHOO+949dI3jzrqKG9969atphVQOqTf+c+NfPnll3X9F198YWry7Lzzzroe2SGtwY98Q/vtt9/UM8884w1QyBz7TT3okKT4/fff1YIFC9T999+v2/nPDUL0JAt+JIMj29wT6GXdDX5uv/12Xff++++bmjz77bdfzPO6wY98M5Zld7sldWXLljVreSTokXoJqoDScvTRRwf2UXHIIYfobRLgy8nPrVq10uupXnWL9Etr8HPAAQfoF9yWuXPnmi3IBPs6JOK+VvIBs2LFCrMFUWWDn4MPPtgrderU8frJww8/bFrmkTo3+LHt/OSS+CZNmqjZs2frdTf4sY/xX5U4evRoXT9t2jRTk69///6BvwdIF+lvxxxzjFmLtX79eq8f29K3b1+zFdmg1A57denSRXcA+SaI0lerVi29/+VKhILIiXq77babbj958mRTiyiywU9QCZoyQer9wU/Qifd+NviRbKP8tEGR69RTT9XbgkyZMkVvK8qVZkBhDRw4UPc3/0nNYtmyZXqbjKGWnFcpdTIOIzuU6jk/cvJiosEL6bPHHnvo/f7LL/EvdDLyGF6vaAs67GUHd0n7+0m9P/hp2rSpWUvMPYHZFr9EJ5KK+fPn620vvfSSqQHSR/paw4YNzVos/6Xvlg3QP/jgA1ODTCrx4EfOK1myZEngyYfJvrkhPU444QS9zz/99FNTE0uu9pLXK4g9MRXRleicHxn4pd6f/ZG6VA57+dngZ9GiRfo8QVmuX7++2ZpHpmNI9FzPPfec3vbzzz+bGiA9HnroId3X5EtAENmWqJ9KvRyiReaVePBj54254447TE0+e64ASsfgwYP1/h41apSpiffVV1/pNv4rE4TU83pFW6Lgx54837hxY1OTR+rc4Kdly5aBj58xY4aulyvGhHvOj7j++uv1uvRha+nSpbou6NwJssooLdLP/Cfdu2R7UF+UC4Ck3p38F5mTlsNecoxfXuTvv//e1Cj19NNP6zr/LS569eqlPvroI7OGkiJvMNnfqdyiQtpJcedmuvLKK3XdY489ZmoQRYmCHyETYMq2P/74w9TEBz9C6tyZbe3EcO7z+oMfYbNLchWiZYOpV1991dQoddppp+m6yy67zNQA6SFXLUpfmzRpkqmJ98QTT+g28tlmJZq6AZmTluBHLlWVe0jZF9sWuVLEZb89SluULP++DyqW/UbtL3369DEtEFXJgh8h28qXL2/WgoMfucrT9ilb5JYqrqDgR9j2rvbt23v1tsjsuUC62f5WEBk73f5pC1c8Z4+0n/AsJ3clm9tgzZo1ZgmZJudvyP2/OG8C6SATZ0pGsqSmUJBDtV9++aVZA7KPnIj/2muvBc6gj8xKe/ADAACQTQh+AABApBD8AACASCH4AQAAkULwAwAAIoXgBwAARArBDwAAiBSCHwAAECkEPwAAIFIIfgAAQKQQ/AAAgEgh+AEAAJFC8AMAACKF4AcAAEQKwQ8AAIgUgh8AABApBD8AACBSCH4AAECkEPwAAIBIIfgBAACRQvADAAAiheAHAABECsEPAACIFIIfAAAQKQQ/AAAgUgh+AABApBD8AACASCH4AQAAkULwAwAAIoXgB0DWGDVqlC4AkE6lFvw0a9ZMF5Su3r17q/Lly6syZcqopk2bql9+iX+x/S677DI1depUs4Yo+/e//63ft9OmTTM18YLe22XLllUjR440a6mTfioFyGYrVqxQ/fv3V3vvvbepSa5nz576PZLK+IvSUSrBz+DBgxnUMsDu844dO6pzzjnHW7/55ptNi3zjxo1TFSpU8NoQ/ECcd955Xp9IJGi7rF9wwQVmLXUF/S4g0ypXruz101T66uLFi722c+fONbXItLQHP9u2bdMvus0+oHTUqlUrcH/LN3J/vaxLkeDn+uuv18sEPxBu8HPQQQeZ2lh2e0koyecCSprtn88++6ypKZi0t59/BD/ZI+3BT9WqVfULLwMng1rpkX3dsmVLs5bvjjvu0Ns2bNhgapS6+uqrzZJSU6ZM0dsJfiBs8NO8eXP9MyhtL/VSUjVjxgz1ySefmLVYhX0uoLQMGDBA981Zs2aZmoJJ9lMe88477+ifBD/ZI63Bz+OPP65f8PXr1xP8lDIJbjZv3mzW8slx6mSvA8EPXDb4EfIzqO8E1cv6VVddZdby/OMf//Da2tK6dWuzNY+td9WvX1/X2Q8dWW7RooVedgU9Figp0rcko54q+dyTxzzyyCMEP1korcGPvNh9+vTRywQ/2UFeg2SvA8EPXG7w8+qrr+rlE088Ua9bQX1K1t3g5+mnn9Z1Rx55pKlRasyYMbruiCOOMDXxzyXZS1l/7733TI1S5cqVi2kjVq5cqeskswmkg/SvW265RbVt21Yv27Js2TLTIpYc8ahUqZJeJvjJPmkLfho2bKhfbIvgJ/Muv/xy/RosWLDA1MQj+IHLDX6EzcIsXbrU1KQW/AS1EXIyvlvvtuvQoYNelsDJJVeRSb3bR+VqGvd5gJL0448/en1TAprnn39e3X333V7dunXrTMs8EiRJvc2+E/xkn7QEP/aF/vXXX00NwU+mffDBB3r/n3vuuaYmGMEPXP7gR8i6W+dfF7LuD3769etn1hKzz3XmmWfqn0OHDjVbYsk299CXrMs3bSAd3n//fd3Hgs6jlPrq1aubNaW2b9+u6wYOHGhqCH6yUVqCH3mRO3XqZNbyEPxkzvz58/W+b9WqlalJjOAHrqDg54knntB1f//73/W6LPvbyLoNfjZu3KjX//e//+n1ZOxz2eI/b8jaeeed9XZhP2z8GSKgpLz22mu6jwVlzSXwsX1R1KhRI2ZdEPxknxIPfvbcc0/9IhdUUDrsSXd16tQxNckR/MAVFPwIO+CvXbtW//S3kXV/5uemm24ya4nZ55LDWA0aNNDLixYtMlvzffXVV3qb/JSrFWUZSJdVq1bpPvbWW2+Zmnxdu3b1+t+LL76olwsqyLwSD34OP/zwwFKzZk39ott1lA7Z5zJ/T6oIfuBKFPzYbIs9+djfRtb9wY9kf/1++uknNX78eLOWH/xY/nWX1NsTomV8AdJJ+tkZZ5xh1vLJOUC2j0p20/3cs0VmgpY2co6brCPz0nbCsx+HvUqf7O/C7nOCH7gSBT/itttu8/qYv42su8HPXnvtpet27NhhavLIPGDuY/3P9fvvv+t1yQL5yYeIbT9hwgRTC6RHkyZNdF+TwN/aunWrrjvwwANNTTAOe2WfjAc/Uif3nELJslOwy5tSzr8KKkEIfuBKFvwI95YoLln3n69j25188skxt7z5+eefTYv44EfISc9SN2TIEFOTxx6K8LcH0sEGOlJ69eqlTjrppJT7H8FP9sl48CPf/AYNGmTWUFLsmzJZCULwA1dBwc+mTZsC+5OsB52sfNRRR3nt5UaPW7ZsMVvyBD2XsCc4y32SXFK36667mjUg/Q499FCvnwYdyg1C8JN9Si34AYCSJIfQ5AMl2R3nASAIwQ+AnCSHdCX4AYDCIvgBkFOqm8vspTz33HOmFgBSR/ADIKc0atRI1a5dW3344YemBgAKh+AHAABECsEPAACIFIIfAAAQKQQ/AAAgUgh+AABApBD8AACASCH4AQAAkULwAwAAIoXgBwAARArBDwAAiBSCHwAAECkEPwAAIFIIfgAAQKQQ/AAAgEgh+AEAAJFC8AMAACKF4AcAAEQKwQ8AAIgUgh8AABApBD8AACBSCH4AAECkEPwAAIBIIfgBAACRQvADAAAiheAHAABECsEPAACIFIKfCNi8ebP67rvvzBqQexYtWmSWCqdMmTK6WCNHjtTr69atMzVA4ch4+tVXX5m15LZs2aKmT59u1pBN0hb8VK5c2Rt4/AWlY+jQoXH7Xl6Xbdu2mRb5/O3cgug677zzAvtEzZo11fz5802r9OrUqZP+nX/99ZepSZ39ey2CHxTVhg0bvP5kS506dczWWG+++WZc2xo1apityAZpC37sCz5x4sS4gvQbMWKE3v/HH3+8qVFqwoQJuq5ChQqmJp/Ut2vXjtcLMWzws3HjRl0WLFighg0bpuuk3HvvvaZl+qxcuVJdf/31Zq1w7N9pEfygqGxfWr58uV7/4osv9HqlSpX0urVp0yZd7wY7b7/9tq6TLw3IDmkNftq3b2/WUNpk/5crV86s5evZs6fe5id1l156qVkD8tjgJ0iTJk30tjVr1pia7CN/n/v3E/ygKF599VXdbz7//HNTk+fGG2/U9YsXLzY1Sg0ZMkTX7dixw9TkOemkk2L6IjIrrcHPgAEDzBpKm+z/4447zqzle/LJJ/U2+RbvkroXXnjBrAF5kgU/cvhUtu25556mJt+VV16pt9nyyiuvmC35KlasqMaOHaumTZum6tatq9tJVnLJktix5oILLtBt/f7880/VsGFD73dcfPHFZks+u81KFPzIug3mpEgWFLC6dOkS049cUn/JJZeYNaWOOOKIwLb33Xefrt++fbupQSalNfh5+umn1XvvvadT1p988onZgkxq3rx53BvTHsuWczhee+01/Xpxkh5EsuBHyDb/dkn3S91pp52m7rzzTi9A+ec//2la5JE6yQ7LT8lISrAuy1Jc/fv3j6v79NNPdZ1kNyXQsh84VapUMS3y+J8vKPh54403dJ0EXjfddJP+0uZ/HKJtt912S9gfpN4Nll9++WVdJ4fFXDvvvDN9KoukJfiRyFZe5KAi3/KQGXLlgbwG3bt3NzV5Pv7447jXyZZly5aZVoiigoKf3XffPWa7zSzOmTPH1OSxAZFL1v11EoBL3fDhw01NcPAj6/5s0Ouvv67rv/nmG1OTWvDjbyMk+yR1t99+u6lBlNn3QVDWJqj/HHLIIbpu0KBB+uTnVq1a6XWuus0eaQl+ZOCoVauWuvnmm02N0gNSUCdB6Um0/z/66CP9QfLiiy+aGqUPgfF6oaDgp0ePHin1kb59+8a1k3U5Z8JP6iWTY/mDn7feekuv+wMsIfUHH3ywWYvv84U550fadezY0awhyqS/SH/YY489TE2eRo0a6fr69eubmjzr16/X9W6R9wCyR9oOewUZNWqU7gRyaAWlS4JR2fdyJUKq5FwLeczq1atNDaKmoOAn0eGA0aNHe4e03OKS9UTBjxt0+IOfc889V6/vu+++cUXqy5Yta1qmHvzI+UsnnniivnTZPkbKAQccYFog6o466iivX9hMjgQ9/n4i2XKpk/eGNWvWLF0n4zCyQ6kGP0I6ACdCly75tiL7/Zdf4l/oZFasWKEfx4nQ0VWUc35snWSFHn30UX04yn5wuGS9KMHPoYceqtflfJ9ExZJ27mODgh85N1HqJPsp2Wo5CdseQiP4geuzzz5Tbdu21Sf5y5d5If3k7rvv1suiatWqMX3OmjJliq7/4IMPTA0yKS3Bj8zLISWIvPgDBw40a0i3E044Qe9zOUE0EXmtgrI7cjWNPFZO4EM0JQt+7NVeTZs2NTVKXXbZZbpOzi9zJTpvpyjBz2233Rb3XIlIO7dtonN+gqblkHqCHyRjj2a4E8fKupQgUi/9GZmXluAn0aV+kyZN0vVMnFc6Bg8erPe3/YaSiJ2N20+u+pJ6/2XxiI5kwU/jxo31NneOE3vYyM9ma1yyXpTgZ968eXr9wgsvNDX5/LOXSzv3sYmCH3mvuLZu3arrCX6QjPSRatWqmbU8UifFTyZHlPoxY8aYGmRSWoKfP/74I27gsFkEf6fo1auXPuEWJUveYLKv5RYXBXn33Xd1WzmXwrLHqP2zlyJa/MGPTGj4v//9T9dJueKKK8yWPP/61790vTvnTu/evb32LlkvSvAj7GXDcljNmjlzpq5z+7Gsu49NFPxIWbt2rV5fuHChV9esWTNdB1hyor3NcErxXwH2xBNP6Hr5bLPkC6Rtj+yQtnN+7CWv/uIeDrOXXkvmASXLv9+DikvmYPFvT3QfMESHDX78RebESTQXlEzh77aVE5DlXBpZnj17tmmV10eLGvwIey6bW/xX49h6Kyj4mTx5stfOlssvv9xbBiy3j3Tu3NnUxuvTp09MW1vmzp1rWiDT0n7C82+//aanBpc0cpBsnho/in766Sd9HxqgOOSqwnHjxpXKIdOpU6fqAKa4JHPkn5gOcBV2dmY7cazcCR7ZJe3BDwAAQDYh+AEAAJFC8AMAACKF4AcAAEQKwQ8AAIgUgh8AABApBD8AACBSCH4AAECkEPwAAIBIIfgBAACRQvADAAAiheAHAABECsEPAACIFIIfAAAQKQQ/AAAgUlIOfroP/o5CoVAoFAolFKXA4AcAACDsCH4AAECkEPwAAIBIIfgBAACRQvADAAAAAAAQUiR+AAAAAAAAQorEDwAAAAAAQEglTfzIDTHszb4oFAqFQqFQKBQKhUKhUCjZU6bOXWMyOIklTfzIk8gNwfxPTKFQKBQKhUKhUCgUCoVCyVxJdAN3v5QTPwAAAAAAAMg8uUKLxA8AAAAAAEAIkfgBAAAAAAAIKRI/AAAAAAAAIUXiBwAAAAAAIKRI/AAAAAAAAIQUiR8AAAAAAICQIvEDAAAAAAAQUiR+AAAAAAAAQorEDwAAAAAAQEiR+AEAAAAAAAgpEj8AAAAAAAAhReIHAAAAAAAgpEj8ACFxxx13qGbNmsWU/fbbT23bts20AICS8dprr8WNN1Iee+wx0yK57du3Bz7+v//9r2kBAMhV69at058HJ554oqpataoqU6ZMXNl7773VjTfeqH766SfzKADpROIHCIHJkycHfqhKOeOMM0wrACgZL7zwQuB4I+Wcc84xrRKTxE/QY4cOHWpaAAByzRVXXBE4tqdSDj30ULVx40bzTABKGokfIMfJUZUaNWoEfoja8uijj5rWAFB8yRI/Utq1a6e2bNliWscj8QMA4fHXX3+pnXbaKXBcP/DAA9WIESPUxx9/rKZOnapefPFF1atXr8C2UuRgJoCSR+IHyHFdu3YN/OD0l++//948ovDkS9rs2bPVhAkT1Pz5801t8ckXQznF97333lPvvPOO+u2338wWANmsoMSPlOrVq6sFCxaYR8QqbuJn7dq16ptvvlFvv/22evPNN9WcOXPUpk2bzNbi27x5s/rqq6/UpEmT9Beagvz666/675gxY0ax/o4VK1aoadOm6Uvpvv76a45+A8gJ1157bdx4XrZsWbVy5UrTItjxxx8f97g6deqYrQVbsmSJevfdd3WyaPHixaa2aGSs/+6779T48ePVRx99pMfjkiRxuDx3Kpe28VmAdCDxA+Sw4cOHx31gnnbaaTqR4q9v0qRJoeb7eeKJJ1SlSpXinsctMofQBRdcEFcvAUAiDz/8sKpQoULcY/ylXLlyatCgQfoLGIDskkrixxYJdP0Km/iRgP5vf/tb4GOCSqdOndTChQvNo2PJnBP+9g888IC68sor4+r95b777tPPMWXKFFWvXr3ANrbIl5eCjlz//vvv+mh40OP9pW3btvqLAABkG5lnMmjceuWVV0yLYHIAUBIu/iKfEX7SVuJLiQ+DfpdbqlWrpv+mZFatWqWOOeaYwMf7i8TD8vmUKLEv89P5H3PqqaeqBx98MK5e5jby47MApYHED5CjPvvss7gPA5lAT46Ei4svvjhu+5lnnqm3JfPHH38knIgv1RKU+JEzeoLaplLGjRtnngVANkiU+Hn11Vd1wO2vHzJkiHlknsIkfi655JLAthUrVlRHH3206tGjR8IkjCTH/YISP+ksL7/8svnN+eT/l/ksgtpLkSPlQfVSJOEe9KUIADIpWXJ+zz331An2pUuXmtaFE5RYSaXImadBZ9icfPLJge1TKffee695lnyF+fs6duxoHsVnAUoXiR8gB23YsEHVrl077kNg9OjRpoXSZ/fsvPPOcW2S3XVHPpCrVKkS9xj5kLIJJdeXX34ZOL+QP/EjR3z8baRIMshP/rcWLVrEtX3uuedMCwCZlijxM336dH2WnhyR9G+TI6tWqomfL774IrDd+++/b1rkk7vD+NtJcsg/11BQ4qdp06Zq0aJFpkU+OfPR31ZKhw4dAo/8HnXUUXFt3f/bat++fVy7Qw45RO3YscO0yCdztPnb7rbbbmYrAGQPuSypcePGcWNWUGnUqJGOFwu6zP+yyy6Le2zDhg3Vn3/+aVrkCxqzd999d7M1z7HHHhvXpnnz5mrZsmWmRT65jDjoYOhFF11kWuRJlPipXLmyeuSRR9TcuXO98d0d5/ksQGki8QPkoOOOOy5u8JdTSv0S3e1LPoCCyGVY/rYNGjRIeolY0IeWP/Ejz+Fvk+y2zUGJotNPP91sBZBpyRI/1tlnnx23fZdddlFr1qxJOfGTjDyHnB4vc/3IfDyvv/564HPKZVmuoMRPnz59zNZYMj+Fv62URJdwBZ3WX7duXbM1T9A4K4n8wo6zs2bNMlsBIPvI58FZZ52lE/D+8SuoSJwXNJdNrVq14toGJf+tp556Sv3nP/+JKTapI5ce+59LSrL5gT7//PO49nK52erVq02L4MSPHFBIhs8ClDYSP0COkQ8w/6AvRxRkIjg50u4vQZd87brrroGnh/bs2TOu7SmnnGK2Biso8SOTnvq3F6UUZrI/AOmVSuJHyKn9/jbly5fXyRp/vZREiR+5XKply5aBjymoFCfxI3NA+NtKSZT4eeihh+La+seufv36xbUpSrHzDQFArpDLruTS30R3AJNLm9zx9ZNPPglst3z5ctOicIYNGxb3XHKWeTJy9k1Q8uqZZ54xLYqW+OGzAKWNxA+QQ+SodtCgX5QiR2H8rrnmmrh2RxxxhNkarKDEj1xmEfSBuc8++6guXbqkXOQsJwDZIdXEj5CjpcnmKXCLP/Ejc47JGTP+dnIp2dixY/XZQ9a8efPi2klJR+Lngw8+MC1ipZL4CfriIUe0g8a9ZMW9tBcAMkUmGr7rrrviikzSnIyc2dK5c+e48bBZs2amhdJn6vi3S5FLsIpC5qHzP5eMv8nImaX+x0iRAxhWURI/fBagtJH4AXKEnL1T0F1kClv+97//mWfPM3HixMB2ye5Mk8qlXr17945rc8ABBxQ4KZ38zwCyT2ESP0Iumapfv37gY9ziT/xcfvnlcW3kzMQguZL4kVv6+ttIkdv2FqQkb1kPACVh6tSpgWNa0OT6fnL3Vv/j5M6vMt+jJfNM+tv4bxjgkvYyf5Bbfv75Z71N4ko569T/fDIPTyIDBw6Ma+9P6hQl8cNnAUobiR8gR5x00klxHw4yEbN7xDuZSy+9NO7xUn744QfTIk+iWxrLUQU5ci8fmvPnz1fPPvtswlN1/YkfOetHzvAJaiv/lwQN8iEv13bLZK5yeYhM3GfbJJuQGkDpK2ziR8jp8snuXiLFn/i5/vrrA9vJKfZ20ub169frJLZ8WQhq+/HHH+t2VkkkfhLNL5FK4ke8+OKLce2kSHJMxjs70bTckl7uaih3ZLRt5O448ncBQLa4//77Y8YyWyROlfhTLtmS8UxiPUnSjxw5UrVr1y7wMQMGDDDPmmfJkiWB8/zIJPsSM0oSRJ5XxsomTZrEtZPJnF1y9nzQLeFlbJUDnfKZIvP3vPHGG4ETVVevXl3/L66iJH4EnwUoTSR+gBwgt450PxBsef75502LgsmXrqAPRPlg8p95c+edd8a1K0zxJ36sW2+9NbB9QUXODirolGEApacoiR/riiuuCHyslKA5foKS3oUpjz/+uHmmPCWR+HnvvfdMi1ipJn6ETCYqlzT42xdU5LI57nIIINtInCbxWtC4lUqR5P2kSZPMs8WS5I7cvjzoccnK4MGDzTPEkjmCWrVqFfiYZEUuTQs6G72oiR/BZwFKC4kfIMt9++23gQN+QZMuB/nss88Cn+ucc84xLWLJJRJ/+9vfVLVq1WLa16xZU59mK9dnt27dOmablBtuuME8QzA5s0eO5MtlYpUqVYp7vNw6Uy7nkEvPAGSf4iR+xJgxYwIfn2hy561bt+oEeNB8P5LQljMQhQT5/u2SeHFvjZstiR+XnE0pR6XlkgT/46XInEYyrgbdvhgAso2coXL77berTp06JZzjTeI/SRTJ50myO1n5yfgr808GfR5IvCrTC8hZPamSO31JrBv0fHL2ebdu3fQYnUxxEj8uPguQTiR+AASaPXu2d4ppInLaadAHU6IvRQAAAACA0kXiB0Ccv//9714SR47UyJGQq6++Wt85QCbAk+uvg87UkZLoiD0AAAAAoPSR+AEQQyZMPf300wOTOsmKTNInt7wEAAAAAGQPEj8AEpJrruUOB//+97/1NccyJ49Mrnfcccep888/X8/TsW7dOtMaAAAAAJBtSPwAAAAAAACEFIkfAAAAAACAkCLxAwAAAAAAEFIkfgAAAAAAAEKKxA8AAAAAAEBIkfgBAAAAAAAIKRI/AAAAAAAAIUXiBwAAAAAAIKRI/AAAAAAAAIQUiR8AAAAAAICQIvEDAAAAAAAQUiR+AAAAAAAAQorEDwAAAAAAQEiR+AEAAAAAAAgpEj8AAAAAAAAhReIHAAAAAAAgpEj8AAAAAAAAhBSJHwAAAAAAgJAi8QMAAAAAABBSJH4AAAAAAABCisQPAAAAAABASJH4AQAAAAAACCkSPwAAAAAAACFF4gcAAAAAACCkSPwAAAAAAACEFIkfAAAAAACAkApd4mfHjh1mCYiOzZs3q1mzZqnvvvtObdiwwdQW35IlS9S0adPUunXrTA0ApM9ff/2lFi1aZNay0+uvv67KlCnjlWz/ewEgkySG/Oabb9TcuXPV1q1bTW3xpCvuBcIsZxM/GzduVC+88ILq1q2bKleunBeA3XnnnaYFEE7S94cOHaoqVaoU8+UjqFSuXFkNGjRIbdu2zTw6sfXr16szzjgj8HncUr58eXXXXXeZRwGIqvPOO88bF+rWrWtqi65Tp07e81WsWFEngbIRiR8ASOy2225T1apVixkng0qLFi3U22+/bR6VWLriXiBqcibx88ADD6g2bdoEvsndQuIHYTZixIiY/n788cerBQsWmK35JkyYoBo1auS1q1Chgvr888/N1nh33313zPMOGDAg7kNz6dKlar/99otpN3v2bLMVQNSUdOJn5cqV6r777lPXX3+9+umnn0xt9iHxAwDxZNyuXr26Nzbuvvvu6rPPPjNb82zfvl3HnG4Sp0OHDmrLli2mRax0xb1AFOVM4me33XbTb+Rdd91VZ3LnzJljtqiYwYPED8Jq7NixXj+Xs9zklNmC9OzZ03tM27ZtTW0s+bC0baTMnDnTbAn23//+12tbtWpVtWLFCrMFQJSUdOInV5D4AYB4hx12mDcunnnmmaY2mCR66tWr57W/6aabzJZ86Yp7gagKxRw/JH4QBaeccorXz4877jhTm9yTTz7pPUY+NOV0Wb+jjjrKa3PppZea2uT22GMP7zH33HOPqQUQJSWd+Lngggv0JV5SDjroIFMb66yzzvLa2PFq2bJlqk+fPqpZs2be32OLHEn++uuvdbtUyGUHhx56qKpSpUrM8+yyyy7q8ssvV5s2bSp04ufbb7/VR6nlMln3cVLkcoh//OMfej61VL333nt63JYj2v7nk7/7wgsvVIsXLzatY7n7T373qlWrzJbE/v73v3uPqV27NnO+AYgjc/e4Y9xDDz1ktiTmxrVHH320qc2XrrgXiCoSP0CINW/e3HtvXHTRRaY2Vp06dbw28oGZCvfDuFevXqYWQJSUdOKnf//+3vN17NjR1MaS8ca2adWqlXdZgZx9KMmViy++WB/xbdq0qddOyk477aT+/PNP8yzxrrvuupj2UmT87N27tzr11FP1/+ffbkuixM/9998f006eo2/fvuqGG25Q//rXv9TBBx8cs11imSlTpphHx5LJS+WLj9teLqOQ55Hk++DBg/UXJ3d7rVq11C+/xAZ3MiGq7AvbRvZZMh9++GHMc7766qtmCwDEGjhwoDdWSLJ89erVZku8Tz/9VJUtW9Zr/+abb5otxZNK3AtEFYkfIITkFNp9993Xe190797dbIm1cOFCr42Ut956y2xJzv1wb9eunakFECWZTvxI6dy5c8IjujJPmYxPtq2cJRNE5jSzbSSemDFjhtkST+4g4ybLpQQlfsaMGeNtl6POMn9RIo899ljM8/3www9mSz65zN1ul0n4k7n66qu9tpIY88/XJnNu2O1Snn76abMlXsuWLb128voAQDJyhmXjxo29caN169bqjjvu0ImdF198UV177bWqZs2a3vauXbsmTcqnKtW4F4gyEj9AyDz11FPe+0HKgw8+aLbEmz9/fkzboiR+uIYaiKZMJ36OOOIIU5vYI4884rWXyxD8txL2X7aVymVhqVzq9c4778S0KczlZsXlH9fHjx9vtuSTs47sdomhgr543XzzzV6bnXfembvkAEiJHFTs0aOHN34EFRmPZZLnRJM6F0Zh4l4gykj8ACEh80jIqf32vSCXEch8FMmUROJnr732MrUAoiQXEj8jR4702kvxz09z2WWXedvkyHQqUp3jRyYm9d/SWL7syNh844036ksd/ImoVMybN0/PNyRzEcllDUFz/bgl0SUU7u3zTzjhBFObx382aKJL0ADAkjFNLru144ZcfirjlZ+MoU2aNPHatW/fvkhn/RQl7gWijMQPkOOWL18eM9my3M7SP69DMtWdW28++uijpja50047zXvM2WefbWoBREkYEj8nnXSSty3VSwPeeOONmOcsaHJnOaItl37J73K/pLhFEkJXXXVVwkTQmjVr9Jcj9zFyGZYkgOROi88++6x67bXX9Bcqd3JTKYkSPzIptps0euaZZ8wWFTNfkNxJFQCSkYnx7ZghRZIyBbntttu89jVq1FB//fWX2ZJcceNeIKpI/AA5Sr4gyFFa2/flKIscbSmsbt26ec8hZ/KkQiZVtY+RLx0AoicMiR93AuZU/4dUz/hJxRdffKHPmrTPJZOdLl261GzNI/MDub9v9OjRZkuwBQsWxLRPNmmqzLlh29lLvp5//nmvjjM6AaRC7qxox41Ed2X0W7t2rfcYKTJeJ1NScS8QVSR+gBwkd3CxfV6+KIwaNcpsKTy5S4t9LinffPON2RJM7iBj28plDCUxKR+A3BOGxI/cRr1y5cre9ksuucRsSeyJJ56IeU5/4ufHH3+M2S5n+xSkTZs2Xnu5/Mx13333edvkzCC5w1cycsmubS+loLvl9OvXz2srZ/q4E6/+/PPPphUAJOYmjCUuTSU2lMth7WOkyFmIiZRk3AtEVaQTP3LNugSRcuvXjz76yNQC2Uu+QMgdYmx/Hzp0qNlSPO4XCyn+Lx5CvjDJ3RfcdtOnTzdbAURNGBI/4vfff1dVqlTx2sjtzv0xwY4dO/TZOe7damwJOuPHf3v4K6+8MjBhI2fzyF263LYzZ840W/OsWLEiZtyXiZb9R7m3b9+uXnnlFVW7du2Y55IiE58mI49159uw5d577zUtAKBg55xzjjd+SHJm+PDhavPmzWZrPhlzTz755Jjxxr3U1JWuuBeIosgmfuSae/eolhzxS/XaUiATJk2a5PXX4pRElwnI0Znjjjsu8DH+InM+yBchANHlJn6KUmSuMFemEj+W3AlGzqhx2/uLzLMjd8ly6xJd6rV48WJ9yYPbNlmRBJAkYYJIvf+LUlCRy3Dldu3VnbnbZJ8VRG5h7z7PkUceabYAQOpmz56tJ1l2x5NERRI6Mu7LHGZB0h33AlETisRPcchgs3r1arMGwJI7I0ybNk2NGzdOzZ07N+EXEgAIm40bN+qzaiZMmKD++OMPU1s8kgj65JNP1Msvv6yTR/IFqaDLthKR55o8ebKeb0jm9Cmu9evXewfDKlasqM9EAoDiklhSxjqZfH7ixIn6brLEk0BmRD7xAwAAEGXurd1lrg4AABAuJH4AAAAiRI7CyxlDQ4YM0XfGsUkf7tIIAEA4kfgBAACIiB49eniJHluaNm2qFi5caFoAAICwIfEDAAAQIdu2bQu82w4AAAgnEj8AAAAAAAAhReIHAAAAAAAgpEj8AAAAAAAAhBSJHwAAAAAAgJAi8QMAAAAAABBSJH4AAAAAAABCisQPAAAAAABASJH4AQAAAAAACCkSPwAAAAAAACFF4gcAAAAAACCkSPwAAAAAAACEFIkfAAAAAACAkCLxAwAAAAAAEFIkfgAAAAAAAEKKxA8AAAAAAEBIkfgBAAAAAAAIKRI/AAAAAAAAIUXiBwAAAAAAIKRI/AAAAAAAAIQUiR8AAAAAAICQIvEDAAAAAAAQUiR+AAAAAAAAQorEDwAAAAAAQEiR+AEAAAAAAAgpEj8AAAAAAAAhReIHAAAAAAAgpHI+8bNkyRL15Zdfqt9++83UANixY4dZKjp5joULF6qpU6eqFStWmFoAyE0PP/ywKlOmjFcAAACiIqcSP5Lg6dChQ0zglqjst99+6quvvjKPBMJrzpw56pprrlGNGzf2+n+1atXM1tTJ8xxyyCEx76OgUrZsWXX++eerNWvWmEcCiKKzzz47cIwoqBx77LEZ+Xwm8QMAJW/s2LExY2tRS7t27cwzxrv99tsDH1NQueeee8wzAMiJxM+GDRtUmzZtvDdxnTp11BNPPBF3VsPq1avVeeedF/OGP/HEE81WIPf9+OOP6owzzlCVK1eO6ef+UtjEz4ABA2Ief8UVV+j3neuHH35QnTt3jmknH/YAoslN/DRo0EBt3Lgxrvz555/q66+/Vi+++KL629/+FjN+VKxYUZ9RWFrCnviR/ez+f59//rnZAgDZZ9myZapq1aremPXtt9+aLfFOO+00r13v3r3VxIkTUyq//vqreQYAOZH42Wuvvbw3uwSaBfnuu++89lIk4ATC4LnnntN9unz58ur4449Xo0eP9hI0t912m9fnC5P4ee+997zHSZk7d67ZEkyOnti2lSpVUlu3bjVbAESJP/GTqosuush7nJTSSv6Q+AGA7LBu3Tq10047eePV+PHjzZZgzZo189q+8sorphZAYWR94keyv/aNLuWLL74wW5LbddddvccMHjzY1ALhVdTEz4033ug9rn79+qY2Mf978tNPPzVbAERJURM/W7Zs0Wf72MdefvnlZkuw5cuXq+HDh6tddtnFe4wt8nvl0rGPP/7YtE4sKPEj85edddZZauedd47ZVr16dXXEEUeozz77TLdL1c8//6wTW1WqVIl5vgoVKqi9995b3X333UnnYJNLbmXf2DJ79my1ePFiddxxx8UcGb/55pt1+3333ddrK7/D/zvtNvmCBQDZQA4YtmjRwhurHn/8cbMlmJwZ5I5tf/zxh9kCoDByfnLnIE8//bQ3OMiZEYsWLTJbgPAqauJHPkDlzB372LvuustsCdatWzev7QEHHGBqAURNURM/cuq9fZyUYcOGmS2x3nnnnbjLWuWy7379+qlBgwapo446StWsWTNme5cuXRKehehP/LjP3bBhQ3XmmWeqk08+WTVq1CimnZRHH33UPEuw++67L6Z9rVq1VI8ePdT111+vLrjgAp30cbfvvvvuavPmzebR+STR47aT53HXy5Urp+dZs4kfuSxXLv+Vcswxx8S0lf1jt8ll8ACQDWQeVjtODR061NQm9tZbb3ntmzdvruvkc0TOer/jjjv0AcyXX35Z/fTTTyVycxMgrEKX+BkzZow3OEiAJBNCA1FQ1MSP2LZtm/rHP/4R897p37+/euqpp/SXrwceeEB/obLb5Wg2l1AC0VaUxI9c1uUmmiUBIuOP34UXXui1kURHsjN6JNHTs2dPr33dunUD70ToT/zImcHJjhyPGzcupv1DDz1ktsQ68MADvTby/8jcRon8+9//9trKhPz+udT8iR/53+ULTSq41AtAtjv66KO9MUrizFRIotsd2woqMm5eddVVTEUA+IQm8SN3GHLnApJTCNeuXWu2AuFXnMSPkKMkI0eOVLVr1/aeJ6jIBM+zZs0yjwIQVW7iRy4rOvjgg+PK/vvvr2/I4I4htkgiJogcxXXbTZs2zWxJTr5E2MfImUF+RZnjxz2DWIpcduaSOyrabXK5WCoOO+ww7zH+S9H9iZ/JkyebLQUj8QMgm8lZlXZ8kjMUU/XII4943/Hk7s5B037IJcRyJqgcuLS/Qw4CrFy50rQAEIrEj5z2bd/kkuV99dVXzRYgOoqa+JGEj1zeYB8rl07Ih6z/dFn58PTfNe/JJ580WwFEjZv4SbVIMijoDB/Xqaee6rXfZ599TG3BpkyZEvO75LR/V1ESP3JXMvcx/klF3fkE5XIxmXOnoOLOJ3TQQQeZZ8pD4gdAGA0cONAbmySJk65LsuQsn7Zt23q/Sy4rA5AnpxM/cvmJfWNLufrqq80WIHqKmvhxb9F+yimnmNrE/vrrLz0JtH3MDTfcYLYAiJJUL/WSiTnduXjkVP9kZFJl21aOEKdq/vz53uOkvPTSS2ZLnqIkfuTLiUyObB9z5513mi15R5jlYJPdJstytLkwxX+WEIkfAGEj87jZcUkS5Mkuhy0JcnmsOxYyGTSQJycTPx988EHMpIxydLCgI4hA2BUl8fPLL794j5Ei8/mk4sorr/Qe07JlS1MLIEoKM8ePXHotAb9tL5MdJ/rclgnmbTuZaDlVzz33nPc4KXKHLVdREj/Tp0+PeYz/1vPuZPeyP4qLxA+AMJG50eyYJPNDyoGAwpDbvssZ51LWr19vapOTKz/csTBozjcginIq8SNH82QyRPtGljsKydw+AIp+xk/r1q29x8nEo6lw59OSSaEBRE9hEj9CzpBp1aqV9xj5PJeg3m/p0qWqRo0aXru+ffuaLYktXLgw5swcuazAz5/4kaROQdq3b++1t3eTccm8aO5zPv/882ZLcomSXiR+AISFnHVpxyM5I1LGt8KSMdA+hxz0D/rM8Dv00EO9x8jlxQDy5ETiRzK87uUock39ggULzNaik/kAevXqpe8G8tFHH5laIDcVNfEzc+ZMfRTGPlbmoEj0hUi+1LgTte65555xd6UBEA2FTfwIuXRKJue0j6tevXrgafibNm3SZxO67YLm75Px57TTTvPaSbnsssvM1lj+xI8UmXx6xowZpkU+mdTZTSTtsssu+m8K8tlnn8Vc8tW0adPAu5Bt375d/w/yv9i2/nnSipP4kcSaXD5mH1sSZyABQFG8//77MWPZpEmTzJbCGzJkiPc8MtbefffdgXfskjsxujco2WOPPdTmzZvNVgA5kfhxM7dFLf47fEiA5M45IFlkmbsEyFVFTfxYt9xyS8wXkmRF7po3YcIE80gAUVSUxI/VtWtX77Hly5dPeKdASYS4Z90kKyeddFLSo8Fu4kfOWvzyyy9VkyZNYp7DXyQp/sILL5hnSE6SRbVq1Qp8Hn857rjj9JlNfsVJ/Ii33nor5vFuSfUyCQAojm+//TZm7JGxsbgWL14ccyv4ZEUuEX799dfNIwFYOT25c0mQS8VWr15t1gBYS5Ys0Uetx44dq2+nzGWVADJNkhdyK18ZlyRxU9j5IpL59ddf9ZeFr776Sh8cKi6ZV0LmJJS/Vc4Kki8upUUSYDIfkfxu2V/McQEgTORsTzlbU+60KLEqt20HChb5xA8AAAAAAEBYkfgBAAAAAAAIKRI/AAAAAAAAIUXiBwAAAAAAIKRI/AAAAAAAAIQUiR8AAAAAAICQIvEDAAAAAAAQUiR+AAAAAAAAQorEDwAAAAAAQEiR+AEAAAAAAAgpEj8AAAAAAAAhReIHAAAAAAAgpEj8AAAAAAAAhBSJHwAAAAAAgJAi8QMAAAAAABBSJH4AAAAAAABCisQPAAAAAABASJH4AQAAAAAACCkSPwAAAAAAACFF4gcAAAAAACCkSPwAAAAAAACEFIkfAAAAAACAkCLxAwAAAAAAEFIkfgAAAAAAAEKKxA8AAAAAAEBIkfgBAAAAAAAIKRI/AAAAAAAAIUXiBwAAAAAAIKRI/AAAAAAAAIQUiR8AABB5r7zyiho1apQu3377rakFAADIfTmX+Nm6dau6++671X777aeqVq2qypQp45UGDRqorl27qo8++si0BsLrhx9+UL1791atW7dW5cuX994HZcuWVU2bNlVnnnmm+uWXgt/YrpUrV6qBAweqPfbYI+45mzVrps466yw1b9480xpAlF166aV6XEhW2rRpo4499lh18cUXq//85z/q008/NY9O7umnn1bVqlVT5cqVU5dccompTa9ddtnFG/Ouv/56UwsASGbChAmB439hi3yHS2b9+vVqyJAh+nOlQoUKcTFqv3791O+//25aA/DLmcSPHH2rXLmy9yaXIm/80047TQ0YMEAdddRRaqeddorZ3r17d/NoIDykX7v9vEqVKqpjx46qT58+6pxzzlHt27eP2S7l5ptvNo8O9uijj8a0l6SPfc6+ffuqQw45JO79d+edd5pHA4iis88+O2ZMKGyRgziJnH/++V47SW6XBhI/AFB4b7zxhqpXr16RinuQ8bzzzjPPGGvGjBmqUqVKXjspcoDyjDPO0DFqhw4dYrZJkYMHAGLlROLntttu897IktV9//33zZZghx12mNdeMsBAGCxZskTVqlXL69sFHRmRI+vyfrHt5eygIN26dfPayFlzS5cuNVviLVu2TNWtW9drn+hDGkD4uYkfGTtSMXLkSO8xUnbbbTe1adMmszWzSPwAQOkZOnSoN+YmimnHjh3rtZHyyCOPmC3xPv7445i49/LLLzdbAIicSPzsuuuu3ptYBomCfP/99157KVOmTDFbgNzlfkC2bNnS1CZ3xx13eI+RSyY2bNhgtuT5+eefve1SCkqqCvfsILnccvv27WYLgCgpSuJHzJ4923uclBEjRpgtxSfj0YIFC/Ql33IUeu7cufoS8VSkO/Ejf9uvv/6qJk+erN566y3122+/mS0AEC0PPPCAN962bdtW7dixw2yJdfLJJ3vt5EBlQYYNG+a1lzOKAOQL5eTOkyZN8t70UuQUQSDXyVFxSdxI2bx5s6lNrn///t77oEWLFqa2eOQLkX1OOfsHQDQVNfEjateu7T1WLin1c8cuuew0mWnTpqnGjRt77RMVSX7/85//TJgISiXxs3btWtW5c2evnRxdfv75583WeHLgqWHDhl77REUud7jxxhvVtm3bzCMBIJxeeOEFb+yrX79+3EFJl/tZsNdee5naxC666CKvvUwJAiBf6BI/cgqgfcNLkcEFiKKpU6fGvBeKmwDduHGjvrTLPp/MLVTYyaMBhEdREz8yP5h9nJRx48aZLflSSfxIMlwCe9tOzkAMSsLI5aunnHKK106SNRMnTjRb8yVL/GzZskWdeOKJ3nYpw4cPN1vjrVq1KiYZJeNl0N/2559/qqOPPjrmee+//36zFQDC5d133/XGOpk7UqYxSEbOlHTnrpTkz8KFC83WfDLx8+mnn+61k6kRmOgZiJWziZ8DDjjAe3P7i0zy/PDDD5uWQPTIdc32/VCjRg196UOq5Ii2+37yl3bt2qV0SRiAcCtM4mfx4sXqqquuipkkXhIwMn9DkFQSP3vuuafXpkuXLqY2sfHjx3vtZVz0n10TlPiRyw/ciaalyN+W6LIEIV9Aqlev7rXv2bOn2ZKY3C3RvUvNZZddZrYAQDh8/fXX3hgnZebMmWZLweTgY69evWIeH1Tk80I+bwDEy9nEz5VXXqmP4Mm1nwceeGDMhLNS5JTuW265xbQGouGDDz6IufPBueeea7akTj5c5b0lRY5w77333vpIuvv+qlmzZuARcwDR4SZ+ClNkPgeZfyeZghI/o0ePjnlOmTunuPyJn8ceeyzmd8iZOalcZiuXk9nH1KlTx9QWTM4Iso+rWLFiynMTAUC2k+S2ewevd955x2wpmDxWpiuwj5WDBvI5Ind2ls+hfffdNyZxLicAfPLJJ+bRAKxQzvHj3u66WrVqBZ5GCOS6+fPnx1xW0KpVq7T0e7l8wZ1sXc68AxBNbuJHJtGUcSioXHzxxV47OSgzffp08wyJFZT4ufbaa73tkrApCW7iJ6gcfPDBKSVj3DmAJHmeKjlK7f6+CRMmmC0AkLuWL1+uv4/Zse3JJ580Wwp26aWXeo+TueGSXb4liXk5WGnbH3TQQWYLABHKxI9w3/hBE0cCYSCXFLhfMuTocronM1+xYoX3+6SU5B15AOSOwlzq5d5pRYrc1SqZghI/zz77rLddjvSWxN0F/YmfPfbYQ9956/DDD/fq5EhzQQmZCy+80GsvyaJUyZ3I7OOkcMQaQK6TOFUmcLbjmnwWpErugOiOianEt3IZrlzKax/D1R9AvqxP/Pzwww8xb/pULy+RLK99jMzwDoRNv379vD4uX3xk/orCevzxx73nCLrdexBpI19+7OPkkgsA0VOYxI948MEHvfZSnnjiCbMlXkGJHzmC7D5XqpcNSNJGxkopksR2Bc3xY8nzu+PeYYcdlvAOXK+//rrXTsqPP/5otiTXt29f7zGNGjUqkWQWAGSKjJFyBrod1y644AKzJTUyXtvHSkl1vsomTZp4j7nuuutMLYCcOOPnb3/7m/cG3nnnndWyZcvMlmB33XWX117Kl19+abYAue+BBx6I6d/FuQOM3BVH5pKwz3XUUUclnbRUuJdSBk2QCiAaCpv4Ee5tfKUkOvpbUOJH+Of5+eKLL8yWYOecc47Xdvfddze1+ZIlfoSMdUcccYTXRhJBiRJOt956q9dOEvNyy/lEZMx175goSfhk7QEgF7g34jn++ONNbeE0bNjQew6Zy0fusJjM3//+d6+9lJ9++slsAZAzl3rdcMMNMW9k+bJ60kknqWuuuUb95z//UQMGDNADgtumWbNm+lapicjdiWzbpk2bcnQNWW3OnDkxd8SRSfJkYvNOnToVqvjPmpN+f+SRR3rPK0VOyz3rrLP0l7Kbb75ZTxLtHkGRIu8/ANFVlMSPkGSJO5bIpVF+qSR+hCR7qjt30JJkjIxzl1xyibrjjjv0c7vzn8n2RLdhLyjxY02aNEknZ2xbuaNYUAL87bffjpkYX353hw4d9N8mlx/IBPrulxopsn3dunXmGQAgNx177LHeuLbPPvuY2qJxb9MuRaY1kDt8DRkyRCfZJXHevHnzmDZyqS5jKRAr5+b4kZndzzjjjJhAzxYJxOSNLtf+F3TWgpDgT4KyKlWqqEGDBplaIDvJlw1/ny9KSXZp1ocffqjnpHDPArJFkk5yecOUKVNMawBRVtTEj5g6dWrM+NKjRw+zJU+qiR9LJvWUz3E5oOPeOUaKnHEjZyoWdPZvqokf4U+YS/zx3nvvma2x5E6Jcit7uf28/2+TImcRjRs3joNPAELBPbtSLltN5W6IqZAxXBLt7kFQW2Rs3WuvvdTYsWNNawB+oZ3cGQAAAAAAIOpI/AAAAAAAAIQUiR8AAAAAAICQIvEDAAAAAAAQUiR+AAAAAAAAQorEDwAAAAAAQEiR+AEAAAAAAAgpEj8AAAAAAAAhReIHAAAAAAAgpEj8AAAAAAAAhBSJHwAAAAAAgJAi8QMAAAAAABBSJH4AAAAAAABCisQPAAAAAABASJH4AQAAAAAACCkSPwAAAAAAACFF4gcAAAAAACCkSPwAAAAAAACEFIkfAAAAAACAkCLxAwAAAAAAEFIkfgAAAAAAAEKKxA8AAAAAAEBIkfgBAAAAAAAIKRI/AAAAAAAAIUXiBwAAAAAAIKRI/AAAAAAAAIQUiR8AAAAAAICQIvEDAAAAAAAQUiR+AAAAAAAAQorEDwAAAAAAQEiR+AFCYPPmzWrWrFnqu+++Uxs2bDC1ABAeCxcuVGvWrDFr6fXjjz+qMmXKeGXSpElmCwAAQO4JTeJn48aNqk2bNjGB2plnnmm2AuEhfX3o0KGqUqVKMf09qFSuXFkNGjRIbdu2zTw6NUuXLlX33HOP2meffWKeb+rUqaYFgKg777zzYsaHfffdV23ZssVsTc1NN90U8xybNm0yW/L99ddfqkKFCl6bTp06mS3pQ+IHAIrvl19+UT179lTly5ePGVOl7LrrrqZV8Tz99NNxzz137lyzFYAVisTP9OnTY4JCW0j8IGxGjBgR08ePP/54tWDBArM134QJE1SjRo28dvL++Pzzz83WWOvXr1eXXXaZql+/fsxzBxUSPwAsf+JHiiSkZ8+ebVoULJXEj5BEzHXXXafuv/9+tWrVKlObPiR+AKDo5AClO4ZKOfzww9Utt9yiXn/9dTVv3jy1Y8cO07roTj/99LjfI4XEDxAv5xM///nPf7w3eYcOHdSBBx7orZP4QZiMHTvW69vlypVL6UNNjrLYx7Rt29bUxlq0aJHXRt5D9957rz7jR0yZMsXbJoXEDwArKPFji5wxmIpUEz+ljcQPABTekiVLVN26db2xc//991crVqwwW0vOn3/+qRo3buz9ngEDBnjLUkj8APFyNvEjWeIuXbp4b/ArrrhC1x900EFeHYkfhMkpp5zi9e3jjjvO1Cb35JNPeo+RZJFcJlYYJH4AJOImfiTQnzhxYsx4ceSRRxZ4RDfVxM8ee+yhKlasqMu1115rahN77733VI8ePfS45z6/lJ133lkNHz48aZKpMImfb775RtWrV8/7+1q0aKHPxJwzZ45XJ+Waa64xj0hs/vz5+qwp+xjZPwCQC+QM8po1a3rjphycT4f333/f+x21atVSv/32m3rnnXe8OikkfoB4OZn4kTd47dq1vTe3BJsWiR8gX/Pmzb33w0UXXWRqU0fiB0Ai/sSP8B+FlaBczipMJNXET8uWLb02V111lamNd+qpp8Y8n8QKxxxzjE4WDRw4UM8P5G6XS1wlpvBLJfEjlyrssssuXpsaNWqoL7/80mzN89///jfmefzb/dwDWjJnEgDkij59+njj17HHHqvrtm7dqmbOnKlGjRqlx26Zd3LMmDHq559/LtKlXvIc9ncceuih3nOQ+AEKlnOJn5deesl7Uzdo0CDu9EESP4DSE6zKlwb7XujevbvZUjgkfgAkEpT4sXr37h0zdkjQH6SkEj9ypHmnnXby2sjZRvKFIxE3lpDy8ccfmy15kiV+li9frtq1a+dtk0lLx40bZ7bGk8STbStnAyUycuRIr13ZsmXVr7/+arYAQHaTO8q6EzjLZ4DcYMSuJypNmjTRsWZBJK51bzjiPxuSxA9QsJxK/LhBpkxqG4TED6Luqaee8t4DUh588EGzpfBI/ABIJFniRzz//PMx48cZZ5xhtuQrqcSPm2iSucpSIb9bvnRIOf/8801tnqDEj1wqK0eY3XqZE60ga9euVdWqVfMec/XVV5st+eS5q1ev7rUpzrgNAKVt2rRp3vhly957760vX/Xbvn17zJk7UoYNG2a2xpPLZm0SSS7fDUoUkfgBCpYTiR8JmtxLVu677z6zJR6JH0TVt99+qy+rsP3/4IMPTjqHRSpI/ABIpKDEj/Bfmi2XgcnlYFZJJX7cse+GG24wtUXnT/wcddRRMeuSLCrMrevfeuutmMf7x1JJPNlt3bp1M7UAkBvkTl3uGDd69GizJTE509J9zLvvvmu25JMkuN3etGlTtWbNGrMlFokfoGBZn/iRL552cka5JfVXX32lA8NExb1+X44uutskwwyEjVx2IBOf2n4vt3H/5ZeC39CpIPEDIJFUEj+WP3FiA/ySSPzIJV3uJQYjRowwW4rOn/ixxZ24VC7HGj9+vHlEwf71r395j5X/x/r000+9ejmqvXr1arMFAHKDxId2HJMye/ZssyU5OSvIPkbGSJdc3WG3yV1q3e90/vLGG294baV899133rbNmzebZwSiLasTP3I0zX0TF7eURDAIZAv5snPCCSd4/btq1ar6C0RJIvEDIJHCJH6EnK3rjieXXnppiZ3xI2fJ2O0XXHCBqS06f+JHxlr75UGOLEvSx2477LDDks4n5Grbtq33OHuXr9atW3t1MukpAOQid561Rx55xNQm545/t9xyi6lV6rrrrvPqi1vkTCEAOTi5c0G41AtRMHjwYK+fyxeQRBOnFheJHwCJFDbxI77//vukE34WNfHjTowspaC7Zwn3DmD9+vUztXmSTe4stm3bpv72t79522UcloRQQWS+CzdpJEex7fK5555rWgFA7rnrrru88Uyu1pBxNBm5HMy2lyJn6RQVl3oBBYt04ke+1Pbq1UsHXh999JGpBbKXHA22lz5KGTp0qNmSHiR+ACRSlMSPkLNjZAJmd2yxpaiJH/H222/HPFePHj3UX3/9Zbbmk3FNjgDbdnIWjiRyXAUlfiy5ZM0dk4844oi45/J7/PHHY55bitxWPtWzhgAgWz3xxBMxY9tpp50WN67LFAVdunTx2kgy/PPPPzdbi4bED1CwyCZ+5DIy91p9OQIZFCAC2UK+eNj+WpySyoR7FokfAIkUNfFjDRkyJGZ8kVKcxI+Qufxuv/12PSeg+7xBpWvXrmrVqlXmkbFSTfwISfTI7eNtW0kEJWsv3LONpHDwCUBYyJgody90x7igImOlXNJVmInyEyHxAxQsdImfwpLZ4ZlIEQCAcFqwYIF688031YQJE9TMmTPVjh07zJbMGT58uPcF5corrzS1ABA+cjbj9OnT1bhx4/TlvgWdFQkgPSKf+AEAACgt7q3d5Y6MAAAA6UbiBwAAII1+/fVXfWdRmQPIJn0aNmyo1q9fb1oAAACkD4kfAACANPj666+9RI9bhg0bZloAAACkH4kfAACANNqwYYNZAgAAKH0kfgAAAAAAAEKKxA8AAAAAAEBIkfgBAAAAAAAIKRI/AAAAAAAAIUXiBwAAAAAAIKRI/AAAAAAAAIQUiR8AAAAAAICQIvEDAAAAAAAQUiR+AAAAAAAAQorEDwAAAAAAQEiR+AEAAAAAAAgpEj8AAAAAAAAhReIHAAAAAAAgpEj8AAAAAAAAhBSJHwAAAAAAgJAi8QMAAAAAABBSJH4AAAAAAABCisQPAAAAAABASJH4AQAAAAAACCkSPwAAAAAAACFF4gcAAAAAACCkSPwAAAAAAACEFIkfAAAAAACAkCLxAwAAAAAAEFIkfgAAAAAAAEKKxA8AAEAO+eWXX9SoUaO8snXrVrMlXyptAABANORc4ueQQw5RzZo1K1TZa6+9zKOB8Pjhhx9U7969VevWrVX58uVVmTJldClbtqxq2rSpOvPMM3Xgn6pFixYFvn8KKueff755BgBR8u9//ztwTLBln332USeeeKL6xz/+oZ588km1du1a88hwefrpp1W1atVUuXLl1CWXXGJq02vkyJHemC9l3bp1Zku+VNoAQEnbsWOHeuONN1S3bt30uGjHIIlV5XPhggsu0DFsYa1fv14NGTJEtWnTRlWoUMF7Xol75TOnX79+6vfffzetAfjlVOJn5cqV3pu8MKVWrVrmGYDc171795j+XaVKFdWxY0fVp08fdc4556j27dvHbJdy8803m0cn9sorr8Q9LpVy0kknmWcAECXnnXde4JhQUKlbt6566623zLPkPkl+2/9NEvGlgcQPgGwjCZ8jjzwyZtypVKmSOvDAA/XByFatWsVsk0TQww8/bB6d2IwZM/TzuI/dY4891BlnnKH69u2rOnToELNNiiTkAcTKqcTPO++8472hJXAEomTJkiU6iWnfA127djVbgn366af6KIhtL2cHJTNo0CCv7amnnmpqASCYm/hp0KCBqU3sf//7n6patar3GAn6P/vsM7MVhUHiB0A22bhxY0yM2qVLl4SXl86aNUt/j7NtBw4caLbEGzt2rNdOyiOPPGK2xPv4449j4t7LL7/cbAEgcirxc8stt3hv5hNOOMHUAtEwdOhQr/+3bNnS1CZ3xx13eI+R0203bNhgtsQ7+uijvbZ33nmnqQWAYIVN/FhyJNY+Tsptt91mthRMjih///336r333lOvvfaa+vbbb0vsEjJ5brn84M0339RfTDZv3my2pMe2bdvUzz//rA9qffTRR2r16tVmS8HSmfhJ5z4GEE79+/f3xho5w6cgy5Yt02es28f897//NVtinXzyyV4buXSsIMOGDfPa16tXz9QCEDmV+DnllFO8N3Mql64AYbJp0yaduJGS6hcS94O4RYsWpjZYnTp1vLZy1AQAkilq4ke8+OKL3mOlfPPNN2ZLPElCyFx9bvtERS4zkCPPicjfads+9dRTavTo0TFnIQWV+vXrq+nTp5tniOeOs3LZbTKSRGnSpEnM8wcVuYxB2iZS0omfktzHAKJHxiw7RsiBylTIXD/2Mccff7ypjeWOr6nM2XrRRRd57WUuIAD5cirxs+uuu3pvZkkCJQqe5DQ/GSg4QoUomzp1asz7Qq6RTkSOOrttZYK86tWrx9TZIkdo7r33Xn1UGEB0FSfxI2e7VKxY0Xt80Kn+cgaMHLG1beSLxU8//WS25vvzzz/1lwbbTsrnn39utsZyEz+2yIEkSay75NJauZzWbff++++brbFSSfzIpKTu/BYyAb+c5eMnZ/+4f+Ppp59utsQqqcRPOvYxgOg57LDDvLEh0bjl9+ijj3qPkQnyg2zfvj1m7kpJ/ixcuNBszSdjrPxe204uO2OiZyBWziR+JAizb2ZbJFiRBJBcwylZYwm43FnepUhySAYDIErkPWHfAzVq1FALFiwwW4L5j75L2X333fVkfFdddZX+KUdO/G3k/QcgmoqT+BHu5aWdOnUytfnkkisZy6Rcd911pjaxI444wnu+RF883KSK/H5JQCUjcYVtLwnxIAUlfmSeCze5MnjwYLMlsUMPPdRrH/R7Syrxk459DCB6/HPxjBkzxmwJNmXKlJgJm2U5GTnLsFevXjG/I6jIGLx48WLzKACunDrjR0iQFpTpda1ZsybmbCDJIjMIIAo++OCDmA/Sc88912xJjXwxkOuuk/nqq69ibs+5//77my0AoqS4iZ9jjjnGe3wqc0L4yVm9ixYt8opMYG+f74ADDjCtYrmJnxtvvNHUJpbK2TwFtbn22mu97Q0bNjS1yblfoho3bmxq85VU4qcgRdnHAKLp/vvvjxlzmjdvruNSOz3Bli1b1KhRo/Q8lW47Kcnmrpw3b56ersC2lSs72rZtq0477TR19tlnq3333TfmwP9OO+2kPvnkE/NoAFbOJX5SJacGupOG3XXXXWYLED7z58/XXw5sf5dLCuQsuXSRIzX2d0mRZBCAaClO4kfOgnED9YsvvthsiTdixAj9BcK2TaVkU+LHf8lYUcqPP/5oni1PSSd+SnIfA4guuWzWTRAHFbn9+q+//qpvx27r5PMkyKWXXuq1qV27dtLLtyTBtPfee3vtDzroILMFgAht4ke416P36NHD1ALhIZcxdu7c2evnMkFzsrl8SpI7Ierdd99tagFERXESP/7LAoLmu5EEszsPkNzdZeXKlWZrPDcBk02Jnz59+njbjz32WFNbPCWV+EnHPgaAgsiNSsqXL++NJx9++KHZkm/y5MnedimpxLcy/6RMcWAfI3eEBpAnJxI/Mji4l6+kevpezZo1vcc8+OCDphYIB5n3wfZvOXI+fvx4s6VwZMJS+zzVq1ePm+Q0yNdff+09RsrMmTPNFgBRUdTEzxNPPBEzfsilUEHcpLbMNVaQbE38jBs3ztsu5Y8//jBbiq6kEj/p2McAkIwkl92x+OqrrzZbYk2YMMFrI6Wg+Sotd7qPVOYuA6IiZ874GTZsmPcmlms3k83zI9lemS/Att955531vD9AGDzwwANe35Yi11QXV5cuXbznk1Nj5TKMROQSMkkQ2faJbsEJINwKm/iR26e7B2SkvPrqq2ZrPBmLbDtJqCSaiFnq3UsGpMicD0EykfgR//jHP7w2Mkfap59+arYEk7nWZMJreZydH8NVUomfdOxjAAgyd+5cddxxx8WMI/fcc4/ZGkzmRXPHHJknKJm///3vMc8fdJdCIKpy6lKvd999N2ZSWTnLQU5Lljtk3HrrrTooadSoUcwb/pBDDkl42+l27dp57eTWqjIvEJCt5syZoypXruz1WTlFVhKc8uWgMGXixInmGWMNGTLEe24pkmCVyaHlVsfXX3+9OuGEE2Iu75IyaNAg82gAUeMmfuSzWeYZs0UOuMgEnO54YYvMv/fkk0+aZ0lMksz+z/T69evrZLNM6HnwwQfHXCrgxgeSnA6SqcSPkLvcuH+vlD333FP17dtX3X777fp/kljE3V63bt24+X1ESSV+0rGPAUSbzMMjkzH777TslksuuSTl713ubdqlyLQGcocviVvl+598FvnnKNtjjz0CxzwgynJyjh85EnbRRRfFXMNpi1wSJhnh1157zbRObPjw4fqLrAShfIFFtps0aVJcfy9KGT16tHnGYN99953q1q1bzLwPttSqVUvfAnnWrFmmNYCochM/QUWSLJIIkTuv3HHHHUW+u6Y8Ti5tdZMOUuRLhUwSapPZMk+Quz3obMhMJn4suXz9yiuv1F9M/P+TlNatW+uEu8zhlkhJJX6sktzHAKJNLsmS8UES13L3LYkp5TNg+vTppkXRfPnll/oMdfcgqC2SoN5rr730/HEAgoV6cmcAAAAAAIAoI/EDAAAAAAAQUiR+AAAAAAAAQorEDwAAAAAAQEiR+AEAAAAAAAgpEj8AAAAAAAAhReIHAAAAAAAgpEj8AAAAAAAAhBSJHwAAAAAAgJAi8QMAAAAAABBSJH4AAAAAAABCisQPAAAAAABASJH4AQAAAAAACCkSPwAAAAAAACFF4gcAAAAAACCk0pL4oVAoFAqFQqFQKBQKhUKhZEcpkcSPZJCCnpxCoVAoFAqFQqFQKBQKhZLZMnXuGpPBSSxp4gcAAAAAAAC5i8QPAAAAAABASJH4AQAAAAAACCkSPwAAAAAAAKGk1P8B8bDmzOxxJLkAAAAASUVORK5CYII=)"
      ],
      "metadata": {
        "id": "K3kSMwjR0H8_"
      }
    },
    {
      "cell_type": "markdown",
      "source": [
        "## Part 1\n",
        "- Fungsi describe : Memberikan informasi mengenai nilai rataan, standar deviasi dan IQR (interquartile range).\n",
        "- [nama_dataframe].describe()\n",
        "- Argument include = \"all\" : Mendapatkan summary statistik atau statistik deskriptif dari kolom numerik dan karakter.\n",
        "- Output :\n",
        "\n",
        "![part_1_2.png](data:image/png;base64,iVBORw0KGgoAAAANSUhEUgAAArYAAAG+CAYAAAERv3eKAAAAAXNSR0IArs4c6QAAAARnQU1BAACxjwv8YQUAAAAJcEhZcwAADsMAAA7DAcdvqGQAAMrVSURBVHhe7Z0FuOPG9bcLadIwNMy0YWbGhps2jJs0nDScNJx/N9Qw04aZGmqYmZmZs2FqmAv+vnc8R3c8lmT5ruxre3/v88xjaeZItqWZo9HMmXN+UREtQxe3hejithBd3BbSURf3vffe81vt5Re/+EXlyy+/9Hvl0TEXd4wxxnB/0rjuuusql19+eU1eq7DvmGqqqdx2mIyffvrJbxWnYy7uRBNN5LeqcHH/+c9/utQOuJCLLrpoclF//etf11zc/tAxFzfkpJNO8lvdTUde3F5BF7eF6OK2EF3cFqKL20J0cVtI3cW1vl3Yx7vmmmsqBxxwQOXoo48e7r5fI8Lz2/aDDz7oPo2bb77ZfVJuMiOPPLL7LBPOzX8fMmRIze8KWWihhdxnWnlNjgkcdthh7tPgC4DyrC8pk80339x92nfddttt7tO4+uqr3Wf4e375y1+6z+Hl559/9lvV8994442Vgw8+OPN/zzXXXO4zrbwux05+1113uc/bb7/dfbabf/3rX36ryiuvvOI+33jjDfeZRn9eUUPuuecev5XPvffe6z6/+eYb95lF+u0QpdAxF9ea+H//+9/K9ddf73MrlVNOOcV9zjfffO4TmWmnnbYy55xzJk1xwQUXdJ8bb7yx+2yWeeedt3LfffdVxhtvPJ9Txc5v4x5//etf3ed0003nPu03n3feeYlsSE3O1ltv7bf6+M1vflP5/vvvkxOhf1rFb3/7W/d5ww03uM8Y+wP2W8COMWL93Cx23u23377me2Isf6uttsqW8Z+OtItr2Be1SgeHPzDr4t50002VJ554Ivktb7/9tqtxw8tII43ktyqu5Rh8x7LLLuv3atlzzz0rq666avJb0kjPFaWgi9tCci/u//73v8pmm23m99pH2Mz4DWEX6+OPP/ZbVTl7CF188cWZzbMRf/nLX/xW33evueaaNfkQnn+ZZZZxn+RlfW9d7h133OG3qgzExQ257LLLal5q7OL++c9/dg/bkDIubkh84bLOz3MofrBCnbSd4D//+Y/bbvfFtT8U/xHbt4vL/g477ODe1qwsPqYodnE53tKvfvWruvOGn2GCYcOGuc+Q/v0aUQhd3BZSc3Hp54ZVHcYaayy/1R7C744JR6BMbvnll3efxg8//OC3mmfQoEF+q1KZe+65E9WYBvlfffVVZYkllsiW8Z+OrJeIrINbQfhd8UBMOAJlckyHh/TXuOPOO+90b2UkWGCBBdxn5oX7//m8uS633HLZMv6zY+GNDPJGoOyCPvPMM+6zWV5//XW/lQ7dQbCe1L///W/32YiOv7jdTN3FXWSRRdwnVf21116rvPnmm26/1fB9pHiEaZNNNnGf7RgVs98AocVNKaNiIaOPPrr73HXXXd1nO6AjHv7Ihx9+2G9VsTL7U1DmqBjn3HHHHd32Bhts4D7D3xNi+YVHxWJOPfVU95BbbLHFfE7rsB+Y9UOhHaNi4e/YdNNNNSrWqejitpBCFzecEW0Vn376adLEsgbLmaS86qqrEjn6ph9++KEvLYdRRx3VfXJ+XhAYv0jjjDPOcP1u+y1p5F7c4Z0yaRabBbCL264H2gcffOA+RxllFPcJLXmgPfXUU+7z6aefdp/jjDNO5sFlsvjii1cuvfRStx3W3Jdeesl9XnDBBe6T34KNAg8h+11XXnml+7Tf3CyPPPKI+9xnn30qgwcPrsw666zu3CReIPbdd19XbiNyGMeAyWy55ZbuOsW0/qqNwOjitpBCF9eaX6tp9D2tHhUDO2/po2Lwpz/9yW9V9SBkHdxq2jkqBqFNRktHxdo1ptCIdoyK3X333X4rHY2KdSAdc3HDph42s3aMim233Xbuk9nkL774wm2XPiqWNhOB3k07sBXwQrDaaqsl3zcQo2JG6S8RaRd33HHHzTy4TOw78r6rVaNiIeHv0KhYB6OL20J0cVuILm4L0cVtIbq4LUQXt4Xo4rYQXdwWsNfp1YWIurgtQBe3hXTcxc16P281eWMD/aVjay5/lCmW/g4fNsukk05aufbaayuffPKJz+nj/PPPd79n5pln9jnF6KiLazMJVov++Mc/VuaYYw6X12qs1tqq+Bgrb4aOrrn9+UOdhB5oLUQXt4Xo4rYQXdwWoovbQnRxW0jqxaULhHUJn6wUty6ROQlmvr7d3aQ0+7BDDjnEfRpmHzY8vy08Nus85Mf2YbHPM2hYc3EKbCfg4g4UafZhZi9rhC8hZZB1HvJj+7A0O4l+q4VW+xUP7bby7MPef/9999lf+7BGxPZhtp9G/HYnndtCOu7ixi4GDXw0hrZYa6yxhvvE7AnIP/744507lvjYIrB6koRqSTueBSjYj1FGevbZZ52jC7DFKGbHZmReXDuB+XAZSPgtXFz707GPSdO9lDO61V/WWmut5DvSoOzVV1/N9aMT5udeXPjd737nPlmONJCEFzcLyknU8OHhkksu8Vu1UHu5Hix0yfot2LEZ0rktRBe3heReXGYCBoK9997bb/WBiTwrOGmOrBOD0LfY8GJr37Kauz20Xn75ZfdpcvR3Q8IuYerFtQO5uFlf1mqyvjfv98RvbP2l6HcT6gZGG20090n57rvv7rYh9+LyyZ3CdL2dnHPOOTV/xFbqkHfFFVe4bSP8rWXAecJzhef/+uuv3TaEcvGnIZ3bQnRxW0jqxZ1pppmSpfnbbrttTRNoNeH3nHnmmX6r6ujdyop43W+W8DhbxB2DTFGv+5BZc+1gu7jtIvwulkIZ4UtEPAKV5nW/WcxLP8dvuOGGbjuGsqJe96Fj1YL5PsiiiNf9MnjggQf8VjZZXvelc1tI6sVltIdVgqxapPrjlcniRbQaGxULR5j4DbjgaseoGITH26rKUkfF7I/054eWRfjdM8wwQ7LfylExiP+zLaAmf7hHxUwg6wTtwkaYLBZQo99jMsMzKrb//vv7rXo0KtZB6OK2kNSLGy51tw5zrKxbwUcffeS3KpX777/fb1UqO+20U9LkszBTAPvN/eGss86qrLPOOn6vnimnnNK5C+A7Yif0RjhJmVlzOUH4cJhtttlyZz7LglXgabTjgWbEsXlKfaCZry5LRlizWgF/wsZVjRdeeCH5HaHfLvMBZuG18LeAsXT8m5uFUbezzz7b71Uqb731lvvEJUDohuCiiy6qzD777K7MzAzM55khndtCdHFbSObFZbbXmhf9uqzoH2USv5uHb4XtGBWjj5un+pApZVQsZrfddiscPnB4sKl8YETOaPWoGH4bbT4sy3yKc7dsVMzsstoBftLz0KjYCE7HXdzQVmyyySZLtls9KsYxdtwEE0zgPqElo2J2gvnnn9/nVJyDtHbB94fu/Fr9EoFDtvA8IaW+RIAJhcLzzDOP32oP9t3tGhVr9B0aFesgdHFbiC5uC9HFbSG6uC1EF7eF6OK2AV1c0ZWo4oquwR5loIorugZVXNGVqOI2IB6zxdoIYxks3m1ejTVnZhjS7YT/1bYx0LE1dmCLLInLAQRmYfLg5JNPdvusy7PtVqGKmwM3Z+jQoW76bKONNkrygBmm6667zu2HqVfAYoz/Y1HaDMKCLrzwwm77oYcecgsPwv8dXou99trL55aPKm4G4c0A22dhKtusLr7llltc3pJLLlkn361YrMIwZjdz2uH/s7nv008/3e3H/5396aef3u+1BlVc0ZWo4oquRBVXdCWquKIrUcUVXYkqruhK2lpx42GTboPf/+GHH7oUMsUUU7jPnXfe2X3C+OOP7z7tP9tnuIrAVkDEMrZGm6Ep/NUx6bHKKqu4vHaT9Z/x3ffkk086V+1HHnmky4v/x2mnnVb517/+5VYUP/bYYy4vlily7dIoVHHDZXacjJVeDESDDVCHX8KawtBVfPxjuxVbux7/j3Cf7XD5S9p/ZxnLiiuu6Pf6ysJKzbLF+LwDQdrvh7TfxuwZsPwG0mQMwvxDLJN27dIoVHGff/75xHeqnSxLW/zf//1fz1Zc1quC/Q+b8sT3ADz11FOJA4rll1/efcb/3WbgYL/99nOfsYxNH+OCcNiwYW671QP6Wdhvmmaaadyncf3111d+/PFHt73ZZpu5z/h/sH4ZUHJE5wN7mphMkWuXhvq4oitRxRVdSaGKS+f722+/TdT6+uuvX1lhhRXcNhAodqmllvJ7lcoZZ5zh1pMb9INXXXXVXAdSnYa9cED8yLrhhhv8Vi2LLLKIc68B4TE4LDSXQ2BloQzdsT//+c9+L12mnaR9f9pvIS9P9pRTTnGfGO1AKGMvYeaZeNCgQe4zlDFnjzGFKu7WW2/tt2pPCuyHyfJ40Qj34fbbb3ef3YT99pC44oZxCtIqLn4F8PxmxNcFuMH2hg1WFiqALNfTZTP22GP7rSr8lpVWWqnm98Laa6/tPtP+j23baIL5DUuTMSxSdpjPtUtjuCsuzDLLLDX5eMqYeuqpkzz77KaKi4bkd1sKCSuuBd8wrOIC1yF09LHpppvWnYv98EmEr15sgEOQaaWJYIh5WgkhMmFI6GkKwv+EwrI4GYBPIsp50TRGGWWUxHUl4HwJGYb/jPjaxaiPK7qSUiuuDYv0KmgFkrniNCzfEqAx2P7888/dPoRPLjB5kyFsk+WZ9zSzfW0nCy64oN+qYr8pxp4goTs6JiRiWXNhCmbvG8qMOeaYbt/CVtkKi7zgRIUqLjMgwJeaE1uL2WU/gD5cr1dcI7zoIZZ/4oknuk8IZeM4YpNMMokb45x55pndPrKWQuL9VpPlnPO4447zW7XY71t66aVTnbel/X4a5E8//eT3qphcKG9jujGFKm74UmD+w+KKC71eccNVATHhdfjuu+/8Vm1+WHHXW289v9UnM+6447pP2GWXXfxW7TnaQVxxs77fFJp5frXwaRAeEx8f77OCJI1QAcSojyu6ElVc0ZUMd8UNhzB6DR5p4WPNhnlY2frDDz+4bcNeJEy+vxZjNlAfy2ZF9Sibd999t2Y4ywivgxH/jyIWY0xe0a+/7LLLkmsYy6Rdu5hCFTdtHNcMLMwpu+VDuN3txP+F/Tjv4Ycf9ltVJ8kQX48iFmM2MwlWFluMtRr7XnwBG1SytMmPDTbYwG9VHTSH/8e2y7AYS6PfFdcYkSqubWPFtMcee7htg5hHYDL9tRi79dZb3ae5OzeZdjkcse/7wx/+4D6NtIprsqahi1iMmdt2hgBtGryIxViM+riiK1HFFV1JoYprKhxi1W/YPmN5Yf+oW0mzDgv/c5bVUpZst1qHQVYMJDOAsXhM4TG2PaDWYUbWmy1Tf0YYPbEXCP9HuB1aLYVBq+K+LnS7dZgR/l6I18GF5bY9oNZhU001lTuZJYPtcJ7aOPXUU2vkupEs67DYasmswxg1iP9zr1iHsWwo/N2hdRj5YchSWYcJkUPhisvcuSUDo4qw/9MrPmINHnOLLbaY3+uDQfYYNHQ85864ZNhFePTRR+serwR4DkOas6gwtvmIr3MrCe+zxcxE21ukwpgFFljAGcwYRxxxRGLlBQxnxZpz1113ddEUDTxgxtEN42sXU7jinnTSSZV1113X79UOUL/++uvOMIN+DNt0LXqJ8DEJ8QqIzz77zG+lL2GffPLJXfRww8pCmTPPPNOFqTesLL7O7cK+31YigxlWGeESewj/j23b5MwJJ5zgPtNkDOumhPlcuzSa7irYSeMvNVibZoPn3c7TTz9dZ3sLWWvOIO36sOwlXCmRJsP3pFmMhTLtIvzOrG2wJes4/YA0WYvyaXFjQxlrlLYE357YoQzXLg31cUVXooorupJ+dxWYdzefUrYcA2wsrhdYZpll3Kf9N/u0VSAhvWIdFv82ltx///33lU8++aSy7LLLujwjlu046zDDTgysE4JwPRFYJJpegbdi4j0YXIN4LVQvWYdhJMN3b7/99j6nyrTTTuu3+uh46zCIp3HthLxUWOfcBs4ZYO4F4otm+/zfZ5991m0bvWYdhgMXQIs+/vjjbjvGZGUdJkRBVHFFV1Ko4jbyHYZV0xxzzOG29957b/cJcXC3biLNOuzmm292n3nEj0boJuswomSCTRjYuwzEv6XjrcMauWAij8HocHk1U4G9QNr/hTC/l6zDLrroIvfdFnwvtM4Kfy90vHVYkYrLD+OT4RMjTbZbyLMOCytTr1mHES3zmGOO8XtV8IcW/iZZhwnRT1RxRVeiiiu6ElVc0ZWo4oquRBVXdCWquKLrUcUVXYcqreg6XKUN+wxCdDqqtKLrUKUVXYcqreg6VGlF16FKK7oOVdoIll1jBzoiwf+11A2o0kZw40YbbTS/V4W4B6xODZccYUSNcXW3E1bUMNAg/spsWQ3gYC/8/2zbKgSW85jbpXagShthN9Gs+hdeeOHKueee67atzD57aal92FDt/xG98corr3T7FhEzvgasbjFvjZbXaty3qNJW+dvf/lYZPHhwZejQoXU3B8I8S0UWSHYL4f8LCfdjGT7D1A7ct6jSVgkvOiuSX3nllcpMM83kPDKClbfr5rQD/kuWm6MXXnjBuRAN/28ss+OOO7oEBx10kPtsNe6bVWmrhDcHbB/3UTPOOGPdzQsXfHYzyy23nPs/1157rc+p/j+cSRv4n43/v4HbU/bx9dUO3Der0mbDqlK0LmmsscbyuWIgUaUVXYcqreg6VGlF16FKK7oOVVrRdajSiq5DlVZ0Haq0outQpRVdhyqt6DpUaUXXoUoruo6WV1qiAHYrDz74YBLd8ssvv/S5VeJIj2Y0Hlr3zz///O7TZOyzSKRH+xwICIJt/zsk/m2nnXaai8mGCaPFYohl0iI9Frl2ebij0irt4Ycf7k5qX0AQM/bti0Isz8rj/W6lSOhVu+Dh/ySWQhwpMvwEjMctmB5YmYW9D2MVdAq77LKL+7zzzjvdZ/h/bPuaa65xn0OGDHGfaTJG1rVrhJNOq7QWgvSbb75xn3lfbvv2STQ/o5s17SyzzOIWOhL90AzBoVFo0kUXXbSy4oor+r366wNZoUnj8J/thuiORG687777nA1tiEXI+eCDD9xn+H9su1Fo0iLXrhFOOq3SbrHFFn6rStoPNGzfPkMt0c2VNiT8zz/99JPfqi5whLCcgMZUSiO+PnD11VfX3CAr66TQV+HvhT322MN9WgzlsNy2sT+Ggw8+2H3GMkWuXSOcdFqltRNZbCnb//rrr5OgeBZczcrsM6y0tNhuxf4PGm///fd320YcX8w+zzjjDPcJLFWBWKZILN0wBFI7oVto2G8x4v+x2267uU/6rOeff77bjmXSYukWuXZ5OOmsFzEC8oYQ7DdcUkE/t1Hfi4DR3Uzek+KJJ57wW1U+/vhjv9WHRUA0wsB6RvyS1wnR4K1bGGP9WSMtYPMdd9zht6qkdXOKXLssciutEJ2IKq3oOlRpRdehShuAKyBcINmLAay77ro1+zFhGdubbLJJEmeXEZhlllmmToYl22ussYbbH2+88dx4cCyz4IILVo4//nif0zqI22vJfgOf22yzTY2bpJD4t/71r39N8vBEw0RJGGuYsh122CGRefbZZ10cXXv5BMrCa5eHO0tapWV2YqmllnLDHAxT2ECwwX74kjLrrLMmThsIHkwHPfxR3YBdVAiHXsL8kAkmmCA1qrbJh8eddNJJlXPOOcfvpctAWsj9dnHUUUe5T2bEwBpWyGeffVbzMk6jBqKdQ/ibbTsvnL7NBBpF/rOTSKu0djDDGvZ2a3n2SesECxH/3nvvuU98O9kbY5Ef0WngVSYk6z/cf//9SaXt74RDOKV72223pU44tINQKZmTDpRWTKy8ikw4GFtttZX7jGXSrl0e7ui8SsvsiGF5fFqCQw891G2b5zxzSAYm0y1ceumllWHDhvm9Kmn/wfKs0oZDWfE4JKCRwvFZKwsfh2gkUwDQzms39dRT+61KZc8993TfHc7OwW9+8xu/1ceRRx7pPt988033Gf7m+PfbtHgsk3bt8nBHN1tp48e+5du4brdW2k8//bRy+eWX+70+8v5D2D04+uij3afJh8cxuM7Y588//+z2Y5nzzjvPfYaTMXnfWyZ07dIo8v0mM+2007rPscce230C/XJgGhzi/ww0EIivXR5OotlKC2ybhdJHH32UlNGf7dZKy28NkxFumwGREVbaww47rEYW2F9iiSX8Xp/frBD2Q0MRul3xY7iVxL+HGU8suAzcnWZBQ+T4J5980udUK254XZjaRSaciMJNKi9jRtq1y8JJpVVaIToVVVrRdajSiq5juCpt0T5It/Lyyy+7/xj/Twy1LT8sS5MN91977TW3H/ZX7ZhQzl5g2sUXX3xR8/3EV2B/nnnm8Tl9xL8VJp544pqYCw899FBi3QVjjjmmO2afffZx+/Rt4/OknTcLJ5VVaTGANtJOWPRLupXw/917771+qxaTCWVDl/Zhvm2HllFLLrmk36rCkNtf/vIXv9d60oy1bfXBaqut5j6NtP8S5oGN7dpSo7Q6FB7DjGE45BWfLw0nkVZp4y8ITzbZZJO5zyJf0AscccQRfqsesxENrwWaygjzmbKFMCjHuOOO62TCseF2Vloj7V5m3V+G5czYe5JJJnFy4VAXWKUNic+Hhme21cZ4Ies7Q5xEWqVlLDZ8PNjJwqGQIl/Q7TBlGU6thoT/P9wOZ5LSZBZaaCH3GRLKdUKlXWuttfxWPWhGW4RoY7zPPPOM+zTiShuHuYLQ0J3vt9QIJ5FWaW0lZmxRb/PIUOQLup28GRoMRYzwWlx44YV+qzY/3GYWMTT2DssGutIyNv/uu+/6vT7omxomb/1zFgiEhJU27gJB+H0hWfkhTiKt0o466qjuBHYSDD5s2/Jtv1cJ/6f9VzMqif87j7hQzgj3WX0by9h+WFEHutLabyKdeuqpqWU2UUAcMcsLCSutlZtMuB/nFcFJZb2ICdGJqNKKrkOVVnQdqrSi6+hXpY2XlvcKjD/zMhBatsV+pwyzew1XOAyPf6/QVjX279Vq+A3xsnUmGOL/zMsXqy+YHIn9YdhnWf698nASaZWWgy3ZOqf4zZkZE5PpJWy5CVx11VXuM/6P4X487mqVNZQp4t+LG5jm36uVvP76636rlumnn77u+80jDFhZEf9etizLTDTTZIwiJpnuiKxKC2acDJZnn+bChxCcvURYadGM8YWFMI/tbl1us+yyy1bWXHNNt23fF38a4b5td9VyGzDDjsUWW8x99gpWaUPPL7Hxd3jh55prrlL8e/F9af69Wkk868mkwrbbblvZfvvt3f6BBx7oS2u1oP22Iv69zP4AA3iIZdKuXR7uaFXaWkJNG7usfPvtt92naUT692YAMzz+vWaffXb3CbF/r1ZjFdN+ixHvsxzJbCToPkD8P9L8e1l/3WSK+PfKw0k0+yI2ooGpncFLhpHm76o//r3ieXuI/Xu1GpZMFSXUjFDEv1dsJVfEv1cWqrSi61ClFV2HKq3oOjIrLR1iloKHHWO2LQFLna2TnTXe102k+fJiO83HFEOBvFDkyXazLy9LMYwgMCxl/XxkOsaXl3kXCeMnbLjhhn6rCo4nsAuFMCZBt2IXFWI36mEZhPuxwbSVhTLd5Msr63unmmoqv9Un01G+vIz4R9A6LIjIXXfd5d6Oi3xRN2G+vPIGvePr0ku+vPhem9IOCfdtu6MmF+B3v/ud36ol/FJb38PSibRlJN1G6Msrz8dUeA3wptJLvrxCwrVr4e+x7Y7y5RU/8sLlFOGXImePvfhHdhtpvryyfEyF+zfddJP77BVfXva9YWWCgw46yG/V//6O8eVliXXtgKbIOin577zzjt/rTsL/bP8z9jEVTufSVZpzzjn9Xu/48gLymM6F0JcXj+/QIk2+vIQogCqt6DpUaUXXkVlp77nnHmfgS+IFBbDa2Wyzzdw20A+zl5BeYb311nM+dkNCXw8hDOGcddZZfq/qbSZe48949xVXXOH3KpVrr722ss466/i9Knikwc+XEV/nVmL32JIRWp2FDB06NImtYdCvD+MwYBkXGrwT5TP07QW77rprzeRJ2rXLIrPSMjsUgvMOs94JO8yse4einehOxv4DN4DKBYxJp/23MO+VV15xnzvttJP7tDL75KbZS4hZfcUyZgKZdZ3bQfybxhprLPdpXHnllX6rfnWGDd2FCwJsMgp7YzDZ8EXOzDbja5eHk0irtBzMcIT5bAorsZ2YsVm2L7nkErffS2SNTxphHtG6ifpimM+uUGbw4MHOsNqwMpyiGEyFp13ndpDm7SbP8N22eesHpmYhTcawqetYJu3a5eGOTqu0Zu/44osvVh588MHcmRqmKNEmvUL8/+J9iC98t8+Ihd/FEOemm25aoxEhlLHtjpsRM1h5SV/PiL80NJ7odtL+Q6O8lVZayW9VsbJQhujeuBgy0mQg6zq3EiY8QqVDvxWsIho2Xg/226jcYF2H8Dfbtj21rJ8cyoRPGijyn51EWqVlgJglwAwCG2gBfpzFmTJYbUk/rMgXdjL8fqZxLRnh/7JtlnlfcMEFiR0GUMZLm8nMOOOMrm8cz+ujUSeccMJkH2MjOwayrnOrCL8b2GeFhuWHXRaMZtCu9rKKTBgohgrKpASLJW0WlTJizJkMxjXMgIUve5SF1y4PJ9FI0wrRSajSiq5DlVZ0Haq0ousoVGltHI2XMga/zUs4S37Np1O71ui3EnsJYLbGloqbm6L4BaFXfHnhx4GXToY4s3wZGB3vy8sIT2K2jwYTD/H0XDcTrv23YR8jvpjhfjf78kqb8LAZuUUWWcR9Gh3vy8sILzRDMN9++23dF8XTfd1O/P/ifYgvfDdPLvA9ad8VPz1DGdvuuMmF+EuNMH+FFVZwKzBpTVny3USWL6n4v4X73ezLKx5DNtK+O022o3x5AXPqIeabKfxSXPzYEpEwvxsxL5AGca7i/9ZrvrxQOkb8m2K61pfX888/77dqCZdb9BrPPfec3+pdX17h/2qEfHkJ0SSqtKLrUKUVXYcqbUCWLy9LIb3iywuYNAonN/h+RgXC32QwgsCwVEf68mIWh8DE/Hg63uFwB2+GzGB88sknbt9mfIgJG64V6jbsooLNdIV5IWF+N/vyCr/Dtm0mjkYX0vG+vOxghjDsTdbypplmGvcZ/qi0SYduxXx5Af8J4+f4v4X7bHfr5ELo+sq+j9/JUyespBD+HtvumkAhPEoYBI7Vey8Q+vIK+dvf/ua3qoT/t9t9efE9s8wyS/J95tqIJ21I+Htsu6N8edmJ0yqtPRKsH8Rq1NDSvVtJ8+VllZVVCCHhf+12X17w6quvJuHyrbvDyoyQrvDlBWmVlnVBbG+99dZu3/IvvvjixDiiG+F/hAkeffRRt23aoBd9efF94bsIkx38JltlLV9eQgwnqrSi61ClFV2HKq3oOlRpRdehSiu6DlVa0XWo0oquQ5VWdB2qtKLrUKUVXYcqreg6XKUVoptQpRVdhyqtEEK0gRplyzuZkpKSktLwp5g6ZSuEEGL4kLIVQog2IGUrhBBtQMpWCCHagJStEEK0ASlb0W8I12ghG0VvQizY1Vdf3XkpHDJkiM8V/UHKVvSL3//+9849J6mIB2/RXdj9PeCAA3xO1c+y3XPRPFK2omnuuece1+BOOeWUytVXX+22LbJoiDXMOF133XVeIl1ms80286VioNhuu+3cvTBH71nMPPPMdfePZHz44YdJHr7IbXv//ff3EvV14IgjjnD5RHiIy7r5wS5lK5qGSj/qqKP6vUplkkkmcXlhdFxrHCHmrN6UbZrMgQce6PLSIhCL9kN041jpEfIcCFPO/tNPP+32jbvvvrvywgsvuG3K4xjzRMoj/4477nD7dt6QkUYaqS6P30Je+LDuJqRsRVNYw8hKRrwPRZSt6AyIhhNGxDGIZmP3bO+993bbL7/8sttPg/JxxhnH71U59dRTXf5ZZ53l9tm2cxoE14vzuh0pW1EYQjXRAB588EGf08fbb7/tyiabbDK3T8gna0QWAdNS2jACkSSnn376ZF8MLI8//nhyL1B8vL7b/mKLLealquG4yKP3O8888yQyxvPPP5/kEcXUtpdeemkvkf3QtfzRRhut5twWUbbbkLIVLYO4eiGEIaaxhMMNQowoSNmKlkGEXeuNkAi8KsSIipStEEK0ASlbIYRoA1K2QgjRBqRshRCiDUjZCiFEG5CyFUKINiBlK4QQbUDKVggh2oCUrRBCtAEpWyGEaANStkII0QakbEWp/PTTTzX+ECxtuOGGXiId8x5l6dlnn/UlfYTOp0lEDgj59ttva8pJeB8LKSLzxhtv1JSPMcYYvqSPm2++uUZmuumm8yUjDuH/D1MehxxySI3siiuu6Ev6WHPNNWtk9tprL1/SRxGZWWedtUaGED8xZdS7opSubP/zn//4rWyKyBSBhp0GF+Srr77ye6KdnHDCCe76NwPyTz75pN+rQp41IFPgP//8s9s3yEPpwcMPP1z3vXgXI+/rr792+0VkzOduyKuvvlqTh4KIZc4444y6vF6H/9tMWx5rrLGcK80QHsLhdWP7j3/8o9+rMsUUU1R+85vf+L3iMsccc4zfq0LeQgst5Peq+8Nb75qhFGWLV3Z+wJ133ulzKpUJJpjAeVs3KB9//PH9Xp+/TEKsGOzHkHfNNde47csvv9zt49vSWGWVVeqOY1/KdmCYZZZZKqOMMoq7B5aGDh3qS+t57rnn6u4f4Nv217/+tds+8cQTU2XIM7+o1tOJIc/iaBWRQRkQeSIGGaurbK+//vpuO4T8EcV95CeffOL+rzkTJ0055ZS+NB1kTjvtNL9X5b333nP5BtuvvPKK36ty4YUX9ksmZosttkjyy6p3zVCKsuXL814TLdRJzJVXXlmTn/XHYmUbwpM1zmNfyrZzwLE0DqjTSOttAs6qeX2DtN4mkLfUUku57bTeJpBn8a6KyPA7J510UrcdggzhXmx7gw02cNsh5MdDEiMSOIVPu74GZaeffrrfq/LBBx/UHMM2bxIhF198cb9kYrbaaqskv6x61wylKFvCXkw11VR+r4+bbrrJfVrPN2bttdeuyWf7xx9/9HtVyJOy7R7GHXfcutcui/CQBWU0uhDyttxyS7f93XffpR5PHj0auPHGGzNl6D1BEZk99tijTsbGeY0FFlggaZDGXXfdlXruXoXoG2ussYbfq/LDDz/kXgPKCBAZYnHMDLb/8pe/+L0qSy65ZL9kLr30Ur9XhYgPgwYN8ntVmeGtd81QirIFfiA/IkzheA7KLy4PhwNg2223rSlnjIfPZpVt+Goj2kvaBNnUU0/tS6uQd9RRR/m9vkodJuJbhbz55pt1MldccYUvrXLrrbfWyVjgQaOIzOGHH14nE4disY5CmEa0CBQMG8TX4KOPPvKl1ftMCpl99tlr5FGAMTywQ5m0CL9FZOKJrRVWWMGXVCmr3hWlNGUrhBAiGylbIYRoA1K2QgjRBqRsRdM89thjlfXWW8+FtI5tGWNeeumlOlvGIuyyyy6V3Xff3e/18dZbb7lZZSZEzjrrLJ9by6OPPuqsBTALzBpfu/baa52t5jrrrFO5//77fW4t559/vjPx2WyzzSqvvfaaz62liEw3wvXPSvfee6+Xqtopb7zxxpW55567zqyrCFwzzpnGEUccUZlzzjkr++yzT6qVB989ZMgQJ8NiiTSwn951110r8803X+X444/3ubUUkSlS7xohZSsKw+QHEwSffvqpz6m4RkAeystgHwsVlBjbN9xwgy8pBsewamvkkUf2OVXI32mnnfxeFfJCm0v2r7rqKr9XbUjkhZO17H/88cd+r+Lsw8kzPvzwQ7cfTnjRqJuV6TVQMuH/w46eiaoQyg899FC/l88f/vCHZAVXyA477FCXh/lgaMc7xxxz1CxiAI4JTVApn2uuufxeFWRYgGIUkWG/Ub0rQinKduutt3ZfzsXfd999E6sCnhR8kmcmHhi8h5A35phjVi655JLKyiuv7Pbff/99X1pxNo/k7bbbbpVzzjnHbY833ni+tFLZbrvtXB7pz3/+s1v9wXZ8AUXr4HoPGzbM79VCWVFlG5pmTTTRRDXK9rPPPkvKQqgLk08+udumF5smQ97gwYPd9vbbb58pc+aZZ7rt2WabrTLqqKO67RBkXn/9dbddRKaXeOCBB+quG/uPPPKI36uStRAgBhl0gm2HsI+NawjLaEM5trGVDYlXL8bnBczVmpEpUu+KUqqyDbn++utTf2SYxzZKNOSWW25JPQ54JX3xxRdryk3Zhtx+++2Z5xDlseeee7rrnGfIT3kRZTvTTDPVVN5Y2eYZoVt+nhH6oosu6rbzFjbQKYC8hQ233Xab2y4i0yvECw8MM8U8++yzXQ9/k002cftpsgZ29JSHdvCxPPtlLX6ICRc2QCOZIvWuKAOubG2ZZBbIvP32236vSngOKdv28/TTT7vrG/dq0kCukbJFJi/Zmw7bMeSttNJKbvvll1/OlMF2Fk499dRMGfs/jEdnyRhFZHoBFqjwn8x3RCN4u01bygzWO81LwOemm27qto201abnnXee36sSDz+wHb9xYecbvpEUlYkhz+pdUQZU2fI0ZB8/Cs8884y7oPRmGO8zKMenAq+Y6667rtsnsVoFpGzbx7///W93XRdffHG3OidOaSCfpmzJjxcThMQ9W7CFMxdccIF7y6GexPd5xhlndHmMIaM8WeBCCkEhIIOvA3qhbE844YS+tAp59F55sFhDj52fFJHpdvhPeQ9VJiPp0aKckMXnSQjDLXjfyoPjQkwvLLvssm6egDcO9p944gkvUXEKkjyGLBl/N78X4QrUiy66yOUdffTRboWgLagIKSJTpN4VoRRlK4QQIh8pWyGEaANStkII0QY6TtliLoZLRiGE6CXapmwZUGaVSSOQYzWO6D5sgUNoAL7MMsv0azIBB964MjSY5AqdzzNJF5/XvDzh/DnrO8kPHT/j4T+WXX755Z09OAsXwmQLI+677z53TKPv6maK/MdFFlnE5X///fdu3xyKM7GVxV//+lcngyzYpCvXPMQmLvEYxwRkjEV4sEQnLYb80PXrP/7xD5cXBywoIhOaJZo3wmYpTdlOM8007gdYmmyyyVz+u+++W5NPMmK3izQwPqVsu5N//etfNS72DO4p9tFFwSaWhS7Ggw8+6M4RQ15a7Clmp9Pk0wzUzbQphH1siIuAX9W07+olsv4j9zpcQQemgJshDo1z7rnnNnUOZOeff36/VwWrhKy6yBJtKCKTZyrYyGw1phRla6YZIZj1hGvFKQ97tqyyIS++WeRJ2fYGptyyfA+ksfnmm9fVpSKLFUKylK1BmaW0YI4oejPhwnF4nqnPiKxsY/ApGztVzwI/tnYPYrNBltCS//e//93t2xtTbJ5nUBYr2zSQi3vQMWky5B100EF+r+ICR5KHuVkzlNazBYyWbcktCee8Bvuhss2L7yNl2/1wH8NhgCIceeSRqXXCXiljyNt55539Xh9ZyhaHJ1nnwaFMHsgwdBEjZVupHHzwwa78m2++8TnNYcrLYJsecgz5oY8Lg/w8ZcswQaOHQCMZ3oDwl8BwEvCdaZF48yhF2fLECYM7Aj88vACMgcVe2fnBeNExzHGJlG33QsDEcAggjXhFIGQtgjEoC3scedFss5StDUdQbthyzNC5Dvuh8sWonzyGSWJGZGVrK/bihQx54FDGAioaLGAJ8yzaB1E1DJRhrGMMZNOUrS14it+eQ4rIhJiPl/54OCu1Zwus3opDiBhU6LTVKAyAh71g0dukKa2ioCib9baUBtFV47X1MYREef755/2eKBMmxlCmcczBmKeeeqrwUuFWUlQZ51G6shVCCFGPlK0QQrQBKVshhGgDA6psMa9hsFl0H6eccoq7d0xspWEe+C2FkRyyiI9Jm+0tImOLGyx9/vnnvqQK5lxhOSn2yfvGG2/UlKeZiBWR6Xa4LjPPPHPyH/NgcrSRDNx8883J+UjTTTedL+mDMDehDH6IY8zTl6U0m2s8joUyWD7EFJEpUu8a0RJli5lETKOBcNEdENfL3FtS6bLcJ4YzyUAeBuJZUB7HKiMvbECNZGwWO65/5NHAIc0ZNJMf5NlETJpdL5NpYV4RmW6Hh9Y888zj9/LhfxNtpdH/T3PeHluWsEILxR0SL3xgO3ZnyWrAMFQOMnGMPPIWWmghv1dcplHdLEIpytb82Yaxn3jKk7f66qv7nEplrbXWcnmGhc8x2CaFM8DsL7HEEn5PdBLcmzRlSwBAyr744gu3z/LY2KdsCJYByMdMP/30iUlQEZk8221bomu9oRjybEUQDZ3VjDHI2DLOIjLdDNeC/4I/Wj5JKN/4DQAfs5QBvl5tOwvK05yLk28z/mzHplX4mg3PzXZslXLhhRfWycRsscUWTckUqXdFKVXZhhRxHp6mbBdccEG/V4UIrmnnEQMP9yVN2aKEJp54Yr9XqRx33HFONgyFEpIXesQMzYvI5K00W2qppdx2Xlic/fff323nhby5++673XYRmW4GW+nYebu9OZjCZZEHvVCjqLIl8nFMeF62uyEsjtW7okjZin7DfYmVbVZoGhRTvKglhGNoUCHk4SXfaCSDrXbad5NHrwfCoJIh5NF7gj322KNOxsZ5jSIy3UzaEnwgjyFBgmvSNsPEkAPlbGeFxmFVYayk7rrrrprvYptx4hBbTGCwzWKLEBZIxTLxUmDq4KBBg/xecZlGdbMIUrai33Bf0nq2DCdRFqYwDDWQd9RRR/m9PkUZpr333tuXVikiw0KEWAbFEMJ4ciwTh+ghZlksEy/WKSLTzRDyJv5/9F6zSOvZ2nEha6+9dpJvKV40YOFpLKU9qAmjHsrgmyEGxR7KrLDCCr6kj0YyRepdEUpRtkIIIfKRshVCiDYgZSuEEG2gVGWLi7yFF17YxdR/6623fG4fmMTg5i5OocclbNcYr7npppt8jug0HnvsMXePGU+PbRQN7j+zukxanHXWWT43nyLHFJFhrJEZb2yC4/Fag0UW2GniJDrL3y6evzAZwwtd6Js5pIhMN5LWTi3de++9XqpS2WeffVJlGjF06FA3WbbjjjsmJoIxRxxxRGXOOed03xGbnAHjvEOGDHEyLIJIA9vpXXfd1UVyOP74431uLUVk+lOfY0pRtrYCI2T33Xevy8NmL221iBHKn3322UmoizRv+qL94NWe+xA+HGkE5IUrxNgPQ+MAeXneuoocU1QmtPemIZEX+kFlP3SzeOedd7o8A5+l7IeTNjTqZmV6DZRM/P/Yv+CCC/xeY6688sq6c2BHH9ph77DDDnUyuGYMJ1nnmGOOmgUMwDEsfjAon2uuufxeFWRYRGEUkWG/2fqcRqk92xB6qPygEPZPOukkF3Jk3XXXdWY4IZhysBgCRYss0RxYlRLGCBKdB/dq2LBhbjst9AyMN954NXGcQoocU0SGXmyaDHmDBw9229tvv32mzJlnnum26RSMOuqobjsEGeokFJHpJR544IHM68ZyaCyS6KViDZIH8mlLb8Nzs43NdAjLY2MZbGBDTjjhhDqZmDXWWKMpmf7U5yxaomxZWZGmIPFhGUJcKv4ITp3ToEKjnIEeSmweIgYWHprcv/AVL88IPC0fihxTRKZI+Jy8RQ3YlkLeggWiRkARmV4hXlAQYpELjI022ihTFijLWtRg+oHtbljUkJafR6nKlq59sz8AecbWYsjHSPyhhx6qMYJu9vyifHD2zn1IcwQPafeIvJVWWsnv1VPkmEYyWQsqyMMmFvIC+Nn/YTw6S8YoItML2BCe+Y0oAvKM66fBykKCw4bgTD68bmxvuummfq9KPPzA9nnnnef3qsTDD2zbG5fBfFD4RlJUJoa8vPqcRinK1mIQsUqH1Rhhuuaaa7xU1XMOoS24EXhgJ1RO2h8hwJ5hEXjp1dqYoRgYLOw0yzTj+0wyWFmDHGN5GLqnBUxkP1xIUOSYIjIzzjijy2MMGeXJWGDsl4E6iAwTthbfLA4mSB69Vx4s1tBjxydFZLod/lPWQxUoZ7UXwwdMarMfKlPeTpnTCUGGN18mnejBsh9OtNLWySMkOm3eVrPhh8FAQZLHwijG383nRejw6qKLLnJ5Rx99tFsdaAslQorIFKl3RSi1ZyuEECIdKVshhGgDUrZCCNEGpGyFEKINlKZsN9lkEzdoHKdwVQ22aeThXBrvXmyHKzZYkTTvvPO6wXaMjXG9ZvSi7WI3woQH9+0Pf/hDZfPNN0/ucwimYNhRW1lW6JwQZpaRZSGL1SUM2UOKyJjj52WWWSaxl4y9QbHiiPzVVlutstxyy7ltZEMa1VUoItOt0A7TEv/xvvvu81L/X1n8/33aKi4nJ5hgAreftSLMwDSUScvtttsuMaHC6iiEPCwC/vrXv1YmmmiiuvOaJ67xxx/fyVAP2A8x21wWUmGpYN69QorIFKl3RShN2fIDwtUbMX/+85/r/gSEeWxbSJNDDz00sY3kojPjKwYWlmNn3cOdd97Z79VCWZobxpis8xLdw2gkw+x2lozZa59zzjmZMhYhpEhdLSLTa/DfQreYOBhH2YWEUQ7SwAoB5Rny/vvv1xzDNg/rELMaMNgmDl6IWQ0YbGM9EIKf2vA3F5WJIS+sm0UoVdmS0Pj2dAhNuIoagdObZZ2yLaekXHQuM800k7u3WXD/GilbLWrofOiJpikXu572xtNotScyWtTQR80ZiirbNPgxZpxMMLa0rjcy8ZMFGErAHhKQsZhmYSA2MXBgV8v9iA3CY5BppGwtSm0Ma+GtF1REJm3tPpBnPaWsFU7kWU+pSF1ttj53M9jHTz311H6vD647ZSGEH0q7vgZlWYuYDLZ5iwoxp/AG2/HCCVvmb4TbhsXHMxrJFKl3RSlF2WJInPaDyLOIqozzxDI2FhLDOmt7ivLax1iukSYv2gdOaLgHl19+uc/JB9miwwgYloeQF3p/KyoTGr8DeRbO/JtvvnH7YQTet99+2+UZRepqM/W5m2FBgnV6YvivcW8Xw/+8a3DQQQfVldMhC/NYzBDLMO4erupCyccReOl9h5FeOMeqq67q96qQxzJzo6hMo3pXhFJ7ttZrIMWedAwbZOfCFA0FbEssSe+8847PFe3GxkSzUhrkpylbJklYXhvCMIANQTGJlUYRGWu8pKzIzDYxRsLNYhpF6mp/6nO3EDttSeOZZ55xgSHtGuA4KgSXq2lvo/YazuQaCjqGhyLDNMjwVhuHEgcm31G6yNDLDL3RGTi7spWqTIKF3t+MIjJF6l0jSlW2Qggh0pGyFUKINiBlK4QQbaAUZcs4RlbCcNwgvEWajC18wPN5mC86DwzLbezKEqFhQhg7Y/wulImN1tOw8TdLGJzHFJGJf59Njhm47gzLSXHYFZuFtsS4YUwRmW6GBRrh/0sz6yIkUCgzzzzz+JJsbr755ppj0qK3EOYmlElzOG6eviyljZlbFBlLl112mS/po4hMkXrXiJb1bLEooMGFsOKGGD5Z8CcMbsj000/vtlngEM4yioHhlltuqblHBnkHHnig22ZhQJZMGLsqhvJ4EoS8sAE1kvnpp5/cfmhpAORRnyDNbtJc+pnP1jR7XWw6w7wiMt0MUVPi/4JP4DCP7dCFKtC5yrsGaXbOhKAJ88Yaa6w6SwMWTMXfHbuzxByPCTcDmThGHnnhhF1RmUZ1swgtUbbHHnus+zEx5I077rju01Jop2nxokh2sZllLLLcUwwM9Fi5X3nMMsssucsbn3vuudRz8LDFagGKyJx44ompMuTRAwPrDcWQd8ABB7ht6t4kk0zitkOQwQcuFJHpdvgvLE8Fs3OlbeeBzHHHHef36qF8/fXX93t9kG+RWNg+7bTT3LaBr1nyDbbjGGD4045lYuIVbo1kitS7opSubM2BcFGQzYqMSRmvd6zIoZfM8kBeAUVnwP1h5VAjGvV28lbpMCQARWTSeptAHsb2kLeCbP/993fbeavD7r77brddRKabwbE7/8XeCGiH9Brnn39+tx+DvW3adY1BJmsFmQ3lsN0NK8is3hWlVGWLs5i0HwYEjKNXG4N8HPqYcUE7D4biFmUXss4v2gc9Omwr0yDoHg/FGO4bjmuyoJwGFUIe692NRjLmnCSGPHo9gE1llgy9J8CpSixj47xGEZluhv+x8sor+70+yA/Ht3nrJO/dd9/1OfkQvjxWUizRD68b20R/CNlvv/3qZBjqCGGIMpYJI4jAaKON5nwfGEVlGtXNIpSmbK2i5Xn8ufrqq51MmOILBmGYaUCOJwkNPG0wXbSHoosadtttt7qytdde25dWIS90amKKMkx77723L61SRMZed8NE1N2QW2+9tU4mDNEDNj4Zpi+//NKXViki080wdhr/PxYxGHFZmGzlqO2HUBdCWVIczNXC01hCAcbEQ5KxdzeIJ0tXWGEFX9JHI5ki9a4IpfZshRBCpCNlK4QQbUDKVggh2oCUrWgaXNutt956zhtbbKNoMOkZJzOtyoIxYWaCmejAXWIaRWQeffRRN+ONK794vNYg1Dl2mjihuf/++31uLSzWwGRss802q4k4ElJEppvZcccdncVJ7PIwBHtTxliJvFCUoUOHuskyzp81z3PEEUc4py8shooXnQDjvEOGDHEyWRZNmJPiH5tJ9qwoGkVkitS7RkjZisIQw5/JgdC7Eo2APJSX8dlnn7m8ZkB+p5128ntVyAttKYvKXHXVVX6vz3Y79OTEfjgJe+edd7o848MPP3T74aQNjbpZmW6GlWDxf2E/nDziQRXLMKkWukKMufLKK+uOwTNbuACK8DSxDHba+JA15phjjpoFDMAxYbQYymPvg8iwiMIoIsN+o3pXhFKULavF+HL8XuLtftttt3X7PCn4JM9MN3BlZtjs9owzzuhMSJZffnm3H5qRsE++wX6eCZFoP9yTcHHK3//+d5eHSQ02tpiD5ZGlnFlxOPnkk7vtIjL0YtNkyBs8eLDb3n777TNlzjzzTLdNTy5NYSBjsfCKyHQz/A+sLUJiA//YHAsw9J977rn9Xj3Ipy29Dc/DNjbTIRYrzGAbG9gQ6lksExO7jWwkU6TeFaVUZRti9ncxaXnwr3/9q/Liiy+6J2Nsj8vrhvnMzDMtE+0FB8vck7RXvNhXLXLxEkwjz3Dc8ovI5C1qUFic5mBIhP+y++67u31z+k0KmXjiiV0HCh/CKKC4txnD8QqL00fNGVqpbCeccEJ3g0JQtLGypaGYY5OvvvrK54qBguCb3ItHHnnE5zQmXv8ek1VXVlppJb/XWAYFnyVjvTRzRB9Dnv0fxqOzZIwiMr0G47Jhb47/ythrSKwUY1DO00wzjd+rQkcrPIZtC6dlxMMPbLPgKSQefmA7DtvEfwjfSIrKxJAX1s0iDKiytRUfPEkYdA496xhsh9722Wftsmg/9Dy4/osvvrgbIoiTQcgc5FhHz2uYrTXnNdRgP1xIYJFR8dpPDC+ChbIfUkSGISnyGENGefKQjh0iMdyFDD4M6IWyzYM/hDx6rzxYrKHHjk+KyHQzDOcxJMgbCf/NVuEZNmzDBBYK02KA2ZANMNyCV60QZPAgxjAiPVj2w4lWxsHJIzwO8wS8cbAfhjtCQZLH72P83XxeEKLLsIi8hLRhdaAtlAgpIlOk3hWhFGUrhBAiHylbIYRoA1K2QgjRBqRshRCiDUjZCiFEG5CyFUKINiBlK4QQbUDKVggh2oCUrRBCtAEpWyGEaANStkII0QakbIUQog0UUrZKSkpKSsOfYmqUrRBCiNYgZSuEEG1AylYIIdqAlK0QQrSBRNmmDfAqKSkpKTWf0qhRtkIIIYYPKVshhGgDUrZCCNEGpGyFEKINSNkKIUQbkLIVQog2IGUrhBBtQMpWCCHagJStEEK0ASlbIYRoA1K2QgjRBqRsRb95/vnnK7vsskvl/vvv9zmi1/jvf/9b2W233SpzzjlnZZVVVqk899xzvkQ0i5St6Ddjjz125Re/+EXl17/+tc8RvcTxxx/v7m+clltuOS8hmkHKVvSbsAGK3iPt3s4666wub+jQoT5HFEXKVvSLAw880DW6F1980X1uscUWvqSWk08+uTLBBBNUZp999sp7771XWXzxxV0KeffddyuDBg2q/OY3v6lsuOGGPlcMJB9//LG7r7PNNpvPqfLjjz+6/AknnNDnVOG+jTTSSJW5557b3c+Yiy++2NWDccYZp7L99tv73Cp33XWXqxMPP/xwZb311qt5U/rmm28q88wzT+WXv/xl5U9/+lPlf//7ny/pPqRsRb+gwZHi7ZBlllkmKYuTceqppyZ5v/rVr+rKxcBh9+K+++7zOfX89NNPiRxK0ravvvpqL1GpTDTRREl+mIzLL7/c7aNQw7Innngi2Q/P/e9//9uVdxtStqJp6G1Q6VdeeWW3v/nmm7v9t956y+0b1jiML7/8si4v3n/jjTfc/lprreVzxEDx0ksvJfeHtO6669YpurHGGsuVffvttz6n9p7SW2WbHq/xz3/+0+XZG06obEPC8wDfzf6kk07qc7oLKVvRNEsssYSr9ChdYMaa/amnntrtw0MPPeTy9tlnH59ThTwS3HPPPW57zz33dPtGKCMGng022CC5JySsEoy0e8W9v/vuu932HHPM4cr/85//uH0jPM6U7XHHHef2AXnyFlxwQZ9TJTyu25CyFU1jFZ5JEktxIzj66KPd/jXXXONzqoRyJpOVRGfxwQcfJEM9//jHP1we2+RlYUMDMeE9TlO24RBCWupGpGxFU9x2222pld/SGWec4eQefPBBt3/EEUe4fcPkwGSYbBOdxfrrr+9sa9955x2fU8WGgmaeeWa3H97PNJZaaqnU8vC4NGVrb0uM+/cKUraiKUYddVTXCOLXQggbELPG4T5YAwrz4n0455xz/JYYKGzicq655vI5VW644QaXv9JKK7l9m7gKCe8pbzZsM95rvP766y5vhhlmcPtpyhbC8xiPPfaY3+o+pGxFU6Q1AMNeGU0R0/sx+RlnnDHZJhlbb711kmdjwaRtttnGS4iBwhatkFCM9qAlYYUAn376aZK36KKLOvM9tvfee29XDpiEkTfaaKM5Ez+TNzOuLGV7ySWXJLLzzz9/cp6FFlrIS3QXUraiMExkUdn32msvn1MLNrWUr7POOj6nUhk8eHDSYJg0se0QZqzHHHNMl4/CDs2GxMBy9tlnJwqUtPDCC/uSPr777rvKFFNM4cp/97vfVW688UZf0odZrJCYNAvfjLKULbz//vs1pmOHH364L+k+pGxFy2DYIMRMdzAXEmJEQ8pWtAwbVmBIgN6w9U6GDRvmJYQYcZCyFS3jhx9+cMs6TcmSMJQXYkREylYIIdqAlK0QQrQBKVshhGgDUrZCCNEGpGyFEKINSNkKIUQbkLIVQog2IGUrhBBtQMpWCCHagJStEEK0ASlbIYRoA1K2QgjRBqRshRCiDUjZCiFEG5CyFUKINiBlK4QQbUDKVggh2oCUrRBCtAEpWyGEaANStkII0QakbIUQog1I2QohRBuQshVCiDYgZStK55e//GXlF7/4RV3K4+abb66RnW666XxJH4ccckiNzIorruhL+lhzzTVrZPbaay9f0kcRmVlnnbVG5rLLLvMlfYw99tg1Ms8++6wvGTG49dZba/6/pTPOOMNLpPOrX/2qRv7zzz/3JVW+/fbbmnLSf//7X19apYjMG2+8UVM+xhhj+JI+yqp3RehJZTvXXHO5iyIGBq79vvvuW/nwww9rUhb/+c9/3DHnnHOO2//f//7n9ldZZRW3Dy+//LLLe/LJJ93+V1995faPPPJItw+nnXaay/vXv/7l9l944QW3/9hjj7l9KCKz/vrruzxrvCha9n/44Qe3D1NMMUXl17/+td+rVHbeeWcnMyJhSii+z99//72XqIcH8fjjj+/3KpXFF1+87rqxP//88/u9SmXSSSftt8yWW27p9yqV3/zmNzXfXVa9K0pLlO3PP//st9L597//7bdag5TtwMK1v+uuu/xeY+gpxPeL3lGYN9ZYY1V+97vf+b0qG264YY0M23/84x/9XhWUIo3MKCpzzDHH+L0q5C200EJ+r7pvDdAgL62X3KusscYaNQ+cRvz000/uGsX6gTx6mPDwww+7/RBTgl9//bXbLyJz2GGH1cm8+uqrNXll1builKps49fHXXbZxZdU2WeffWrKRxpppJqu/2STTVYZZZRR/F6VuMfA9rHHHlvzXWwblmfp6aef9iWiXXDdw15gI0YeeeTK3HPP7feqWK/DYDuuT3feeWedzDXXXOP3qgwZMqRfMvRgQpZYYok6mRjqYaiQe50pp5yysuCCC/q9xjz44IOp1408e0hZbzmGPFPIRWSWX375TBmrm2XVu6KUpmz54eOOO67f63uKPP/8827fxnfuu+8+tw9x17+osiVZY7CLQ4Mx1LMdWLj2o446anKv2M4DGV7dY8inx2LbDAGEvPfeey7fYPuVV17xe1UuvPDCfsnEbLHFFkn+c889lyoz/fTTN9XT63a4BvG49T333ONL6znxxBNTrxt5Sy+9tNu28fQY8g444AC3XUSG3ugkk0zitkOQsd/Idhn1riilKFuGBfhyBq1D6Ln+6U9/ctuUDxo0yG2HkG/jZUWV7R577OH3qpA333zz+T0p24HE6sLJJ5/s9l977TW3z6RIFpRvsMEGfq8P8m3Iie3TTz/dbRsffPCByzfY5iEfcvHFF/dLJmarrbZK8tNeY2GGGWZIze9V6CzNNtts7u2U+zTTTDO5/581Zpv2ag/kLbroom477dUeyGMeAIrI/Pa3v3W/LwaZ2267Ldkuo94VpRRle/fddzf8csrjcTAgf7/99nPbRZXtnnvu6feqkEdFN6RsOwsmTbgf1luIoSyr0tswE9vdoGzzHiojAlwXXuHTyFO2Sy21lNvOU6T777+/2y4ik6ds0Ve2XUa9K0opyvahhx5q+OWUn3322X6vD/KpyCBl27twP+644w6/VwtjnQsssIDf6yO+7/EbzQMPPFAnc+ONN/q9KgcffHC/ZOLe2XLLLZfI2ERPDENp1L0RGUynsoZS6FGmXTfyaOdAzzRL5uqrr3bbRWToKWfJfPnll267rHpXlFKULfDlcc+Fi0svAChfYYUV3HYI+TZhwWtIONkFUrbdBTP9PDRjuB/xpJNBhY97hFgzxPd95pln9ntVeCOKZf7yl7/4vSpLLrlkv2QuvfRSv1dltNFGqxkGQ4YeTgh5oalRL8MDJ5yjMWi/8aST8d1339VcZ4M8xs2BB2GWDGOlUEQGBRnLmG2uUVa9K0ppypan2eyzz+73+iaurrrqKrePQmX/008/dfuw7LLL1vzoHXfcse5PsB/msd1I2WbNRIrWY6/YYc9w9dVXr7sfP/74o9+quDpB+bBhw3xOxRmgM+FkXH/99U4mPI79zTbbzO9VKrvttlvN9/AqyP7555/vc4rJMP4fmoJhdI/MW2+95XOqr6nMxhtPPfWUk8kaKulF+L/h9bf7GJr9xUM2lIfDDLGpFbBvQ4uw0UYb9VuGiXkD/RQq17LqXVFKU7b21ArT9ttv70urmLF4mOxJZMTljOXwabDdSNmykseOv/32232uaBfLLLNMcv0t2RsOjDfeeC4vZO211647JlZcNJawnN5mDL2tUGbaaaf1JX0UkaFRhjLxW1lafd9777196YhBvEKLZGOvYO3w8ccf9zmVyptvvll3zBVXXOFLq6StTGPxSUgRmcMPP7xOxoYQjLLqXRFKU7YGrxeM4eaB9UHYS4ihjJUbwwOvDAyEj0g9jU7j0UcfrXz88cd+rxabgIhhPIw6lAd2jnn3lbKs8WGjiAwz0vfee6/fS+ebb76pPPHEE35vxOSjjz6qPPLII36vlvBNNoR6EZvgxaDM33//fb+XThGZZ555pk7JxpRR7xpRurIVQghRj5StEEK0ASlbIYRoA1K2QgjRBqRshRCiDUjZCiFEG5CyFf2CNeis1Nt0002d+VMe/fHxigOb2LWdMXToULf6h0UwX3zxhc+t5YgjjqjMOeeczq1nmpkZJjx4ikMGl31p4Bt11113dYscjj/+eJ9bSxGZbuToo4921z8rhdx0001ueezmm29eeffdd31ucTjf7rvv7vf6wHQQ3wU4845tcY1rr73WrVpcZ511Kvfff7/PrYUFK3gVYyEC9SqNIjJF6l0eUraiKVhJg2H3mGOO6VZjsZiE/euuu85LVMGvKKuszBC8WbKOY6UiS0K322675Ltju27ycOv417/+tTLRRBO5/bBx2IIEvPYjM/roo9d9lxnks9Z/hx12SBY5hBSR6VZQcvPOO29dihekTD311G4f734WSihcjdeIU045xR2DX4kQc2nJAhmclLMdLz7hQUn+aqutlviuQDbEfu/GG2/sfO+yHT8Ui8gUqXeNkLIVTUGlo3KGWAU1aGzs42Bom222qSkrwh/+8IfET2rIlVdeWZeHU+/QnwZKL5ZBmYZLa+eYY46a5bjAMXjgNyiPncogE8bXKiLTa/D/LrnkErdNaCH2wwUDvMWQVxRkWSIbK1vybak/8AZBHm4ADPbDRTOxU+80b3Oxo/giMkXqXRFKU7bEEsIxB69tNBReK2zNMU8vQo9MPvnkqU8DnDFTxjLKeCku8Br45z//2TV0Gsonn3ziS6rw3by+4Jx4wgknrEwzzTSVt99+25eKMqHSxS7n/vnPf9ZVRgOnL1llaXz22WdO3nwWhEw11VSupxrC6qFQju11113X71W56KKL6mSokyE4kIllXnrpJb9XBUc0YQyrIjK9hPk3MXj9D/cN8kJ/A1lMMMEElUUWWcTd01DZsoI067wnnXSS2yZuWJaMBSxAZ2TJGEVkitS7IpSmbPliND0XjwvC+mHyePLT/aeB4g2IPNZHG6wnJ48xG45jO1x7bBd+xhlndE4hzMlMODbEPp7ZqeSMq9ir4/AsrRPFIRQMD8I0mlW2yJqDkfg49vFlGhPKsY3f1BB73TfYDn01wAknnFAnE2Ovs0YRmV6C/2WuECHr3pJ33nnn+b10Qs9dsbJlfDbrvIMHD3bb+F3JkjnzzDPdNo7N06KEIPP666+77SIybDeqd0UoVdn+7W9/83tVyCNgWgh5K620kt+r7odr1FGQ5JkyJYImPdUQyunNGuzjQSyEvLj3IsqHyTGuddY692aULQ0ofDWLj2O/DM/6bA+vA3EoItMr0IOP/1f8EAPuA3lZk44GMjahFSvbsiI6FInWUFZEhyKUqmztxxnkxb5DeYpMPPHEbpuxH2RiyCOoYwxjRC+++KJT4KEvTeSZEQ0hz5ySi9bBdQ5DP8cUVbY28Rb6vI2PY1/KdmBAGS688MJ+rw8ejryJ0jYt7Dfp3HPP9RL14LeaYUNDytbTSmVrvkXTUjjuxkQEedwQernM+krZDjw0tLDRpFFU2XKPcXcXEh/HfppiD+XYjmP6m1s/g22Le2cQRSSWiWG2ulmZXoAHIP8pnJwyeBO1IUOGkpiwYvudd97xErXggSu+PrGyPeuss1KvIXmmF9L81wJ59kbLPBGTozHI2Fh7ERm2G9W7Igyosr3ssssa/mAmvOLZbxStlO3AwtsFs8iNKKJs7XU0LwH1Jh5Sshlxg21sf0Pi2WS24zHF2IqB7XiSB7+m4fheEZlegMgbTHoXoVF8LsryEhNP1kOOIQ8ftXDqqadmypi7x/XWWy9TxigiU6TeFWFAla29OobOhSEMN0J5PLtML0jKduDAzpC3iyIU7dmmER930EEH1eWhWMO8OPoHMEEbKkAUBxOqIfTSMWEzOMeqq67q96qQF1rLFJHpdmwOpYh1ASAbRrouQtyzBc4T+wkmj6gZYHMFP//8s9sHLJDIM+67776afeAh26xMkXpXhAFVtmCB2ej6o2Sth2FjahYfCsXJ60UYp95gW8q2PTC5ybUlRlec0sz6spQt+eEDM42048jDFAcrFcZm2Q+jNptyQOni1NqCA4YNF8VB3rbbbutee9dcc023H4Y+MXMxVlIRTcS89YcUkel2sCdt9J8YYzVba8ZjQyw8Vt7YZpqyxfqI41ghRk+Vh2E4eQojjTSSk7nnnnuc7mGbN+EQ8hiXffrpp5M3HFachRSVyat3RRhwZQsoUcZ7kB9nnHGcoXGIPUVIjK1tvfXWbttgW8q2Pdh9SEu8ksVkKVtWbqUFhgxJOw5sBQ9vOBdccIHP7YNeD5MeyDDU8eSTT/qSPliSaQ9uGntaRAHMk4j2jAyrxNLGLIvIdDP8L+yo8+ChiSUJyirG7KXzrkuasoWw3aP007CVYySW7KbByjfKUdZZS8eLyDSqd40oTdkKIYTIRspWCCHagJStEEK0ASlbIYRoA1K2QgjRBqRshRCiDXScsmWBQ7NG0UII0el0nLK96667nC2b6F4IL8I9tDTPPPP4knRC2Tgdd9xxXqriPEmFZWlu74DFFdhrZz20f//739ech1AoMWF5mGJYjEM+7j97lbz/GDqfsWTLZbPAphl71vCYrKgHrMYzmSxiu/sQ6o8dT2Lxwk8//eRLqxSRscgRltIcZTWibcoWb+78yEZI2XY3+DPm/n3//fduH0fv7McuMBtBZQ/rgTVqW6BgzlFCpzNEWiDPUpqyNT+otojBHKOYD1SDPBbXxMlgQYZ9D6kXlW2j/2gLFnbaaSefU3FhbMjLg3L8UhumUGNYAEU+i55i5QcWhsgWRMWw0In8Bx54wOdUV52FK9GKyJhHOHMrgGtI9rNinmXRMcrWlvNJ2XY33Ds8+ocQI6rZe8qyzzCUDY5vYn8GplyNpZZayillIB9fyDHk80AIwetTvKqx0e/FC9QPP/zgtpG94YYb3HYv0eg/muP/GPLuvfdev1cLURSKHENooTS5EKLCgHkai0EZE7AghFVuoWwRGbbjFWy8rTX6fTGlKVucR/PlYTJv+HE+r3iGrbW3hJd+PkV3gj+COEKG9XabAfkwthX7cVTXOOZUCPlZypZAgSEsvwxdRcYuGRuBbC8q25C0/4jnK+53DLL4nW4GjqGjZbCf5xM3JEvZ8tuIXRZy66231sgWkWGbCDAhXIu078yjNGXLFxPK2MCRQ/hj0nq2FrsqXFPNfiwnuhvuZzj22ggitcZhdjjHaaed5veq4Pwlq66Qn6ZseRWkDJ8GYOORodIw159hylqbD5SPiMo2DULII9sMs8wyS51PWc5h+sFSlo+GLGWbBj4z8MWQRyzDuRkXDsmKk5ZHqco2fhK98MILfitd2bKPd58QDSP0Frg3LOqO0eD+P/jgg36vCnmNIjCEkJ+mbME8O1mi4YSg1MlnPBdwOsI+3sHSoEzKti9YZ9GxTGRJ8YPVxoJJNlZLjEL2414oFFW2TGo1kkuTWXnllevy2C/ynSGlKVuc+vLlDCwz4B17+clStnGsIinb3mGttdZq+l5mTZaQV4ay3XHHHV2ZDVHgypP9RgEK8VKW910jurI1BUm02maJx/Rxh8l+6PISyMOSJKaIssXaARkc1WeRJ2PuHC0qRZY3uzxKU7YGPh7tB4Uuz7KUrYUmNqRse4ODDz7Y3UfcHTYDx6SZ1ZC/xx57+L0qzCBn1RXys8ZsL7/8cr9XJWuiJ4QApHnfNaIrW8oXWGABv9c8HI9/YaD3mnatGW5Ie0tqpGwt7DgxD7MoIkNgWqs7WdF98yhF2X733Xd18fPxFxr+mCxlG5qAgJRt94OJEPcwDDdfBIahsu49+TPPPLPfq5I3mUp+lrJ99NFH/V4VcwZt4J8Vh+Aht9xyS+53jcjKll5faDmSByHjxxxzTL/XB+cP53zYJ/JCCIrWAj6G5ClbiwZzwAEH+Jx6isjEIM9DuhlKUbZmE4nHdIOY6+EFMA/64auBxREKI6piUBweJ7oLs4eNQx3FxK+IwHFxCCTDFHh4HPtpCxKAsixlO8EEE/i9KowZ8jZmmIVMCDKx6ZmB7IiqbLkmacozJIxk/MUXX7hzEY7GsHhe4es7Mb/QBYYNGWE6FpOnbMnHRDCPIjIG9uNm/9sspShbMMPfMBFpNCQsM/BuH+b3p3suOofwXsaJhysQwJP9EBsvy8PCzlgKFWQM5WnKFrvR8Byk0IDdYHY8lmFcMg3KR0Rle84559RcoziBBfMMH75pUbXjyMpgETAsrbHGGr6klixlSxib8PgwmV11ERmwNxsSobr6Q2nK1sCE5qmnnvJ79dx9993uSRZCJY5nn0Vvk6W4ioB9bWzL2ywoXewp82Jj8RsJ9RQGFRTNkxZyCBhqfO655/xeOtyfcHXXQDG89Q1KV7ZCCCHqkbIVQog2IGUrhBBtQMpWCCHagJStEEK0ASlbIYRoA1K2QgjRBgZc2WIkfNRRR/k90S2wEmjBBRd09y+N448/PjECJ2E83oibb7655hgWvMQUkSkSPgcPXqHMXnvt5Uv6mHXWWWtkcL0YU0Sm27HlzKRhw4b53HpscUG8BD+NscceOzknKc35C8tzQ5nPP//cl1T59ttva8pJsf32G2+8UVM+xhhj+JI+isgUqXeNGHBly8oM0T2wzNIqXFY4Eta0k3/ppZe6fQzT2Z9++undfhp4iUOGVUlgy7uJFmAUkSkSPsdcKNriGlyBsv/YY4+5fVh//fVdnjVe83FrkQugiEy3g4tM/tPf//73mmX1aSBHaqRsp5hiihq3ijvvvLM7LoQVe+OPP77fq1QWX3zxOhn2w1WC+KFNk9lyyy39XtVRfHheaCRTpN4VoSXKtozVFpAWd0gMLCzLNiWa5WYuLd9ccGZB7zMuj0OjFJEpEj6HbZzbh6AAaGQGMniwCyFvoYUW8nvFZLoZi76St8rOwLm2uSFspGyRsYehQZ69XZivlXjlHnn0MIEoMOyHmBI0n7eHHXZYnYy51DSKyBSpd0UoTdnyxTRCPi3NMMMMSc/CUuwijTyCrgHL+ti/7rrrao7Bc7/oPLKUbZp/i/333z9V1hh55JHrYkFZj8IoIsN2o/A5bMdx0oYMGVInE/fkiNbQrEw3Q++ziH9a8zdhn0WUbQw9WXtIsXQ/TYY8U8g2VBRDnilkfkeWjL19FJEpUu+KUKqyDR16mIvF8EfzusU+jpgN9mNlG8YoO/TQQ12e6DzyHCiTv8kmm7hti+mVF/6Zcl7LY8i3N6WiMo3C57BNry3kwgsvrJOJsXDWRhGZbob/EYem4aEUQ4/W3CMik6ds8YWATAxDTDa0cOKJJ6bKkEeYfLAx9xjyzFUibziTTDKJ2w5BxjwUFpFhu1G9K0KpyhanHSHkxb1SFHI4dodMrGxjyGMwXHQWecrWfIRaorebBzIbbLCB3+uDfHuNLSrTKKID26HbPzCvdUa4bWy11VZNy3Qz/A8S4ejB3lwtkCvEnSG285Rt2us/8BZs+Wmv9kCe+bNNe7UH8vbdd1+3jYtGxnFjkDFdVUSG7Ub1rggtV7Y0yBB8QYauy5ApomxpMKKzyFK2NuFkr3O80TAemuby0EA+q0LbBFRRGSnbcuB/4Jc6hLaL60OwMdLQSTz7/VW2NsSYp2wJVw95ypYhK8hTpHgfhCIybDeqd0WQshX9JkvZ8vaCSVQITpfTZA2OSQurEh5TRIbtRuFz2LbouoaF8THY5jeHLLfcck3LdDP8j9jJO6Fr7P8xGcl4Jm8tligjakPWm4xNfsVwnrnmmstto0fSZMjDcgHovWbJXH311W6bXnCWjMWgKyJTpN4VQcpW9JssZUseEUljyM/qCVCZ48nTOERSERm2G4XPYTuulziEjmXM6sLAWfmgQYP8XjGZbob/d/755/u9KignG1tdbLHF6hLHMOfCdhbIxO2ZPDO/IswW+zHkMbYOPCyzZBijBx66sYzZ5hpFZIrUuyJI2Yp+k6VsV1hhhbr8VVddtS4v7DXZvQ+N5jEuD8f3i8gUCZ9jkQIMHgDsh4plvvnmqzEFw6AemTDseRGZbiY2mbNeaTwBGUJ5PIwQD9nw6h7GLCPYAMeFk03xedJMrdjnQWpstNFGqTI4iTeI9pFmEZUnU6TeFUHKVvSbLGULvGJSFqZnnnnGl6aHxiE0SnxMPNtbRKZI+ByCOoYyGO/H0OBCGR4iMUVkupnJJ5+85v9xbfNAJlSSaWFxrOcapjh4olmwhOmKK67wpVVQkLEM8wUhZt8dJhseMIrIFKl3jShN2QqRRloYJCNrSIExVnpReRSRaRQ+hzLCU+fBbPO9997r99IpItPtcC37C52oNAhz/8QTT/i9dFgCHJvpxbDcllDkefCgjxVoTBGZIvUuCylbIYRoA1K2QgjRBqRshRCiDUjZCiFEG5CyFUKINiBlK4QQbaBUZYv5Bcbj8847b6p3IMD9XVoyML1g/fO6667rc0QnwvpzllduuummzoQnjaFDh7rVNzvuuKOL7FCEIscUkTniiCMqc845Z2WfffZJNTHD7Is6igzu+tLAL+quu+7qFi8QeSKNIjLdyNFHH53aTi2FpJXbSq8sWPiBHwlW7p111lk+t5ZHH33U+STASXdsY2tce+21zjfxOuusU7n//vt9bi0sVsFbGLoJb4RpFJHpT30OKU3ZstQOQ18UJT/GDH9jLD9OQANgG7duu+++e5IvOgfz5jXmmGO6lVjmrQkfxCEs6WRN+XbbbZfIPPTQQ740nSLHFJEhj8UzuPKcaKKJ3H7YOMyoHm/8yIw++uhuP8SM8Ql/ssMOOySLF0KKyHQrKDk6TXGKF6NYVI44sfosi/POO8/J8IDCDSfb3IMQc1W5zDLLVNZYYw23HS884UFJ/mqrrZb4pEA2xH7vxhtvnIRxih+KRWT6U59jSlO2fHlsIE4eT/0Q8rJAyYaxqkLZ2WabrXLSSSf5PTFQUOmonCFxLLIrr7yy7j7jVJvKmkWRY4rIoPRiGRpyuDx0jjnmqFlmCxwTKgjKzTGKgQzLRo0iMr0G/++SSy7xexXX44yvdyOQ32mnnfxeFfLCxQvsX3XVVX6v+gZBHk67DfZZ9GDETuI//PBDtx8ubImdxBeR6U99TqMUZUvspvjHAHlhZTRP7lmw3DcMaWKyrBDBQbEYeLgnsQtDczBt8MCkRxnCEFPevS9yTBEZtuMhqIsuuqhO5pRTTvF7VezNzGD7pZde8ntVcDATxqYqItNLEN0ivEZA5IQ4rxFp8uSttdZabpshhiwZ63ARDyxL5vnnn3fbRJnIkjGKyPSnPqdRWs82DX5MOHbDmAp5BA2kQTBWFo+nUY4bt4UXXjhZ006enId3LoQzocdrcL/wNxpDfhZFjikqgz/UEHvdN9gOHWDDCSecUCcTY6+zRhGZXoL/ZS4Ojd///vfu4YISZOz07LPP9iXpfPbZZ6nXh7cl/DBAVm+ZvMGDB7ttc+cYQ96ZZ57ptnkbZjgpBhnz01tEhu1m63MaLVO2XJT4xxx33HEuj8RrnW3Tcw3B+7tdMALJ2RNPdB5MjnEP41fALGfLWZ7tixxTVEbOw8uHHnza/8KdIvmMV4fhybNQpIZ6kn/RH2Vrbu7C8RQj9PwEOA1GNg2ia4ZleTHrxcDA/YlDOpMnZdtb0E5520zD/Mca/P+saA1StvUk/6JZZWtPQAuJ0ggm1ZBPg+79008/ncTjn2WWWdxnlrco0V6YILBXvxDuUVpM/az7DEWOKSpz5JFH+r0q5q7PYJt5hhBef2OZGGarm5XpBSxCdjg5lcfiiy+eeQ14i00r403XxkUxBUuTIc/G49N81wJ5Nh5PePrYygGQsbH2IjJsN1uf0yhV2WIjyw84+eSTfU5jLApvDDOeZplAufmzxVQkNu8Q7Qd/tThQTgN/xdNMM43fq4KbxbzKWeSYIjJsY/sbEs8ms435UUhsxcB2/CaFL9dwfK+ITC8w2WSTuSGCosROx2PSyshbaaWV3PbLL7+cKYPvWTj11FMzZR555BG3vd5662XKGEVk+lOf0yhN2Zq3eyptFnTZeeqFEAK50Z8Nt5n55pVDDBxcf8bosjjooIPq7ikKMO0+G0WOKSKz7LLL1slgnxkqQBRHaPUC9NIxYTM4B9ElQsjbc889/V4xmW7HbN+zhvAoi00+MYkLAwTEcAyLJkLIsyACwH7s65Y8omGAzRUw1GiYza/BRHy4D2bjaxSR6U99TqM0ZcsXc4GJyRQnw14hUMg8GcxDOk+pEHoixI436EGxIggYX+HPi4GB3gf3LO0+h0beyPBmghkPY6jsH3PMMb60GuWBaAkhjY6BRjKmHFC6H330URIYMGy4KA7ysHphXmHNNdd0+2EoHTMXQykwJmnRH0KKyHQ72JPm/SezCmCoj7dPC6CImScw9MB+OLZpZnYXXHCBe1W3SbaQGWec0eWxQoyeKg/D2K4Vc1Bk7rnnHje+yvaEE07oS6uQRyeP4Uh7w8FqIqSoTKO62YhSlW1WCsE+jVDI5HOxGnnKBxqQhVnJC5MsWk94X+PEK1mITXrQ06FhhbByi9fTmLxjjEYy9Hp4KCPDg/rJJ5/0JX0wfGWz54wVpkUTIKig1VVWiaWNWRaR6Wb4X7xN5mGTiyTMwMLl2/bGG18XJsFsxR0rwdKw3iMJpZ+GrRwjsWQ3DVa+UY6yxi44jSIyRepmHqUpWyGEENlI2QohRBuQshVCiDYgZSuEEG1AylYIIdqAlK0QQrQBKVshhGgDpSrbtPAYpJBGYUQUFqc7KBIWx8iyW0xDYXE6g2bC4rAYgGgJuFu8/PLLfW4+LA5QWJwq/VK2ZlwcJ6NRGBFb/aOwOJ1L0bA4OCJiVQ5lRe+jwuJ0Dii5MByOpTgsjvlBQOHZNs5d8lBYnFqSq9msss2DlRd5YUQUFqfzKRIWh14C+/Rcttlmm4b1AoqEHikig9KLZRQWpzz4f2FYHPa5L4a5s8zzzEe5wuL0kZy5qLJtFPIGKDe3ZUYYRoT1zQqL09lwT2J/sXFYnBB8IDSqF8BDtlHokSIybCssTmtIC4sT7wN5ecvws45RWJyCyrZoyJuYtFAjCovTXcRhcUKKKltkFBans+F/xWFxyDvggAP8XsX5ocj7/wqLU09ylqLKtkjIm7Qfl+bZXmFxuoe0sDghzShbRWroXOjBp/0vu/+Mz/NWyvZzzz3nS+tRpIZ6kn9RVNlCo5A34baRVzkVFqfz4f6kebE3pGx7g6ywOPZGu9hiizmPfGznBQ+Qsq0n+RfNKNuYOORNuG3khRGhe6+wOJ0LEwRpYXFCmlG2CovTmWSFxbF5GouiAmZRdO+99/qcWhQWp57kLMOjbOOQN2wXDSOisDidTV5YnJCiylZhcTqXrLA4PNTCa2aQZz3QNLKOUVicgsqW7nijkDdsFw0jEh9nKCzOwMP1zwuLE1JU2SosTmdiPdW0IbysIYFG14ByhcXpIzlLUWVbJORN0TAi9EQUFqczKRoWx8hStuQrLE7n0ygsDmWM5zIsw2s3veBQnqEH9sOxTYXFqSX550WVLRQJedOfMCI0IIXF6Qy4B1kpDosDWcpWYXG6A/5Xo7A4YWgalGSIwuL0UaqyFUIIkY6UrRBCtAEpWyGEaANStkII0QakbIUQog1I2QohRBuQshVCiDZQirIlTIbZuqWlkLRyksFae8vrpZU4vYQ5BLfEcsaY0EaSFDvZToPoDuEx2K3GFJHBvWcok+YezxYyWEqzrZx11llrZPDREVNEppsxW2RLLDIIsaW1YbLlsnnE58UNZozZ4Vqy1WMGblfDclLsN8UWW1lKW2JeRKZIvWtES3u2VOh4nTg/FO/ocQLc9FFuhNsPPPCAi/UkBhYegNyXd9991+2bZ7YJJpjA7QMLFsj75JNP3D6rh9jPW5BiK41wCg22Eix0AFJExhq/LWQwJyqhc5rTTjvN5bHSEV544QW3HzqnWX/99V2eNV5zhoTzFaOITDeD0gn9FNt9tf9nCxbCqAuEsSEvD5y/hOfFR258DIsLQifsuAKIZdiff/75/V51dWmaDCvWDBYkxM7dG8kUqXdFaKmy5QdR+UPIy+Lcc891rtqMUJbt+Kkl2g/3IQ74Z76MDbZ50IY08pGQ5jKP8DJhXhEZVhrGfg8sNpbBdrwcEwVAIzOQSVsqjKN0o4hMN8N/ufXWW/1eFfJsCf7ee+/t9mPIy/L6BZTHq/rIs7eLn376ye2Hfg+APHqYkOaXwZQgIXQgzVUjrjXDvCIyRepdEVqmbG1Nekjs6i6GtexhuW2vsMIKLrigGHi4R6EPASCCbaOKFyu8GNbXzz333H6vivUojCIybMcPgzg2FduEeAmJ406xTa84JPYTUESmm+F/hHHAgDxz7M+bAfUhBpkXX3zR79WTdn3oydpD6sEHH0yVIc8Usg0VxZBnCtn868aQZ73zIjJF6l0RWqZs+SEE/gux16wwxWueLawIiRtNVFS2RefC2BoRTrMwz0r4EciCcl7LY8inx2LbRWQYJgjBSQz5BttxZIkLL7ywTibGIr4aRWS6GfPNa5GJCfUdO4OJwWFU3v8nikNa+fTTT58MLeCEKk2GPH4D2Jh7DHkWpoc3nEkmmcRthyCD8xooIsN2o3pXhJYoW5w08ENibKzMIjqYXPzKGcLNxcGN6ExQsmn3GoghRxkJr2B5IKNIDZ0HY6L8H0t5WHwxojdkoUgN9ST/oj/Klh+B+7oi2KB7GsQiW2CBBdz2zDPP7OR23HFHty8GHmLrc09sjCwLm+2N/R2HUJ5VoW2svqiMlG050OMLLU1sbD4eOgGbLCNabR55ytZ8JOcp26WWWspt5ynb/fff323nKdK7777bbReRYbtRvStC6cqWGV1+RFGY1c6St3x8VG633XZuG9+XQ4cOddti4LBx0LyxuRAbQsqCNxh7sIaExxSRYXuPPfbwe1WwZIll4iGNgw8+uE7m+++/93tVzJ2fUUSmW/nyyy9T/wev+jhjj0E27d7E2ORXDOOiZh5ovmljyLPovmlzQkDe1Vdf7bbpBWfJ8P+giEyReleE0pUtN2O++ebze7XgLDr20H7LLbek/mieqNdff73bDstptNg2ioHD4vrba1bMmGOOWTdumjXpYVCZ4+gPd911V80xRWTY5i0oZL/99quTwToiZMkll6yTiYc+GBYZNGiQ3ysm061khaahF8h/DMF3NTHEisJ5w7hlQJ6ZX3333Xep300eY+vAwzJLhjF64KEby5htrlFEpki9K0Kpyha7Sn5A1jiGefkPQTnHpjo0TEx4DI6xVxd6uBarSLQfq4ixMg0hgF5oRwk46I7zQqsGnHdz3jD8CnaeTJwYRWR4QCMTnpv9zTbbzO9VnGULeYa9AocTunQYQlMwDOqR4UFjFJHpZvgvWGkYZloVvjnQdnm45hEP2fDqHirnp556yp03nGxiP7TLTjO1Yp8HqZEWBJL90HyNaBqx4mwkU6TeFaFUZcuFT1t9EUJD5IdbooueNu4R5tns5Nprr+0+efKJgSG8d3EKIzVQWeNyzGWM8cYbz+WF2P0NUzzbW0TGwtNYintiwFtWKJP2ahz/B0wQY4rIdCtYA4X/jRQqSYz84/IwASvD2H788cfdPljPNUzY7IaYmWiYrrjiCl9aBQUZy7BAJcTCc4XJhgeMIjJF6l0jSlW2RUGR8goaGy3nQU8l67VVdCa84dAgYrtcI2tygTFWxvbyKCLDuHJeg6AsLXRTCP8hz0Afish0M7zyp8WXK0payCEgfFEc1DGGGHGxmV4ME7CNLJawgIoVaEwRmSL1LosBUbZCCDGiIWUrhBBtQMpWCCHagJStEEK0ASlbIYRoA1K2QgjRBqRsRb9g/TnLK4nIgAlPzFlnneVcHcapESzFZsUOPjDM21RMERm8T80555zO/WOaiRlmXxjsI4O7vjTw+YDDehYv4AcijSIy3Qx2sjgEX2edddzigzSefvpp55Do97//feXyyy/3ufmw8AM/Eqzco66k8eijjzqfBDjpjm1sDSJH4JuY35flAIfFKngLY2HLa6+95nNrKSJTpN7lIWUrmgKbWQy6WTXESizz1nTdddd5iSpTTz11jQG4pTxYYcYiF1YJ2nlj+84iMuQRIQQnR6xcYz9sHGZUjzd+ZGyhTYgZ4xP+ZIcddkgWL4QUkelmVl99dfd/UEI49Wd766239qVVzE8xCs+2ccSex3nnnefkeEBtsskmbpt7EGKuKlH05nY1XnjCg5J8FL35pEA2xBbP4C5ywQUXdNvxQ7GITJF61wgpW9EUVDoqZ4hV0BD2N998c7/XmCuvvLLuHPg6poIbRWRQerEMDTlc+TTHHHPULLMFjkFZGJTHcdOQYdmoUUSmm+G/mE9XsDhcIexzXwzzsJa1YAUoD0PpAHnh4gX2Q8flvEGQF65CZJ9FD0bsJJ5wW+yHC1tiJ/FFZIrUuyKUpmxxn8eF5rWNYG5407G1xKeccop72hHMMe1pQOXEuQyNInahyHnD+FFAXtgwRPug0sUuDP/5z3/WVUb2m1E6U001leuFhrAqKDxvERm21113Xb9X5aKLLqqToU6G4AQllnnppZf8XhUczISxqYrIdCtEsgivh0EePVMjSyZvZV7WMWuttZbbNkdHMeSddNJJbtuWCseQ9/zzz7tt3D1myRhFZIrUuyKUpmz5YjT9Ioss4i6IOY7myU/3nwZKaAnyWPds4EWIPF5J7QKGPSe8hJFnMKYS7ouBh3AmsZMZ7hFxpnh40sNl/C0P5PFRGhPe66Iy+EMNsdd9g238qoaccMIJdTIx9jprFJHpVvBmlvY/yGOc3mDfIiMA9zzv/5uD8RjaPJ0xYHw267sHDx7strfffvtMGQvbM9tss9UFnAVkXn/9dbddRIbtRvWuCKUq27/97W9+rwp5ofcuIC/02kWPN/QJGocwAbwEIWdxf/LCq4j2wuQY9yRev04eCedEtj3PPPP40noob+QNv6iMnIeXA/8j9tdLXuiNy+4/bdTuNaFvslCkhnqSf9GMso0dxZAX+w3lKRJ6fw/hlQxn1BwXYkqWSZm0CyMGDu5LWkjn2EKB3gayaZYLQJmUbWdhntF4rWds1N5WmdQysAAgjwk0C5548skn+9J6pGzrSf5Fq5UtoW+QI/Gnp5lmGrcdkzW2IgYOho3s1a8I3L9wvC+EsjSlHd7zojLxGH8c1ZltIoqEnH322XUyMRYA0Sgi0+1MNtlk7v+QLAqL+f0l+iz7PMwMJprIy/KCZiGSYpjAtHFRTMHSZMiz8fg037VAno3H8zYcWzkAMjbWXkSG7Ub1rggDrmyRefvtt/1elfhPMLNJHk9WLo4YeBgeauS7OIZ7GCtCgzrBgzaEUNlhXSgiw3Y4pgjxbDLbsdKPrRjYDp1FA35yw/G9IjK9hLVDszTgXobXzCDPeqBpZB1jw4tZUSLIw/csnHrqqZkyjzzyiNvGv3KWjFFEpki9K8KAKtvYVAPMa3sIxzDDa8MJhNIRAwevfNiUZkGgvPge2r2jIaVx0EEH1R2D0gzzisgsu+yydTJM0IYKEGuZODoIvXRM2AzOseqqq/q9KuTtueeefq+YTC/BMF4YlSFrSKDRNaA8Do9F3k033eT3qvuxr1vyiIYBNlYc+sSm00aeYSH0Q8zG1ygiU6TeFaEjerYoUia9eEVgn8QrCpg1gtnBEbWXfTEwWGgjZqvjFJr1IcMMM57zrUITq8qgXjAmGIIMZjaMETLuyv4xxxzjS6s0krHXWJTuRx99lAQGDBsuvVHyqEuMRRJKn/3QybmZi1H/mLS16A8hRWS6HSLqsqiB/8VDKoZ8gjUyxMBrtw07GPaQDcc2zczuggsucMcQxDU8BmaccUaXxwoxeqo8DGO7VuoTMtgCo3vYJjhsCHmMy7LKzd5wWIARUlSmUd1sxIArWxqErbxh1RHYH7HXljhkBnkaThgYuPZZKQyLA9hDW1kcN46VWzTMGJsoYcEAjTGNRjL0ehj/R4ahDsyRYliSifJAhrHCtGgCdABGGWUUJ8MqMRRHTBGZbob2yoTY7bff7nPqsdVbJJRkiLXh+LowCWbtnpVgaVjvkcQigjTC72bJbhrzzjuvK0dZ77XXXj63liIyRepmHqUpWyGEENlI2QohRBuQshVCiDYgZSuEEG1AylYIIdqAlK0QQrQBKVshhGgDUrZCCNEGpGyFEKINSNkKIUQbkLIVQog2IGUrhBBtQMpWCCHagJStEEK0ASlbIYRoA1K2QgjRBqRshRCiDUjZCiFEG5CyFUKINiBlK4QQbUDKVggh2oCUrRBCtAEpWyGEaANStkII0QYKKVslJSUlpeFPaSTKVgghROuQshVCiDYgZSuEEG1AylYIIYQQQvQE6tgKIYQQQoieILVjm2Y1pqSkpKSkpKSkpDRQqQi5HVshhBBCCCEGEnVshRBCCCFET6COrRBCCCGE6AnUsRVCCCGEED2BOrZCCCGEEKInUMdWCCGEEEL0BOrYCiGEEEKInkAdWyGEEEII0ROoYyuEEEIIIXoCdWyFEEIIIURPoI6tEEIIIYToCdSxFUIIIYQQPYE6tkKItrPVVltVfvGLXyRppZVW8iVCiG7gyiuvrMwyyyw17Tgt0db//e9/+6OEaD3q2Aoh2sqFF16Y+gA89NBDvYQQolO55ZZbKr/+9a9r2u7iiy9eOfHEEyvXXHONa9977713Zdxxx62RmXXWWSs//PCDP4sQrUMdWyFE2xg2bFjll7/8ZfKwm3/++Wsefg888ICXbJ6ffvrJbw0f//3vfys///yz3xNCGLSNMcccM2mv44wzTuV///ufL63n3nvvrWnfiy22mC/Jh/aXd94ilNmJLqoP1HHvDNSxFUK0BR5U0003XfKQW2KJJVz+uuuum+SNNdZYle+++87l5/Htt99W1lxzzeS4OE0wwQSVv//97zV51113nT+6lgsuuKAyyiij1MiGiY74rrvuWlrHWYhuZtCgQUnbYOT29ddf9yXp0G5+/PHHJMV8+eWXlfXXX7+mzcVp9NFHrxx//PH+iHp4YZ5rrrlSj7VEh/z000/3R9Ry+eWX18gedthhlckmm6wm7/DDD/fSVZ588sk6mTgtt9xylQ8//NAfIdqFOrZCiLawySabJAr/N7/5TeWzzz5z+Tz4GPmxsmWWWcblZ3HrrbcmsqRf/epXrhP7wgsvuIfIFVdcUVlggQVqZEhxx5YH8mijjZaU8/A87bTTKv/617/cA/jOO++szDjjjEk5D3G+Q4gRmRdffLEy4YQTJu3CEp04XhK/+eYbL9mYI444ouYcdE6ZtWHkk3Z4zDHHVH77298m5eOPP36iN4xVV1215hzMAnEO2vA777zjzjHSSCMl5SOPPHLl+eef90dXiTu2lqaaairX6cZO2PQH+mr22Wevkdt5553dd/3nP/9x12eVVVapKT/11FPdsaI9qGMrhGg555xzTo2i5wEYcscdd9SU77///r6klo8//rhGjhHgrClLRl1C2bBjy4OT0WErm2eeeXxJPWussUYix0iwEKJSeeONNyrLLrts0jbS0rTTTls599xzU9voRRddVCN79NFH+5JaaKu8CJvcnnvu6UsqlZ122qnmHJdeeqkvqSd82WUWhpFiI+7Yct4s6MCbHB1mOuBpnHDCCTXn1Etx+1DHVgjRUhgZDe1q11lnHV9SS/yQYsQ05uKLL66RyRsJyevYxg9VRoWYqkxLsZnCs88+688ihDAwD2Lh2Morr1wzQmppqaWWciOaRmx+EI/EFmG88cZLjmd0NQ8WtoXfx2ixEXdsjzvuOF9Sy/vvv18jx/9M0xkkZoBCWTq6oj2oYyuEaBksNplyyilrFHzRhJnA119/7c9UJe6QXnLJJb6knryO7ZlnnllTxkORadAiaXgWuAkxInHQQQfVtLNtttnGl1Qqa6+9dk1ZMyYMxqSTTpocj3lAHrT/8Pv4bUbRji0v6aHc7373u1QdkZbybIRFuahjK4RoGRtuuGHNg2DBBRd0IzdZCbdBofyiiy7qz1Tlgw8+qClfccUVfUk9eR3bL774oqaM7xZC5BN3Rq+66ipfkg7+a8MZD2xkjbPPPrvmXHkvqUOGDKnstttuLjFrY8T+sFnQlcXqq6+eKVu0Ywt0Uk2OUdkii11Fe1HHVgjREliIFT4sdthhB1+ST9whxSdmSDxqO/HEE1cefvhhX1qpfPTRR5VNN920RoYUdmzhvvvuqzGRwOaWkdyQTz/9tLLHHnu4cqYd+W4hRlRYODXFFFMkbYa0yCKLVO6+++4aO1pMDuiA0pENZWNf1X/5y19qyhnRDV1rvfzyy5XZZpstKWehKIuzQmI7X0yawoAQ2LZOPfXUNTKnnHKKL63STMf2888/r0w00USJrHlN+f77771ExXV2zzvvvMqoo47qZLbddtvhdl8miqOOrRCidHggmeIn8WBpBvxdhsffdNNNvqQKU4I4fA9lwsQDMI6KFHdsgYUpjALFDufjxMOLDrcQolJ5/PHHK3POOWdqW0lL8847b+WTTz7xR9fy2GOPVWaYYYbU4yzRnvNsVPGXW8TkiRmecNGY0UzH1mDEOfTmkpVYfBp2ekXrUcdWCNHVMBLy0ksvVe655x43mmJsueWWNQ+Yt99+25dkw7neeust51LskUcecV4YhBD5YB/LyOjtt9/u2iF+ZcOFYs2AmRAdVdp0f0c58VRw1113VR566CFnvtQOmN3hO5kJevPNN32uGAjUsRVCdB377LOPcwE0dOhQn9MHD1RGYcNO7R//+EdfKoQQopdRx1YI0VXgFihcwJGX6PzKLlYIIUYc1LEVQnQ1mA784x//cIu8Dj74YBd5LI4sJIQQYsRAHVshhBBCCNETqGMrhBBCCCF6AnVshRBCCCFET6COrRBCCCGE6AnUsRVCCCGEED2BOrZCCCGEEKInUMdWCCGEEEL0BOrYCiGEEEKInkAdWyGEEEII0ROoYyuEEEIIIXoCdWyFEEIIIURPoI6tEEIIIYToCdSxFUIIIYQQPYE6tkIIIYQQoidQx1YIIYQQQvQE6tgKIYQQQoieQB1bIYQQQgjRE6hjK4QQQgghegJ1bIUQQgghRE+gjq0QQgghhOgJ1LEVQgghhBA9gTq2QgghhBCiJ1DHVgjR8eyzzz6VXXbZpVC68MIL/VH946233qoMHTq0stVWW1UWWGCBypJLLlnZcccdK2eddVbliy++8FKNefTRRytHHHFEZYMNNqjMOeeclVVWWcX9jyuuuKLy3//+10vl87///a9y7bXXVoYMGVL54x//6M6zzjrrVA455JDK/fff76UaU9Z5vv7668r5559f2XXXXStLL710Zb755qtsttlmleOPP77y2muveanGlHWNRXfy3nvvpbbdrPTwww/7I/uH2mI2naTvykId2y6Bij/HHHO49O233/pcIXqft99+u/KLX/yicNpwww39kc1x3nnnVX7961+7c/zyl790D4rtttuusskmm1RmmGGG5Pyjjz565aGHHvJH1bPFFlsksqOOOmplmWWWqfz1r3+trLHGGpWJJpooKZt22mkzHxzfffedeziY7Pjjj19ZbbXV3HmWW2459xusjPNmUdZ5nn322cp4442XyE433XSVjTfeuLLDDjtUFlxwwcqvfvWrpIwHaxZlXWPR3Zx77rnJvS6SzjjjDH9kc6gttr4tlnGNy0Yd2y5hrrnmSirIV1995XOF6H1447e6f8EFF/jccrnyyiuT79hpp518bj1LLLGEk+FB8Morr/jcPni42Hmuuuoqn1sLIy32EJtyyikr//nPf3xJH7zAUv6b3/ym8vHHH/vcWu68887ku7I682Wc58MPP3THU44eYsQpDUag7DxpHZGyrrHofrbffvukLrz77rs+t1zUFqvnaWVbLOsal03Hdmyff/55NzQ+zTTTVEYaaSSXZpxxxsraa69defrpp71UPk899VRl0003rUw11VTuzYS3CYbat95668ojjzzipdJZffXVK4svvrh7+8jjhBNOcHKkeBrhrrvuSsqYeoAbbrjBVdjpp5/e3WjeaPiOe+65x5WHrLfeesnx4dvcwgsvnOQ3M+UgRDey1157JXW/VfUdHWHtMY/3338/+S1rrbWWz63ClJ6Vrbvuuj43nYsuuiiRPemkk3xulXPOOScpO+WUU3xuOltuuWUii84MKes8f/7zn5Oyl156yeemM2jQICfHaFRMGddY9AYLLbSQu7+TTTaZzykXtcXWt8WyrnEr6LiO7cEHH5xcADqzDItj/8GFwdaGzqmVH3744f6oWhhON5mRRx7ZdW5PP/30yplnnumGzUcbbbSkfKONNvJH1UKDo3yUUUbxOensvPPOybmuueYan1vl8ssvT8p+97vfuU9+/x/+8Ac3RXDQQQdV5p577kSGMiqSwe898sgjXZp00kkTOY6z/E8++cRLC9Gb/P73v3f1HgX9+eefO8XIyyn2adiCnX322ZU333zTSzfPZ599lrStFVdc0edmY9OAk08+uc+pEo4sH3bYYT43HaYTTXbw4ME+t0o4mtXItpAXa5NFX4SUdZ7ZZpvN5aOfGsH0o53n9ddf97nlXWPR/TDKaKOOdJaoJzzT6LQxNY9d5qWXXlr58ssv/RHNo7bY+rZY1jVuBR3Vsd18882TP3/sscf63HouueSSRA5j5RBsTKzsH//4h8+tJxzyp3MZGzeX3bGlY4rBfBoPPPBAIpf15iNTBDGiMs444yR1n4QNGe1z7LHHrskn0dFtFh40djwLHxoR2p/9+9//9rkVp9wtnxfpPD744INEdtFFF/W5VXjYWNmrr77qc9O5+OKLE9l9993X51Yp6zy//e1vXT46rBHMstl5brvtNp9b3jUW3Q8zrnZvLTEAxSgiz9swn7bOc7RZ1BZb3xbLusatoGM6tthv2B9nir0/sIrPzkGHsxGMeJo8I8IhZXds99xzT59bDzYnJkclSkMdWzEig21Z1oshMPNi7WP55Zf3ucVQx1YdW9F+Xn755cyF0Cy0CusAHgOaQW1RHduO6Nj+85//TP44K+r6Q2jIXOQtLxwpjYfH1bEVorvghdjayLBhw3xuY954443kOFzUNIIFEMjG9mnhizUvzXlgOmGy8SxN2El/7LHHfG46mGGYbGy7V9Z5pphiCpePnX8jWJ1t5wltAMu6xmLE4aeffkpW7bPWphnUFlvfFsu6xq2gYzq2n376afLHV1hhBZ/bHKzKs3P87W9/87nZHHfccYn8/vvv73OrqGMrRHfBokxrI40eHjETTzyxO67RA/Rf//pX8h0rrbSSz63CCJSVYdefR7gqOV4rcOqppyZluOTJI3yZjxfElnUeFrFaWaMXhtlnn93JpdkAlnGNxYiFPYfHGGMMn1MMtcXWt8WyrnEr6JiOLay66qrJn487iSEYQptc6BKDYXLzNkB6/PHHfUk9nMPeBrHV+/HHH31JlZVXXjk5T57LGRaCmVwrO7bhIrPhMaoXopvghdPq/R133OFz62EUwhakoLSbhcUr9j1HH320z60HBW5yN910k8/tY9lll03Kn3jiCZ9bDz4dkeGhw4K4kG+++SaxH2bR6c8//+xLasG/L254kGNtQUxZ57nvvvtcGQkdnQUPbJNL03dlXWPR3Sy11FLu3lL3qaNZ4NrP6gEdumZRW6zKtbItlnGNW0FHdWwhtAth2J0bxDD6Rx995C4srq6snFXRaeDs2GR4I+Ec2LUwHM7CM3uTIc0000yVH374wR/Zx3PPPZc4OuZz9913d06KScccc4xzB2bnsNTKju22226byBBlhGvBb2GkW4heJlxRPPPMM1cuu+wy15ax26IdYLNl5bT3tPb8l7/8xZWPO+64lRdeeMHn1hK62WEhCw9WXNqgf7AhCxexoQPSYMU3bglNDsWPqz/0F6Mv2MzZg4vPrIcBozF4hbHz0P5xCYj/S+zl1lxzzaRswgknrHsxN8o6T+iuBzs/HoYsAsLumdGYUKdm6WUo4xqL7gYTg3nnnTe5z4wEspibNsKAE5EDbaSWlNap5ZlpHgJmnXXWVDtstcXWt8WyrnHZdFzH1qBTiENjG4Uh0dunU4dtRxGwVeEmh5WJRIcZw2cM1PPgpp188snJm5YlKhOdZyoB3hssv5UdW8AXXujPlnT77bf7UiF6GxZVhDMylnADxkMib/QHu31maHhgMoWWB7qBdhhG8EEPETWoaIAIfgujHSzyCH8rU6o4PX/yySe9ZD747UXXxDoIezeiERZ9sS3rPDfeeKPrlISr13lgEf0If8PosiKUcY1Fd/P9999XDjzwQPeyaXXA6hMdrRNPPNE9g9PAi5ENcuETN6/eqS3m00n6riw6tmMrhBBCCCFEM6hjK4QQQgghegJ1bIUQQgghRE+gjq0QQgghhOgJ1LEVQgghhBA9gTq2QgghhBCiJ1DHVgghhBBC9ATq2AohWsoXX3xR2WabbWr8JMaJaGHnn3++P6IxnJM46kTnsXNcf/31vrQ14FMTn4z2fSOPPLIvyebmm2+u81cZJnxOPvvss146m0MOOST3+q244ooNI/p8++23NU7g0xL+L/ERmgdR3nCKn3Y8Cd+VBNFoRFnnEe0jjIDZbCKEfcyHH35Y04bjRJSuu+66y0uXT3/atNpiNmXpu+FFHVshRMsgMIkptWWWWaby7rvv+pIqhJbcddddE5kJJpjAxSePIZRkGI3IkoXFJrWyY8vvHmussWq+O+8hiHN0AsEgx28kuEoID9Sdd945Odcqq6ziS2ohmIRF7iEQRezo/KuvvqosvvjiyXmOPPJIX1LLaaedlsjMP//8ddeYaGyhc/XHHnvMl9Sy/vrrJzJELoofvDz8LKgOvzctChyUdR7RuRBhbJJJJnH3cIEFFvC5fYRRRulcfvLJJ76kygknnJDUfYI4fP31176kHJpt02qL2ecpS9+VRdd0bLkwWfGVY7JC0RVleI+HMs5hoCCE6DZuueWWRJHtsssuPjcdRnNMlmhEMUQdQxleeumlNYrVQuWSbrjhBp9bLoThtu846aSTXIQgtvMegoza2DF5UXfOOOOMRI4RmhDavT148+LLw4Ybbpich1GTkIcffjgpywuxiY61hxMPsrgjQYQiO09euFvCl5scUaFiyjqP6FyoS4Sr595NOeWUdSFviQpq93bIkCE+tx46u0T6RI6X3qLRtBrRbJtWW8w/Txn6rkw6qmO79dZbJ3+aB5g1jLRECDhCz/GWxEhQmgyJKYOjjjrKf0M6Bx98cPImlpYYPn/88ce9dD3EeiZGctqxlmgU1113nT+ilu222y6RY2SKCh8eG6YxxxzTxZcWotMhzCIxw0mNXvT22WefpI4PHTrU5zam1R3bwYMHu3PzwGMkBYp0bClDhqnbPHhQm+6JHxgPPvigyyc1ejEg1r7Jxg8Mpk6tLA77HUMnw2Tjh/Lyyy+flKF38wind+MRnrLOIzqXRRdd1N0znldffvmlz+1jvfXWS+7riy++6HPT2X333RPZMp59/WnTaov55ylD35VJx3Zs+fNXXXWVL+mDOMvYe5gcafXVV6+70Aynr7XWWokMseJjHnroocRWhs4rdiYx4RsN8ehjrJGQ/va3v/ncWsIpF6ZdY8KOLYnrEE8HMF1h0zokGo8QvUDYDldbbTWfW4xWdWzplDPSxHlnnnnmmlmTRg/B5557LvlNTPM1Yvrpp3eyTOExUmMQK9/Ow/RlHu+9914iu/TSS/vcKqEt3yuvvOJz07nwwgsT2QMOOMDnVmGkinz0UCO22GKL5DxxZ6Ss84jO5E9/+pO7X9Tnt956y+fWEo7YMnqaB9PaJkvHsL8MT5tWW8w+T1n6rkw6tmN72223+dx6zjvvvESORpQFo0T2dsDFDMFo3R6m8803n89NB1sZ+76rr77a5zbH6KOP7o7HRiUm7NjeeOONPreeK6+8MpHbbbfdfK4Q3QlKjY6s1en+PLRa0bG9//77E72R9jLb6CEYTjdusMEGPjcbZp9MPpyyDV+qTz/9dJ+bzgcffJDIMloWEk4TMqWYByYfJrvvvvv63Co2JYz9XyPCl/lYl5d1HtF5bL755sn9YpQzC0bubGqftnbvvff6klriQR86mP1heNu02mL2ecrSd2XSlR1bFomYHA+2PEYddVQnx6rrEMwT7ByMAGO/k5UwXDfZnXbayZ+hFt7SmDKZccYZK6ONNloiHyfOFRM23ptuusnn1nP77bcnclQyIbqV448/PqnLs802W78XhpTdsf2///u/5HxZU4Wt6tjyoh3O1PT3YbrUUkv53Cr9fZjuv//+PrdKfx+Cd999t8+tUtZ5RGcRLhQtsoIeqGN2DInOpz2zSdiZrr322sl+f9p4GW1abTH7PGXpuzIZYTu2DO3bOTAnOPbYYwuluGHhosjOQyM8+eST3WhwjHWO1bEVIzKY0PDwoA4zDdbIvq4RZXVsGUFi5sbOxcN0++23T0324spUWphvtoRMcdroUNpq8Bi7HnPNNZfPqYIOtN+zxx57+Nx0HnjggUSW1cchjPZYWd6MELDewGTj2SmzmyR9//33Pjed5ZZbLpGNbSzLOo/oHMJZTZ6TzYKpHc917OtvvfVWZzZg8OLLeccbbzyfU4wy27TaYvZ5ytJ3ZTLCdmzxpWbnyDNnyOPNN99MzkGjyUMdWzEig62d2Yij2PLadzOU1bHFvn6xxRYrlMz1Dco8zP/ss8/82SpOwSPDqAQjOFngo9N+P652Qr777rukDJvAPPbbb79EFtu8EB6gVtZIXy655JKJLLNQITzQrYzFvVngo9M6CoMGDfK5fZR1HtEZnHvuucn9TFvLMjyENql4WWmGMtu02mL+ecrQd2UywnZs4ayzzkrOw9tD1g1hlAmnw+uss07NmyReGex4OqzvvPOOL+mDVZfY1ZocvydGHVvRq6AQTemRGi28aJb+dGzffvvt4XLH12jaEtANNs3HgpVhw4b5kj6eeuqpZCEsawDSFlKEuo4VzGm/O3Shs9lmm/ncWrDJNxkevDFMCW600UaJTFawDBsBoyPAyFoMjulnn312J8NDLmvxUFnnEQNLWD/XXXddnzt80IljStvOSztr5NS/0bR+I4q0abXF7POUpe/KYoTu2AKuiP7whz8k58tKTJumRUChEWKHm3aMJbwzhAbTcSNVx1b0IihAq6/NJtwBFaHZji3TmSbfyA1gFkUegsAoT2gfmJX23nvvXCXPzJA9WLISoylXXHGFPyIdHlo2c5SVpp122sQFUhaHH364e8ClHW9phRVWaGg6UNZ5xMCANxO7T/EiqWag/of33BKLvBpNj4czr6Q8t5x5FG3TaovZ5ylL35VBR3VsOwHewp544gnXsX7++eebGtnB5RgNjRFe3mCEEJ0H9nytWrSQB7M92N+hX0JXQ82C32x0DO6C+vuA4Dimau+4447K+++/73Obh1XNzzzzjFvVPjwd0LLOI7qPMtriQD1v1RazKUvf9Qd1bIUQQgghRE+gjq0QQgghhOgJ1LEVQgghhBA9gTq2QgghhBCiJ1DHVgghhBBC9ATq2AohhBBCiJ5AHdsGhJEyshwuCyFaD2EliZTzxz/+0YXZJMQjPqAvuuii4XIZdPTRR1d22WWXfiVc4mTx6KOPVo444gjnbH7OOeesrLLKKpV99tnH+bjs7+/FpeAll1yS6ti9EcTJ33HHHZ1zeXxxch133333yiOPPOIl8rnnnntSr0FWasYF00svvVTZa6+9Kk8++aTPEd1If+9jq9p2zMMPP+z8qBJtlDbw+9//3vnLJQgCIXj7A+66aENnnnlm5aCDDqoceOCBvqQ5+tu2cRFGSGP6JwsvvHBl3nnndX7AhwwZ0lRgk7LOg8tT9Mwyyyzj7iWBrTgvARraRc91bPGdNsccc7jEBR1e1LEVYuAgopCFciRNPvnkrl3vueeeTumGUf2yov81go4nSrxoCoM83Hffff4sfWyxxRZJOQFiUPCEGl1jjTUSR/AkHLB/8cUX/qh6eNAcdthhlZlmmik5xhLRgoqA0/QwOAzXi/9LJ4KHu4USJRGoJo9NNtkkkS2SXnvtNX9kH3RSbr75ZhelyiIVhYngO6LzKeM+tqNtw88//5xE17JzEUiADvimm25a0z7GGmusQt9Dv2DCCSdMjrM00kgjVRZffHEvlU0ZbZuQtHYMwRWWWmop9zJAp3KRRRapOWdeqOOyzrP66qsncqOMMkpl6aWXducJQxaTCMTVanquY4tDYbuAc889t8/tP+rYCjEwXH755UnbI256FoTC5oGEHLHeW+ngPwzDzehKzA477JCUX3XVVT63lq+//roy+uijOxnCT6aNFNHptfMsuOCClZNPPrny4osvJnnzzz+/l8zHHr50IN59912fWwsR2+y8jOZmwegLMtNNN53PaQ5Gxex7xhlnHBc98f77769ss802SX7RsMhi4CjjPrarbdO2rPNM9NCsWQTkZpllluQ3EcQlDTrJU001VfJ7mPHg5bEZymjbs846ayJPYIcs+H0mt+uuu/rcPso6zzzzzJOUM7OTBi9CJkMUs1bSkR1bolQcf/zx7qbb6Aif7B966KF1YfY++eQT95ZEYgjdLh4PD8tfaaWVvHQtVGhCa6LQaaS8aXCTCNVJVBF1bIUYGJi6t7bXKBY8owsmy7RmK2Aq374jLRxvGEK4Udx8plhN9qSTTvK5+aCP7JgiDz8i/pg8Yb3zIHY7cjysiTwUwzSpnWvDDTf0ueXQbFhk0Zk0cx/b1bZ5mbvgggtcahRu94ADDki+59xzz/W5fdAupplmGlc+aNCgpju0eTTTth977LFEltmXPD7//PNEdq655vK5Vco6T6gX6QDnccIJJySy5513ns8tn47q2PI2NuOMMyZ/fOaZZ67svPPOlUsvvbRy7LHH1rxRTTbZZJWPPvrIHYf5ATYcJGxcQhnLP/HEE52sgV0MHWWTHWOMMZzCPu6449zNYTogjp2sjq0QnQftnylA2igPnP6GtsyD0JCmB9BJaWA7azJMM+YRxrgfPHiwz82n2Y4tMBqGPB3Wu+++2+fWEj5ssv4bI3ImQ0ccEwymjOnAkw455JDKjTfe2C97SHVse4NW3Md2tG3gpdRGhhmRTQsBG5riEAL3vffeq5xyyilupJppd/oHtI1hw4b5I4rTn7ZdBMwt7LwXXnihz22evPPQP7Oyww8/3Oem89xzzyWymIG0io7q2PJH7U/zIEmDtzuTwRYkpogpAo2DxRwml9cI999//0ROHVshOovnn38+sfHDXu3HH3/0JeXBghg6hnxH3sgnnVnTFaeffrrPTYcpVpNddNFFfW4+/X34Ecc+nP5kZgqzgtC+cdlll8219+WF32QtMSOGKUU8AMD5efAXRR3b3qDs+9iqts0AFu2Y6fCpp546+c2Y2NDxysLaUGhTPMkkk1RWW201Zz/PQJrlk84++2x/ZGNa0bHlhdnOOTyjo0XOg5kH5awhiGfUQ/bdd9/kXHlmT8NLR3Vsw1GRMccc060oxsygGYp0bG+77bZEBuPmPGSKIETnwUPORiNJjUYK+gsd0JFHHtl9B2ZOeXRqx5ZRJVu8gUkXD3QGEVjUgekV+TyQ8jw8AFOxzzzzjN+rBztBu1akBx980Jfko45tb1DWfWx126ajxuIxzBMZBf71r3+dfBcveF999ZWX7IPRWZMhYVecBZ1mk8O8oQhldmxZuGf/idFnzt0fmjkPC0VZlGf/gVlv86TAccykhy/SJEbAW0VHdWyNm266ydlxhBfBEm9FmCVkUaRji/sKk0mzpQlRx1aIzoKXUWuTuOtJmzYsAx5wY489tvseRnYauQMKF5Zh/pTHm2++mcg2ssc1mn344XLJ5BdaaKFMMwEGD2wFOg+ntAd7UViAYt9ZdKpRHdveoIz72K62HUPbDtfnXHfddb6kCi90Vsbq/0ZYJ44OYRHK6Ngys2Qjp7zIslirPwzPeVg7EI9ckzAjxaaXF37LYxFiq+jIjm0avMVdfPHFNVMH+ISMKdKxpdGZDHZieahjK0RnEHYcsb//7LPPfEn5sPrZFDSdWzwZNOLll19Ofl+jTt2VV16ZyBYdkWr24Rcu0GE0NQ90q8kyXdhfGLmx8/D9RVDHtjcYnvvYzradxQsvvJD8hrTF5uZhZNJJJ/U52UwxxRROdoIJJvA5+QxPx5Y+D+5N7Xi8LPSHss6TBS/W+A7m3Lh26489flE6pmMbLqZYYoklfG462HUhxzRafHEYbbDzxKv3DKbU7BzYzlGhszjjjDOS86ljK0T7eeihh5IREB4UdCBbCTb45gaHhSvNLAZhKtP0BV4JsjB7PfzcsuK4CM0+/ELTiEaeFzbffPNElhmzEAYVzK6wkY/O8Dynnnqqz81HHdveoD/3sdVtO5xB2HjjjX1uOrQRk2VBZQwL0K08z4Qx7KTjI7YI/enY0vcJzR5wNdgfyjpPHqyNwryU8/OZ5XqwLDqmYwunnXZacnFZoUgED4y58SlHBf2///s/19M3mWOOOcYfWUvoPQFbGBoPI6/hikqmOKxzS+JBxjA503e4FOHmhjYjJHVshWgf2KGaz0gSq49ZgVskxYuX7KFLm857kQVerO07i0blMtAxoWcXOrrXXnut8+DCuRgNtYVofOZ1fmP68/Dbfvvtk2Owo0XH8v/pTPPd2ADSuTYZoielwfU0sww6++hHphbRzUQUYtTZ7HVJRTu1oI5tb9DMfSyrbWNCYP6VeYanuapjwZN9Dy9o9COo+7QBZjLOOeecmunzvMhfoZs+pumxHcWNGAs0+R5Gc60cN2VFabZtH3zwwYn8xBNP7DwVpF2rOOGaK6Ss8xh0WFloSjQ3PEWYSQMJ/TE8nhmaoaM6tgYKk9B6abYajMIyjZfn9oNpRCqVPUAspdnIMeWBzYy9TZBY5UtjwT1OOAKsjq0Q7YMHjrW9ZlPcsSJiDgsh0Cl5o0KsbrZz/POf//S5zYObIswRwgcdCbeCdJz7Ezp2eKYrCRbBgz/WiTycWahD+N8iEDFpo402qunEkujsopvznLxnoY5tb9DMfSyrbTPaaLax2JHn2cHT5rDbtYWUlnjeY7Z4yy23eMnG8JLK4svwpZC2xUwMI7bN0mzbDl8Kmkl0XkPKOo/BNeSaEKGRxWEMPt5+++0tNTtIoyM7tkIIIYQQQjSLOrZCCCGEEKInUMdWCCGEEEL0BOrYCiGEEEKInkAdWyGEEEII0ROoYyuEEEIIIXoCdWyFEEIIIURPMEJ3bPGXu+KKK1b+/Oc/Oz9yQoj2QUzyvfbaq2mfrrTVv//975UNNtjA+UtcZJFFnM9YogV9//33Xmr4eeuttypDhw51QV4WWGAB5+8V/9j4qfziiy+8VGPKOg++Zo844gj3v+ecc04Xspaw4ldccUVhP5H4/yZgxJAhQ5yvcM6zzjrrVA455JDK/fff76UaQ4hhYr3vuuuuzhH7fPPN5/x8H3/88S6sblHKOo/oDF5//fXKBRdc4AJ2cE+LRtVLgwh4u+yyi0sEFikDtcVsyjpPWdd4eBihO7bcQHM4TLQxIUT5oOhvvvnmyrrrrpuEZg3T9ddf7yXzCcNbk3CQvvPOO1e23nrrmmhfBAt4+OGH/VHNQwQhgjlwLpyuo+AJoYnD8RlmmCH5ntFHH91FNcyirPNsscUWiSzOz5dZZhkXcIJgEkQTszKcw2c9OL777jv34DTZ8ccfv7Laaqu58yy33HLuN1gZ582C0OfjjTdeIjvddNO5UKVEIltwwQWds3sr44GYRVnnEQPLe++954Ib2L0KE8FQCOjRH9AV4bmWX355X9I/1BZb3xbLusZlMEJ3bIUQrYURAFNo44wzjnuLZzSCEJqWXyTaFCMAJo/CTYMONIrY5B588EFfUhyiGtrxO+20k8+tx8LuosAJpxlT1nn4r3YeooelwUiLPQwJE54WfWmOOeZw5URdypqduvPOO5Pv2nDDDX1uHx9++GEStYkoY1nRHxmBsvPwMhJT1nnEwMJopd2flVdeuTJs2DBf0n+I9GkRR8Pw+cPTsVVbrJ6nlW2xrGtcFh3VsT3yyCMriy++uEvEkv7222/d8P5SSy3l4gwz2rPoootW9thjj5pG9NNPP1VOOeWUyvrrr1+ZYoop3EWjUaywwgq5bwaEe7Pvi0d4vvzyy6TswAMPdHnElSZs4DzzzONGhQjDy1B7M3HRhRDNh1FdddVVE/nnn3/e59ZDLHKTIyZ8s1iISUZf8mAkyr5nrbXW8rl9lHEepvSsjBGsPMIY9ieddJLPrRKGL0VP5rHlllsmsvF1xmTLyjAjyWPQoEFOjtGomLLOIwYOwipzXwit/Nxzz/nc4YMQ9jy7OS8mStQNqyfD07FVW2x9WyxLb5ZFR3VsmVK0P00Fp/OI/dy+++7rKsi2225bGW200RIZhrp5y2CboX/kTj/99Mp+++1XMz1C43vzzTf9t/TB+UwGe56QTz/9NCkbd9xx3XA8iXjUBx98cOWoo45ydjEmQxqe2PJCjEg027G96667Enmm/9LgRZhREmR4Cf7oo498STE+++yz5DuwvW+ETd/xEh1S1nmw17PzHHbYYT43HaYTTXbw4ME+t8r222+flDUy0cBO2WTPPPNMn1tlttlmc/lMwTaCKVQ7D3aXIWWdRwwM5557bnJPsJv84Ycf3Avlbrvt5jqg2IlSX1nDUpQ999wzOSejlVBGx1ZtsfVtsaxrXCYd27H929/+5nProQGZ3FhjjeVGV9MIK9hKK63kc/so2rGlg33bbbf5kloYLbaph0ZvK0KIKs12bA1GYe047Lmw3bLOLIkO7aWXXuqlm4MHjZ2HadZGhHZj//73v31ueefhAWr5vLDnwQyXyTKrFcLDxspeffVVn5vOxRdfnMgyUBBi9tGTTjqpz8kGkxM7T6w7yzqPGBhYUGT3xO4lz0A6n9T3WWaZJSknMSqYBfXdBqcmnnjimsVmZXRs1RZb3xbLusZl0rEd2zwlxmITk+MBmQdvIsjRaGKKdmyx28uDRSwmS6UWQuTTn44t01ihDS0PROzPVl999crUU0+d5PPg/fHHH/1RxVHHVh1b0Zjpp58+uScsgsryRMIsq8mxyj4GG0urC8x+xqhjq45tf1HH1p9HHVsh2kezHdvQ7CdPPlzkYLbxRXnjjTeSY3Hf0wgbKY5naso6D9O8dh7WH+SBqZXJxjaAZg9JajQ9fPbZZyeysQ0g6xfIZ3SuEayqtvPEtntlnUcMDJjmcT/4bASLyuz+YadqULcs/+STT/a5tZTRsVVbbH1bLOsal4k6tv486tgK0T6a6djyADBZ7PcaYSMC2MQ3O3KLnuDYaaaZxuek869//Sv5TWlmTmWc5+WXX07K8NObR7gqGR+iISxutTJc8uQRrvx+5JFHfG6V9dZbLylrtAJ+9tlnd3JptntlnUcMDLRBu3+NRh3DjtwLL7zg8kLb0f4kFjE1g9pi69tiWXqzLNSx9edRx1aI9tFMxxY3XrZolCmzn3/+2ZfU8+677ybnbdRu0zjooIOS448++mifWw8PN5OLdQeUdZ5ll102KX/iiSd8bj0snkUGfRc7xf/mm2+cVxnKf/e732Vev7fffjtZlZ527e67777kt+ClIgse2CbHoqCYss4jBoZnnnkmqScsPspyEUWn1/yaNtsZhTJGbEFtsSrXyrZY1jUuC3Vs/XnUsRWifTTTsQWm91goasfgKuaee+5xng8YaUAn0E6tnIANeEmIse9lGtVGkGJCNzu4sSGSEtOoPGixr8Mfr5XjMjCLMs5DpyEMPsHDlWhF/G9GcbC9swcgn1kPXK4Ri2DtPOg+rh9+NNG1a665ZlI24YQTZo50h66MsM/jIfb00087R/2MVNmoDinNbtIo6zxiYGD62ewzSTjhv+OOO1yH7JprrnG2pVaGh6Ki0bhCinRs8RNrK/tnnXXWTJtNtcXWt8Wy9GYZqGPrz6OOrRDto9mOrYHyZxHDGGOMkRxvaYIJJnAjB3lhdYnuwygSTuCZXsyDBSOYNYSRd3BmzoIZlHZRyjgPIz2MdjBibecgcR1wel40LDGhMYluZKNGlrB3Y4oZvVeEG2+80YUzxpWinYOHOVGL8EGa5pg+jbLOIwYGOnW8ZDL6aPePRIeMyJ79WcRpFOnY0mFeeOGFnQyuOBvVF7XFbMo6T1l6c3joqI6tEEIIIYQQ/UUdWyGEEEII0ROoYyuEEEIIIXoCdWyFEEIIIURPoI6tEEIIIYToCdSxFUIIIYQQPYE6tkIIIYQQoifouI4tvtKOO+64yphjjpn4QIsTToT32Wefyk8//eSPSgeZtOOzEn7lQl555ZXK5JNPniqrSDhCFOOLL76obLPNNjV+DeOEn+nzzz/fH5HNzTffXOf3MUz4XHz22We9dP8p63vKOs8hhxySe/1WXHHFuihHMQSsCJ2/pyX8VTZypo9zfpzhpx1Pwp/nZZdd5qWzKes8on0QbCHtXhVJPNdjeIbjKzVNPi1tuOGG/sjmUVvMpqzztEs/N6KjOrYESbALQOSKBx54wJf08Y9//COJ2kGDIGJHFjh1Rg6Hwx9++GHDFDogplNrvyWOILLKKqu4/I033tjn9MFvptLjnFqIER1eAK0dLbPMMi7kbQghJWkrJkOQBeKJx9A2p5hiCidDgIVzzjnHl1QhKtDOO++cnIc22h/K+p6yzkMQCXvwjz/++HXO37/66qvK4osvnpznyCOP9CW1nHbaaYnM/PPPX3eNicIWOpx/7LHHfEkt66+/fiJDpKH4wcvDD2fslPN7f/jhB19SS1nnEZ0LndZJJpnE3cMFFljA59by4IMPJvWAyF1pz+Uwffnll/7I4qgttr4ttks/F6VjOrZEC7K3IN4K8yDcm10gHpZZjDfeeE5mySWX9DnFOffcc92xRBWL4a2Esumnn97nVDn00ENdPpHKGr1pCdHr3HLLLa49kHbZZRefmw6jOSZ74IEH+tw+GAWx8rzIPmeccUYix4hHs5T1PWWch46BhRHOiysPjGTZedBPIQ8//HBSlhcSk4ePPZx4kH399de+pAoRhew8eSExX3311USOaFAxZZ1HdC7UpZlmmsnduymnnDIz1O0JJ5yQ3OO77rrL55aL2mJVrpVtsV36uSgd07El9B7h+UjxTYy59dZbk4tD6Lk0iC1vMv0xG+B32NsZoeZC5ptvPpcfhvNdYYUVXN5uu+3mc4QYsSH0pLXpRqE1Q7OhoUOH+tw+Rh55ZFfW6KWXkQNrt/3pDJX1PWWcJxzNavRicOeddyay8QODqVMrI45/HkOGDElk44eyzYCRGJ3Kg9CiJhuP8JR1HtG5LLroou6eYVKYN8rKrGer76/aYuvbYrv0c1E6pmNbFOz1bJiemMq8SaXB8LndhHHHHTfZjhM3a9iwYf6oWuhgr7HGGnXH8MZ21VVXORl+D7+D/Ouvv97lCSGK89BDDyWzNauttprP7eO5555L2h7TZo1gJgVZpsQY+ShKWd9T1nlOPPHE5DxMX+bx3nvvJbJLL720z60S2vJhYpXHhRdemMgecMABPrcKeo98ppcbscUWWyTnic3FyjqP6Ez+9Kc/uftFfX7rrbd8bjqzzDKLk8VccNRRR03udZjIT3vZLYLaYuvbYrv0czN0Vcf22GOPTS4gbxp5UPlsARpD/s8884wvqRpuX3DBBZVxxhknOR8Vrlmwp+XtgymK999/3+cKIYqAUqMja22Q0Yw0wum7DTbYwOdmM8MMMyTyWVOgaZT1PWWdJ5wmPP30031uOh988EEiy2hZSDhNyJRiHhdffHEii81jCIt2yWdgoRFbbbVVcp7bbrvN51Yp6zyi89h8882T+8UoZx7UdevYYjZ48sknO5NEg8Xcq666anI+Xn4xQ2wGtcXWt8V26edm6IqOLSM6o402mrsQrM4rc1XdX//61+QiZz1Y0zB7WozizZ6Wmz3zzDMnQ+10rHfccUfXkRZC9HH88ccn7W622WbLNT/qr+LkQdiMrXtZ31PWefr7MF1qqaV8bpX+Pkz3339/n1ulvw/Bu+++2+dWKes8orMIF4oyY1oWLBobffTR3XmpO82M8qkttr4ttks/N0NHd2wZBcU7gl2ESy65xJeUB6u07aaworEIsT3td999V5lwwgld3nbbbZfYqjBcb6PC/Z1KEaKXwP7M7LGYBnvxxRd9STaYG9nLYtbq6hA7/1xzzeVzilHW95R1Hl6UySftsccePjcdZo9MltXHIYz2WFm8XiDm4IMPTmSvvvpqn1vF7CZJ4chaGsstt1wiG9tYlnUe0TngAcDuEzOrZROOBN9xxx0+tzFqi61vi+3Sz83QkR1bFprgycAuYmxf0ggqFna1pKOPPtrnptPMym3safG3iWxoT3veeee5PBaVxZitLz7ihBhRwdbOXP+g2OIpsUagMDmWF1xGRLJgZTVyJFzXNEtZ31PGeXhhtjJmgvLYb7/9Ells80J4gFpZuOA1jVDvYisYwgPdyi699FKfWw8zVDbDNmjQIJ/bR1nnEZ2BeRAiMQNaFEwEeUZPNtlkuV4GYOGFF06+o9Eipxi1xda3xXbp56J0XMeWEU/747jN6K9x8UorrZScJ8vx+yOPPOIMmJFh9CjNf6aBvRBvJWn2tPfdd587BwbwcaOz/8PvEWJEA4VoSo/UaOFFFp9++mkybYb7oLQFn0899ZQzVUKGBQpZuuPtt9/O9NJQ1veUdR5eoCknsa4g7XeHLnQ222wzn1sLs0smw4M3hinBjTbaKJHJ0pnmEQYXRHinicEx/eyzz+5keMhlLR4q6zxiYAnr57rrrutzixFOYTPwkzZiiA3m6quvnsjFU/JG3rS+2mLr22KZ+rkMOqpja2YHzSZGUdNg+N5sc7ISnVXenIrYenz88ceZcuGqSWxI1l577WTInWgbvPEJMSKBArQ20Wxab731/Fn6oA3RrtLkw7T33ntnKk3zbU066qijfG4tZXwPlHUeXBfagyUrMZpyxRVX+CPS4aGV5yGGNO200zoH8Xkcfvjh7gGXdrwlzLUamQ6UdR4xMLD2xe5TvEiqKExj44s+vOdpaeqpp3Yd4RjW24Ryjz/+uC+pRW2x9W2xrGtcBh3VsW0ldEiplEyBPv/88w2nPvoLb3E4KOZ75ClBiNaBn1zMjogMyAOyKMzMFHmRNfr7PTFlnYcXbGyVcRfU3wcExxFGE3vF4dFTjKjhcebee+8drg5oWecR3Q0zno8++qhbnEQ9Lwojhs2gtphNWecp6xr3hxGmYyuEEEIIIXobdWyFEEIIIURPoI6tEEIIIYToCdSxFUIIIYQQPYE6tkIIIYQQoidQx1YIIYQQQvQE6tgKIYQQQoieoCM7tvvss0+qY9+s9Nprr/kja8E3HBFN0o4hEQWDkLdZ4Jtu8sknTz12zz339FJCiDwIRb3NNtvkOgAnyEpWhJ00OOcpp5xSWXDBBZNzhGGuh5ebb765MvbYY9f8xjARdAXn8I0o6zyHHHJI7vVbccUVXYSgPIgCt+aaa6Yeb2mvvfZq6ON3ePWqUdZ5RPuYe+65U+9VkXTcccf5s/Tx9ddfV7bddtskAmhaWnzxxRsGKiiC2mI2ZZ2nrGs8vHRkx5ZwdVwEQtR++OGHDdN//vMff2Qf66+/fnIxiUkcVxBuEiHkKB9//PErP/zwgy+pQqfWjsfBcMgqq6zi8jfeeGOf0wcOian0u+66q88RYsSFF0BrR0QYevfdd31JFQKl0FZMZoIJJkgNbU3YamLKm5yl8IFYRscWXTLFFFMk5z7nnHN8SRWcqe+8887Jd6IL0ijrPC+//LKLjogMeorgLyE4tOfBb+c58sgjfUkthDI2mfnnn7/uGtNxmHTSSROZxx57zJfUMrx61SjrPKJzwSn/JJNM4u4hYbVjiM5ldYC2TVCAEIIuhFHJBg8e7EuaQ22x9W2xrGtcFh3ZsbWwl0suuaTPaY7DDjssuYDHHHOMz62H+NImt9BCC/ncKueee67LX2yxxXxOH7yVUEa845BDDz3U5TOKFFcOIUY0brnllqR97bLLLj43HUZzTPbAAw/0uX1cfPHFThleeumlNYqVcNh23A033OBz+w+jLXa++MEVEsaEZ2Qlpozz0DEYa6yxXNnvfve73GiJG264YXIe9FNIGJP/j3/8o8+th4ePPZx4kDGaFlKGXoWyziM6F+rSTDPN5O7dlFNO6aJZxcw888yunIGgvBeXlVZaKakHdC6bRW2xKtfKtliW3iyLjuvYEvbW/nh/p/ttxJfEW1QeSyyxRCIbNq6PPvooeTu78cYbfW6V+eabz+XzUDWIo0zebrvt5nOEGLEhpCLtiESo6TxC86OhQ4f63MaU3bEdeeSR3bmYcs2DEQrTD2mKvozzPPjggy6f1OjFgLCeJhs/MJg6tbJrrrnG56YzZMiQRDZ+KJehV6Gs84jOZdFFF3X3bMwxx8wMyzrbbLMl9xbToiyWWmqpRO7111/3ucVRW2x9WyxLb5ZFx3VsGfa2izfuuOMm23HiIg8bNswfVQtvVMgwDdKILbbYIjnnPffc43Or8Ja0xhprJOWWOP9VV13lZGiQE000kcsv08ZPiBGFhx56KLFZW2211XxuMcrs2D733HPJuZieawQzNsgy9cYIi1HWeU488cTkPExf5vHee+8lsksvvbTPrRLa8mFilceFF16YyB5wwAE+t0pZerWs84jO5E9/+pO7X9Tnt956y+fWgx3qXHPN5WTpGB199NGu42PcddddlamnntqVM1p67733+pLiqC22vi2WdY3LpOM6tlQa3vL44wzVh3Y3GFxfcMEFlXHGGSe5kFSUmN/+9reuDDuVRmy11VbJuW677TafWwzsaXn7oNG9//77PlcIUQSUGh1Za3+MZjRLmR3bcJpwgw028LnZzDDDDIl8ONVa1nnCacLTTz/d56bzwQcfJLKMloWE04RMKeaByYfJ7rvvvj63Sll6tV36WbSfzTffPLlfjHIW4e23306e+WkJW9z+orbY+rZY1jUuk47r2Bblr3/9a3Jx4gdif2/W3Xff7XMbY/a0GMWbPS03G7shG2qnse64446uQy6E6OP4449P2h1TkrENWVE6oWPLaHNoU1/Wefr7MGXqNqS/D9P999/f51YpS6+2Qz+L9hMuFGXmtRH/+Mc/kilsnqPxCCZT45tttllyTupCs6gttr4tlnWNy6RrO7asrraLyUrEELPvIX3//fc+N53lllsukc2yBYqJ7Wm/++67yoQTTujytttuu8RWheF6G11uxm5QiF4F+zN7mDEN9uKLL/qS/lFmx5YFIvZSmraKO8b+B9OpIWWdhxdl8kl77LGHz02H2SOTZfVxCKM9VhavF4g5+OCDE9mrr77a51YpS6+2Wj+L9oMHALtPxx57rM/NBvtSk+eZmUe4CJWObjOoLba+LZZ1jcukozq2VAjsaknY2+SRt+KaimdlrKLOgpHU0UYbzckNGjTI52aDPS3+NpEP7WnPO+88l8eishizGcZHnBAjKtjaYcdFW0CxxVNi/aXsxWMoZs7FaAIjL1lg/2ffi4ucmDLOwwuzlTETlMd+++2XyGKbF8ID1Mq4XnngicZksRUMKUuvtko/i4HBPAiRmEktwqmnnpocc8QRR/jcdMIV+QwqNYvaYuvbYll6syw6qmMLoWuPLIftjzzyiDM8RoZRnzS/l+a5AFcZt956q8/tA8P12Wef3clwM/KM3AF7Id5K0uxp8bHJefC7G68s5G2UMv6XECMaKERTeqRGCy+apT8dW2z6srw04DvTpudwU5S2QPWpp55yDsuRYSFE2gKIss7DCzTlJFYwp/3u0IVO1ogWs0smw4M3hinBjTbaKJHJ0r1l6dWy9bMYGML6ue666/rcxtBRtMXhPFfvuOMOX1ILg0lhkKSsUc68aX21xda3xbKucVl0XMcWGHYfffTR3QXISjQGHmp5NhqHH364uxFpx1viDbDoFNfHH3+c+X3hqklsSNZee+1kyJ1oGzRkIUYkUIDWJppN6623nj9LPs12bM1HNumoo47yubXQVmm/JpeV9t5771zlXNZ5cIFoD5asxGhKo0U2PLTyPM2Qpp122oZRnsrSq2XrZ9Fe8GZi94kp7f7A1HyjOkDCn3yaHT5RrEK5xx9/3JfUorbY+rZY1jUug47s2IbQkaQyMXX5/PPP5zpGzoPVd3hYwGVIKxUlb3E4KOb3ylOCEJ0HMzx5L8Qx+OPFTIoIhNiT9ZeyzsMLNrbKLLbp7wOC4wijyUjZ8OipsvRqu/Sz6Fxw9YWfWp6dTz/9dFODQYwYNoPaYjZlnaesa9wfOr5jK4QQQgghRBHUsRVCCCGEED2BOrZCCCGEEKInUMdWCCGEEEL0BOrYCiGEEEKInkAdWyGEEEII0RN0TMcW37VEEOtPOvvss/1ZaiGkbZp8VkpzGYK7i7322svFfMZ/HU6ob7rpJl8qhCjKY4895mKe46OWcIr4ptx0000rxxxzjHMNUxRik+ML8U9/+pNrk7///e8r2267rXNkjsugssAPL6GwiZFOkAkiAe24446Vs846yzmOL0pZ53n00UddlCbisc8555yVVVZZpbLPPvs4n5lF3ZfhWujaa6+tDBkypPLHP/7RnWedddapHHLIIZX777/fSzUGn6Jc71133bWy9NJLOyfvOKQ//vjjK6+99pqXakxZ5xEDA+6u/v73v7s6Oe+881YWWWQR16ZPOOGEhiFaQ3j+EwWLOjnbbLO58K0EN7rooouacs3XCLXFbMo6T1nXeHjomI4tIXRpGEUT0S3M4e9BBx3kz1LLJptsUuMYuFEKbx6Vjgcv+XzfP//5T+dPd/fdd3cROsgnPFwa+OITQlT9OvOgsjY25phjVv7whz+46Dubb765C2ZiZaTrrrvOH1kL/qstQg4J5+Y4A+elkwdpeB6iA77zzjv+yOYhRLZFNiQQDN/LQxZ9En4PQWRwUp9FWefZYostEtlRRx21sswyy7jQpWussUZlookmSspw6J714MAnKA9Okx1//PErq622mjsPnYgwIA7nzQKH+GGQC4LPbLzxxpUddtihsuCCC9Y4eeeBmEVZ5xEDQxhhi8Szcuedd65svfXWlRlnnDHJH2mkkdyLaBpEC7MwrSQijNGx23PPPd3LL3XUymjvndCm1Razz1PWNS6DjunYNgMNwi42DSkLe6Byo5qFjizHTjXVVD6nD0aIKePGhfDwte886aSTfK4QIyYfffRRouhQnFlO1BnhQIEiR2IUI4RRWHsAEkI76zzIzTLLLMl50kJtN+LKK69Mjt9pp518bj1LLLGEk0GB45w9pqzz8HCx81x11VU+txZGWuxhyAt/2qj1HHPM4cp5KWeULQ0czdt3bbjhhj63jw8//DB5qWfEPcshPSNQdh46QDFlnUcMDIzG2X2hfqYRt2lC0odcfvnlSRkjell88MEH7kUVOdpIfwIGqC1Wz9PKtljWNS6LruvY8rC0mMSM/GTxww8/JBc6rWI0gugnHMuDNI52duihh7qyMIwgkUN4g+MNlagpQozoHHnkkUkbPP30031uOvYiSWLkJ+Tdd9+tXHDBBS5lhcw0DjjggOQ85557rs8tDi+yHMvoSx5ECLLvWWuttXxuH2WcJwxJ3CgOP1O2Jhu/VJ9zzjlJ2SmnnOJz09lyyy0TWSI9hvz5z39Oyl566SWfm86gQYOcHKNRMWWdRwwMq666anL/4joScuGFFyZy//d//+dzqzB1b2UMVOXBNLbJYrLQLGqLrW+LZenNsuiqji12eBZfee655/a56WCjYheQynXfffe5KQ4qJQk7lhtvvDHXHsbi0I8xxhjOho+R2oUXXtjlMYJkJgeXXHKJy+Pmfvvtty5PCFGchRZayLUhRniHDRvmc5uDh4+N7tAWmw3j+Nlnn7ljSSuuuKLPzcam75hCDSnrPNjr2XkOO+wwn5tOGDN/8ODBPrfK9ttvn5RlTQsb2Eaa7Jlnnulzq9hsFC/wjWAK1c4Tm2aVdR4xMGCCZ/eEqfg0eA6auSADUQxI9Qee+QwWcR46VlkjilmoLba+LZZ1jcukazq2xC+2hjLppJPWjaLGHHfcccnFtsQUAecIbUZI44wzjhtxzYKGzCgtRtVUsHD6AFMIztHKtw8hehUeXDPNNJNrQzwAi05PMQtDm1thhRUqU089ddKWMTt67rnnvFRz8KCx87AopBGh3Rj6ySjrPDxALb/RiDdTtiYbziQBDxsrazQ6dvHFFyey++67r8+tYjNl6N9GsHDEzsPsV0hZ5xEDC6Owdm94IaUe2zOaxH2+9NJLvXTzMEppdQUdgb1+s6gttr4tlnWNy6RrOrZml0LntKjtHBftmWee8Xv1vPjii5WRRx45ucixHVAeefa02Nkw6tTs26UQIxLMoFjbY2qymdXPjISweGyllVZyIzlmy0tadtllK1999ZWXLI46turYimIwpRza0GKfycvm6quvXvOiyar6ZjukyGN3a+c4/PDDfUnzqC2qY9uIAevY4nqCi8BIa6PK0Cx33HFHcpFZXV0EvCPE9rSXXXZZch5MF8JFLEyzNvPQFqKXYRSHxQO0Daaj+mt6EMNCDTMVImV5WMiCWRs7lo52I2x0KrYrK+s8uMex82CvnAc6yWRjG8CNNtooKcPlWh62MJYU2wBOMcUULp/BhUawqtrOE9vulXUeMTDgmsruyQ033OBz6wkXHB144IE+Nx9W0dsxuPFr1pwoRm2x9W2xrGtcJh3fscX9h100/NKWDS6+mrkpafa0uK4gj443b2sh5nIsz22HECMCvASaDSwvf4888ogvKY8XXnjBnZ/EaG6zTDzxxO7YaaaZxuekw6xR3veUcZ6XX345KWv00h2uSo5HuE499dSkDJc8eYQrv+P7gwsmK2v0MoJ/YeTSbPfKOo9oP3TG7N7xbG6Ejc7xbMwbuQ07jjPPPLOz2ywLtcXWt8Wy9GZZdHTHlgVbdhFYaVgUGpANsS+++OI+Nx18adp3UOnyyLKntZWO+PKLsdXeNHAhRkRwzxU+4HD10wzhrAqjBnlgFmSyLL5oFnxi2/H41s6Ch5vJpQVsKes8mFVY+RNPPOFz68FvJjI8dD7//HOfWwU75rHHHtuVp3l5Md5+++1kJJ1p5hgW4NpvYWV8FjywTQ5zk5iyziPaDzOP5nqP6eu8tS54M7H7l1afgEEhO98EE0zgOpBlo7ZYlWtlWyzrGpdFx3Zsw2mM/tjYMDxuFQiTAd5+eNvkjeGpp55y5xxllFGS72jUqeUtjEVmJ554os/pA3s+RqA4D9FIzLaWlaA0fvKzgkgI0atgP8VbubUxXjIxQyiSYgfeoWLlpZWFKzxceHBgK8/L5WSTTZbI7Lfffv7IWszTCd5VGN1NI3Szw8wMbsbwuMD0G/Z16AErJ2paFmWcB10SOrzn4YqfX3QLozjY3tkDkM+sBy6jMba6nMSgATNgLITFXm7NNddMyiaccMLM0bXQlRH3gYcYI/Hvvfee05E2qkNiyjqLss4j2g9T7TbzQmKgh7pEnaSeXX/99TX2t9Tf2FsQM5u0CZPZZpttUvVAWuLZbmB+ZGtdZp111kybTbXF1rfFsvRmGXRkxzZ0c4EPu+EBI3fsWsJOLImKhcE7o0FlQKWncxw2eNLyyy8/XBFThOhWUGphW2gmMUWWxpNPPuls78ypuCVGgnEBeMstt3jJdIjuw0IzOsGNRodYMMJIM+e27+F7iRqE0i5KGedhpIfRDntRtsQLNU7PuS5FwPSK6Eb20m8JezemlrOCX8TgKpGIjKFe5WGOVwqiwaU5pk+jrPOI9kNHjAVFNqgTJkZfGczJCqsb+nNtNoWDUIwgm109a1ka1Re1xWzKOk9ZenN46MiOrRBCCCGEEM2ijq0QQgghhOgJ1LEVQgghhBA9gTq2QgghhBCiJ1DHVgghhBBC9ATq2AohhBBCiJ5AHVshhBBCCNETqGMrhGgpX3zxhXPAHvo1jBMhGc8//3x/RDaLLLJI6vFpCV+1/eXmm2+u8y8ZJnw7Pvvss146m7LOc8ghh+RevxVXXLEuylEMTvJD5+9pCX+V+AbNAwf5OMNPO56EP8/LLrvMS2dT1nlE+yFi1hZbbJF630j4ij722GO9dDZff/21C1CAfNp5SAR2yQqm0gxqi9mUdZ6yrvHwoo6tEKJlEH7RlNoyyyzjwmyG8IDcddddExkcuxMdMAtzHr700ktXPvzww9z0ySef+KOKgxPyKaaYwn0HD1scyYcQiGXnnXdOfu8qq6ziS2op6zwEkcBJOjLjjz9+nfN3oh7y4LfzHHnkkb6kltNOOy2RmX/++euuMR2H0OE8URrTWH/99RMZIg3FD14efhY8g9/7ww8/+JJayjqPaD8XX3xxcu8mn3zyyuOPP+5Lqtx///01gYrYT+OKK65IZHgJfeaZZ3xJFQIUoDNMZvDgwb6kOdQWW98Wy7rGZdE1HVsuTF5c6pCsEHRFGd7jhRAVFwXMFNkuu+zic9M57rjjEtkDDzzQ59bCm77JZIXMHV4YbbHvyIsgdMYZZyRyjKzElHGen376Kekg5MWVhw033DA5D6MmIQ8//HBSlhcSEx1rDyceZIymhRBRyM6TFxLz1VdfTeSIBhVT1nlE+2Fkz+4JUbbymGeeeRLZuNMKM888sytj9DPvxSUMy90oWmAaaotVuVa2xbL0Zll0VMd26623Tv40MaFnmmmmZD9OhGzjjY63pPCtLk40mqOOOsp/Qz2EBSTmc9qxlqjQ1113nT+iD272qKOO6mRGHnnk1EbHbxxvvPGSczUK+SlEr0DoSeKokxq9LO6zzz5JGxk6dKjPreXss89OZG666SafWy60Y85PeN48GKGw0Zs0RV/GeR588EGXT2r0YnDnnXcmsvEDg6lTK7vmmmt8bjpDhgxJZOOHMuHBrQy9mwedHpONOy1lnUe0H8LZ2v3IaqfGDTfckMgecMABPreP2WabLSnHXCmLpZZaKpF7/fXXfW5x1BZb3xbL0ptl0bEdW/78VVdd5Uv6IL4y9h4mR1p99dXrLjTD6WuttVYiQ4z4GKY2rPxvf/ubz62FWNgmw5RpDN9jsapJTK8YDzzwQHITmbL58ssvfYkQwnjooYcSm7XVVlvN59aDLZ61s3HHHTfZjtNf/vKXzBj1eTz33HPJOZiea8T000/vZJl6Y4TFKOs8J554YnIepi/zeO+99xJZzDRCQlu+V155xeemc+GFFyaycWeEkSryJ5lkEp+TTWh/ec899/jcKmWdR7SfN998M7kfPK/zeOuttxJZOlAx2KHONddcrpyO0dFHH+06PsZdd91VmXrqqV05g0v33nuvLymO2mLr22JZ17hMOrZje9ttt/nces4777xE7k9/+pPPrYdRIutYcjH7y+ijj+7OgX1JFocffnjym/bee++aqdVNNtnESwkhDJQaHVlrJ4xm5LHppptWRhppJKcQd9ttN2dHa2BPy6hvuKiDh1EzhNOEG2ywgc/Nhlkjk//3v//tc8s7TzhNePrpp/vcdD744INEdtFFF/W5VcJpQmaZ8gjtJ/fdd1+fW+W3v/2ty8f+rxHhgECsy8s6jxgYVl555eSeHHTQQT63FuwyTYZEhy6Lt99+uzLmmGPWyIcpHCxqFrXF1rfFsq5xmXRlx/b6669P5BidycNMBVh1nQVvWLvvvntlxhlnrIw22mjJuePEKFEeGH3bkLyla6+91pcKIYzjjz8+aSNMScY2ZP2FzjILMuzcTCEWpb8Kms50uOCirPP092HK1G1Ifx+m+++/v8+t0t+H4N133+1zq5R1HjFw3H777e4l0+4NKXx2co95Nts+z9eYf/zjH8nzcoEFFqgbwWRqfLPNNkvOQV1oFrXF1rfFsq5xmYzQHVvcC9l5MNQ++eSTa0aBDJv2bNSxDW1uLcmmVog+sD+zhxnTYC+++KIvKY8LLrggaX9ZJkZpsEDEZnh40DbC/gfTqSFlnQcdSD5pjz328LnpYPZksqw+DmG0x8puvPFGn5vOwQcfnMheffXVPrcKo09W1sjUY7nllktkYxOsss4jBh4WUd1xxx1uUdDll19e8/zcfvvtk3sXu3jCvtTKtttuO5+bTrgIlY5uM6gttr4tlnWNy2SE7diGtkJrr722z02nSMeWFYV2vs0337zGFAHbFCFGZLC3w46L9oBiy2vfaWDqQ/sjPfLIIz43HUyBrO01WqARg2LmOEYTGHnJAvs/+w5c5MSUcZ7vvvsuKWMFeR54iTBZbPNCeIBaWSN9ueSSSyayzGSF8EC3Mhb3ZoGPThu9GzRokM/to6zziM4ltEmlPcaEi9COOOIIn5sOA0Ymu8IKK/jc4qgttr4tlqU3y2KE7djircDOwcPynXfe8SV9YFqAXa3Jca4YhtJDp/Gh/7ZHH33U3WjyGRFutOpQiF4DhWhKj9Ro4UUW2MuPM8447hzYvL/00ku+pBY8oNh3xdOABjZ9WV4a0As2PTfllFNWhg0b5kv6eOqpp5IFrNjupy2AKOs8oa5jAU7a7w5d6GSNaGGTbDJprtLQYxtttFEikxUsY7755nPluCC69dZbfW4fLAiaffbZnQy6jxeaNMo6j+gcGPGjboWzllntnY6iDRgx2seobxp4S2DhtZ0va5Qzb1pfbbH1bbGsa1wWI2zHFngLwiG8nSst4VkhNHYOp1SwCbLzUynSoqMwZM932/Gx2w4hehUUoNX7ZtN6663nz1ILC8Rs2isr0fE966yz/BG1hK73stwA8tBlFic8Z1piJCpPOZd1HmaX7MGSlRhNabTIhoeWdSay0rTTTpuqx0IYPbcX9qzEyFoj04GyziMGhtBEIEyMNKZ1bNJgar5RHSAttthiqXb4oW9rUhwswlBbbH1bLOsal0FHdWwHEtyF0UiwAeTtQwjR2TBi8vzzz7uXYB44RZUlkX6aWbSAP17s5p544glnT9ZfyjoPvrfRU7xY9/cBwXE422ek7P333/e5zcOqZpzv44ppeDqgZZ1HtA/qUJkdFFx94aeW9vz000+7jlJRmn1mqy1mU9Z5yrrG/UEdWyGEEEII0ROoYyuEEEIIIXoCdWyFEEIIIURPoI6tEEIIIYToCdSxFUIIIYQQPYE6tkIIIYQQoidQx1YIIYQQQvQE6tgKIYQQQoieQB1bIYQQQgjRE6hjK4QQQgghegJ1bIUQQgghRE+gjq0QQgghhOgJ1LEVQgghhBA9gTq2QgghhBCiJ1DHVgghhBBC9ATq2AohhBBCiJ5AHVshhBBCCNETqGMrhBBCCCF6AnVshRBCCCFET6COrRBCCCGE6AnUsRVCCCGEED2BOrZCCCGEEKInUMdWCCGEEEL0BKV1bJWUlJSUlJSUlJQ6IRUhtWMrhBBCCCFEt6GOrRBCCCGE6AnUsRVCCCGEED2BOrZCCCGEEKIHqFT+H+Hb9ybgylToAAAAAElFTkSuQmCC)\n"
      ],
      "metadata": {
        "id": "0fOQSa2CwiUf"
      }
    },
    {
      "cell_type": "markdown",
      "source": [
        "## Part 2\n",
        "- Include = [\"object\"] : Display summary statistik dari kolom yang tidak bernilai angka\n",
        "- [nama_dataframe].describe(include=[\"object\"])\n",
        "\n",
        "![part_2_1.png](data:image/png;base64,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)"
      ],
      "metadata": {
        "id": "sh-SStyTw6mf"
      }
    },
    {
      "cell_type": "markdown",
      "source": [
        "## Part 3\n",
        "- Mencari rataan dari suatu data dari dataframe.Dapat menggunakan syntax mean, median, dan mode dari Pandas\n",
        "- nilai_skor_df.loc[:, \"Age\"].mean()\n",
        "- Output : 21.4"
      ],
      "metadata": {
        "id": "BEyCTDDqw68u"
      }
    },
    {
      "cell_type": "markdown",
      "source": [
        "## Tugas Praktek"
      ],
      "metadata": {
        "id": "7AyQBtTw1MWE"
      }
    },
    {
      "cell_type": "code",
      "source": [
        "import pandas as pd\n",
        "order_df = pd.read_csv(\"https://storage.googleapis.com/dqlab-dataset/order.csv\")"
      ],
      "metadata": {
        "id": "ozefLiBe1Pzp"
      },
      "execution_count": 11,
      "outputs": []
    },
    {
      "cell_type": "code",
      "source": [
        "# Quick summary  dari segi kuantitas, harga, freight value, dan weight\n",
        "print(order_df.describe())"
      ],
      "metadata": {
        "colab": {
          "base_uri": "https://localhost:8080/"
        },
        "id": "reC0wJC31asM",
        "outputId": "f8e6df0f-1c95-4f3e-d237-ebe17a230b24"
      },
      "execution_count": 17,
      "outputs": [
        {
          "output_type": "stream",
          "name": "stdout",
          "text": [
            "           quantity         price  freight_value  product_weight_gram\n",
            "count  49999.000000  4.999900e+04   49999.000000         49980.000000\n",
            "mean       1.197484  2.607784e+06  104521.390428          2201.830892\n",
            "std        0.722262  1.388312e+06   55179.844962          3929.896875\n",
            "min        1.000000  2.000000e+05    9000.000000            50.000000\n",
            "25%        1.000000  1.410500e+06   57000.000000           300.000000\n",
            "50%        1.000000  2.610000e+06  104000.000000           800.000000\n",
            "75%        1.000000  3.810000e+06  152000.000000          1850.000000\n",
            "max       21.000000  5.000000e+06  200000.000000         40425.000000\n"
          ]
        }
      ]
    },
    {
      "cell_type": "code",
      "source": [
        "# Median dari total pembelian konsumen per transaksi kolom price\n",
        "print(\"Median :\", order_df.loc[:, \"price\"].median())"
      ],
      "metadata": {
        "colab": {
          "base_uri": "https://localhost:8080/"
        },
        "id": "5qAOEM7d1Ugg",
        "outputId": "af5b96cd-6f46-44ec-ff27-53c23b899c85"
      },
      "execution_count": 13,
      "outputs": [
        {
          "output_type": "stream",
          "name": "stdout",
          "text": [
            "Median : 2610000.0\n"
          ]
        }
      ]
    },
    {
      "cell_type": "markdown",
      "source": [
        "# Exploratory Data Analysis dengan Pandas - Part 2"
      ],
      "metadata": {
        "id": "t7vw9jyX17Y_"
      }
    },
    {
      "cell_type": "markdown",
      "source": [
        "## Mengenal dan Membuat Distribusi Data dengan Histogram\n",
        "---\n",
        "- Syntax umum :\n",
        "```\n",
        "nama_dataframe[[\"nama_kolom\"]].hist(\n",
        "            bins=jumlah_bins, \n",
        "            by=nama_kolom,\n",
        "            alpha = nilai_alpha, \n",
        "            figsize = ukuran\n",
        "  )\n",
        "```\n",
        "- bins : Jumlah_bins dalam histogram yang akan digunakan. Jika tidak didefinisikan jumlah_bins, maka function akan secara default menentukan jumlah_bins sebanyak 10.\n",
        "- by : Nama kolom di DataFrame untuk di group by. (valuenya berupa nama column di dataframe tersebut).\n",
        "- alpha : nilai_alpha untuk menentukan opacity dari plot di histogram. (value berupa range 0.0 - 1.0, dimana semakin kecil akan semakin kecil opacity nya)\n",
        "- figsize : tuple_ukuran_gambar yang digunakan untuk menentukan ukuran dari plot histogram. Contoh: figsize=(10,12)"
      ],
      "metadata": {
        "id": "UnNurYqQ18rl"
      }
    },
    {
      "cell_type": "markdown",
      "source": [
        "### Tugas Praktek"
      ],
      "metadata": {
        "id": "kRPYerL-34SA"
      }
    },
    {
      "cell_type": "code",
      "source": [
        "order_df = pd.read_csv(\"https://storage.googleapis.com/dqlab-dataset/order.csv\")\n",
        "\n",
        "# Plot histogram kolom: price\n",
        "order_df[['price']].hist(figsize=(5, 5), bins=10, xlabelsize=10, ylabelsize=10)\n",
        "\n",
        "# Untuk menampilkan histogram plot\n",
        "plt.show()  "
      ],
      "metadata": {
        "colab": {
          "base_uri": "https://localhost:8080/",
          "height": 349
        },
        "id": "s8AHfa2t33zD",
        "outputId": "48c39104-1718-438e-c0af-4e8a47e03bc9"
      },
      "execution_count": 26,
      "outputs": [
        {
          "output_type": "display_data",
          "data": {
            "text/plain": [
              "<Figure size 360x360 with 1 Axes>"
            ],
            "image/png": "[encoded data removed]"
          },
          "metadata": {
            "needs_background": "light"
          }
        }
      ]
    },
    {
      "cell_type": "markdown",
      "source": [
        "## Standar Deviasi dan Variansi pada Pandas"
      ],
      "metadata": {
        "id": "e-zuLbsz4glD"
      }
    },
    {
      "cell_type": "code",
      "source": [
        "# Standar Deviasi kolom product_weight_gram\n",
        "print(\"Standar Deviasi :\", order_df.loc[:, \"product_weight_gram\"].std())"
      ],
      "metadata": {
        "colab": {
          "base_uri": "https://localhost:8080/"
        },
        "id": "mWO2eOlu4owB",
        "outputId": "c3d3c054-aa9c-4ce9-96ba-d038dcc3192d"
      },
      "execution_count": 29,
      "outputs": [
        {
          "output_type": "stream",
          "name": "stdout",
          "text": [
            "Standar Deviasi : 3929.8968753726213\n"
          ]
        }
      ]
    },
    {
      "cell_type": "code",
      "source": [
        "# Variansi kolom product_weight_gram\n",
        "print(\"Variansi :\", order_df.loc[:, \"product_weight_gram\"].var())"
      ],
      "metadata": {
        "colab": {
          "base_uri": "https://localhost:8080/"
        },
        "id": "O9lAnYr34spC",
        "outputId": "0d0cd9a7-41a7-4e50-bee1-35089d72ec34"
      },
      "execution_count": 30,
      "outputs": [
        {
          "output_type": "stream",
          "name": "stdout",
          "text": [
            "Variansi : 15444089.451063491\n"
          ]
        }
      ]
    },
    {
      "cell_type": "markdown",
      "source": [
        "## Menemukan Outliers Menggunakan Pandas\n",
        "- Outliers : Data yang muncul dengan nilai-nila yang jauh atau beda sama sekali dengan sebagian besar nilai lain dalam kelompoknya\n",
        "- Outliers dapat ditentukan dengan metric IQR (interquartile range).\n",
        "- Rumus dasar dari IQR: Q3 - Q1\n",
        "- Suatu data dikatakan outliers, jika : \n",
        "   \n",
        "   - data < Q1 - 1.5 * IQR\n",
        "   - data > Q3 + 1/5 * IQR"
      ],
      "metadata": {
        "id": "ZL-0F7HS7j1y"
      }
    },
    {
      "cell_type": "markdown",
      "source": [
        "### Tugas Praktek"
      ],
      "metadata": {
        "id": "0EY0VV6O8oz5"
      }
    },
    {
      "cell_type": "code",
      "source": [
        "# Hitung quartile 1\n",
        "Q1 = order_df[[\"product_weight_gram\"]].quantile(0.25)\n",
        "# Hitung quartile 3\n",
        "Q3 = order_df[[\"product_weight_gram\"]].quantile(0.75)\n",
        "\n",
        "# Hitung inter quartile range dan cetak ke console\n",
        "IQR = Q3 - Q1\n",
        "print(IQR)"
      ],
      "metadata": {
        "colab": {
          "base_uri": "https://localhost:8080/"
        },
        "id": "aDUbMxcG8tXR",
        "outputId": "25b50a0b-0bbf-44c6-d44f-3c9c1882e5d6"
      },
      "execution_count": 41,
      "outputs": [
        {
          "output_type": "stream",
          "name": "stdout",
          "text": [
            "product_weight_gram    1550.0\n",
            "dtype: float64\n"
          ]
        }
      ]
    },
    {
      "cell_type": "code",
      "source": [
        "print((order_df < (Q1 - 1.5*IQR)) | (order_df > Q3 + 1.5*IQR))"
      ],
      "metadata": {
        "colab": {
          "base_uri": "https://localhost:8080/"
        },
        "id": "r4gSggVu8vp1",
        "outputId": "e209def4-83a6-4999-c54b-42edbb54e57f"
      },
      "execution_count": 42,
      "outputs": [
        {
          "output_type": "stream",
          "name": "stdout",
          "text": [
            "       customer_id  freight_value  order_id  order_status  payment_type  \\\n",
            "0            False          False     False         False         False   \n",
            "1            False          False     False         False         False   \n",
            "2            False          False     False         False         False   \n",
            "3            False          False     False         False         False   \n",
            "4            False          False     False         False         False   \n",
            "...            ...            ...       ...           ...           ...   \n",
            "49994        False          False     False         False         False   \n",
            "49995        False          False     False         False         False   \n",
            "49996        False          False     False         False         False   \n",
            "49997        False          False     False         False         False   \n",
            "49998        False          False     False         False         False   \n",
            "\n",
            "       price  product_category_name  product_id  product_weight_gram  \\\n",
            "0      False                  False       False                False   \n",
            "1      False                  False       False                False   \n",
            "2      False                  False       False                False   \n",
            "3      False                  False       False                False   \n",
            "4      False                  False       False                False   \n",
            "...      ...                    ...         ...                  ...   \n",
            "49994  False                  False       False                False   \n",
            "49995  False                  False       False                False   \n",
            "49996  False                  False       False                False   \n",
            "49997  False                  False       False                False   \n",
            "49998  False                  False       False                False   \n",
            "\n",
            "       purchase_date  quantity  seller_id  \n",
            "0              False     False      False  \n",
            "1              False     False      False  \n",
            "2              False     False      False  \n",
            "3              False     False      False  \n",
            "4              False     False      False  \n",
            "...              ...       ...        ...  \n",
            "49994          False     False      False  \n",
            "49995          False     False      False  \n",
            "49996          False     False      False  \n",
            "49997          False     False      False  \n",
            "49998          False     False      False  \n",
            "\n",
            "[49999 rows x 12 columns]\n"
          ]
        },
        {
          "output_type": "stream",
          "name": "stderr",
          "text": [
            "<ipython-input-42-dacac4500c05>:1: FutureWarning: Automatic reindexing on DataFrame vs Series comparisons is deprecated and will raise ValueError in a future version.  Do `left, right = left.align(right, axis=1, copy=False)` before e.g. `left == right`\n",
            "  print((order_df < (Q1 - 1.5*IQR)) | (order_df > Q3 + 1.5*IQR))\n"
          ]
        }
      ]
    },
    {
      "cell_type": "markdown",
      "source": [
        "## Rename Kolom Dataframe"
      ],
      "metadata": {
        "id": "hRgt5dS59nCe"
      }
    },
    {
      "cell_type": "markdown",
      "source": [
        "### Menggunakan nama kolom\n",
        "- Syntax :\n",
        "```\n",
        "nama_dataframe.rename(\n",
        "                 columns{\"column_name_before\" : \"column_name_after\"},  \n",
        "                 inplace=True\n",
        ")\n",
        "```\n",
        "- Contoh :\n",
        "```\n",
        "nilai_skor_df.rename(\n",
        "              columns{\"Age\" : \"Umur\"},\n",
        "              inplace=True\n",
        ")\n",
        "```\n",
        "\n"
      ],
      "metadata": {
        "id": "RpkniPog9sC0"
      }
    },
    {
      "cell_type": "markdown",
      "source": [
        "### Menggunakan indeks kolom\n",
        "- Syntax :\n",
        "```\n",
        "nama_dataframe.columns.values[no_of_columns] = \"column_name_after\"\n",
        "```\n",
        "- Contoh :\n",
        "```\n",
        "nilai_skor_df.columns.values[0] = \"Umur\"\n",
        "```\n",
        "\n"
      ],
      "metadata": {
        "id": "ejtX67DC9xEd"
      }
    },
    {
      "cell_type": "markdown",
      "source": [
        "## groupby menggunakan Pandas\n",
        "- Kegunaan groupby : Mencari summary dari dataframe dengan menggunakan aggregate dari kolom tertentu.\n",
        "\n",
        "\n"
      ],
      "metadata": {
        "id": "XyK_cYgJ_4vb"
      }
    },
    {
      "cell_type": "code",
      "source": [
        "# Tampilan Datanya\n",
        "order_df[['price', 'payment_type']].head()"
      ],
      "metadata": {
        "colab": {
          "base_uri": "https://localhost:8080/",
          "height": 206
        },
        "id": "dt3jFCKpAbJm",
        "outputId": "4adf590e-ad28-42d0-e222-b2a75851d4af"
      },
      "execution_count": 45,
      "outputs": [
        {
          "output_type": "execute_result",
          "data": {
            "text/plain": [
              "     price     payment_type\n",
              "0  1489000  virtual account\n",
              "1  1756000  virtual account\n",
              "2  1707000         e-wallet\n",
              "3  3071000         e-wallet\n",
              "4  3833000         e-wallet"
            ],
            "text/html": [
              "\n",
              "  <div id=\"df-e99473e4-57b2-47dc-a529-cf5380b3b8f1\">\n",
              "    <div class=\"colab-df-container\">\n",
              "      <div>\n",
              "<style scoped>\n",
              "    .dataframe tbody tr th:only-of-type {\n",
              "        vertical-align: middle;\n",
              "    }\n",
              "\n",
              "    .dataframe tbody tr th {\n",
              "        vertical-align: top;\n",
              "    }\n",
              "\n",
              "    .dataframe thead th {\n",
              "        text-align: right;\n",
              "    }\n",
              "</style>\n",
              "<table border=\"1\" class=\"dataframe\">\n",
              "  <thead>\n",
              "    <tr style=\"text-align: right;\">\n",
              "      <th></th>\n",
              "      <th>price</th>\n",
              "      <th>payment_type</th>\n",
              "    </tr>\n",
              "  </thead>\n",
              "  <tbody>\n",
              "    <tr>\n",
              "      <th>0</th>\n",
              "      <td>1489000</td>\n",
              "      <td>virtual account</td>\n",
              "    </tr>\n",
              "    <tr>\n",
              "      <th>1</th>\n",
              "      <td>1756000</td>\n",
              "      <td>virtual account</td>\n",
              "    </tr>\n",
              "    <tr>\n",
              "      <th>2</th>\n",
              "      <td>1707000</td>\n",
              "      <td>e-wallet</td>\n",
              "    </tr>\n",
              "    <tr>\n",
              "      <th>3</th>\n",
              "      <td>3071000</td>\n",
              "      <td>e-wallet</td>\n",
              "    </tr>\n",
              "    <tr>\n",
              "      <th>4</th>\n",
              "      <td>3833000</td>\n",
              "      <td>e-wallet</td>\n",
              "    </tr>\n",
              "  </tbody>\n",
              "</table>\n",
              "</div>\n",
              "      <button class=\"colab-df-convert\" onclick=\"convertToInteractive('df-e99473e4-57b2-47dc-a529-cf5380b3b8f1')\"\n",
              "              title=\"Convert this dataframe to an interactive table.\"\n",
              "              style=\"display:none;\">\n",
              "        \n",
              "  <svg xmlns=\"http://www.w3.org/2000/svg\" height=\"24px\"viewBox=\"0 0 24 24\"\n",
              "       width=\"24px\">\n",
              "    <path d=\"M0 0h24v24H0V0z\" fill=\"none\"/>\n",
              "    <path d=\"M18.56 5.44l.94 2.06.94-2.06 2.06-.94-2.06-.94-.94-2.06-.94 2.06-2.06.94zm-11 1L8.5 8.5l.94-2.06 2.06-.94-2.06-.94L8.5 2.5l-.94 2.06-2.06.94zm10 10l.94 2.06.94-2.06 2.06-.94-2.06-.94-.94-2.06-.94 2.06-2.06.94z\"/><path d=\"M17.41 7.96l-1.37-1.37c-.4-.4-.92-.59-1.43-.59-.52 0-1.04.2-1.43.59L10.3 9.45l-7.72 7.72c-.78.78-.78 2.05 0 2.83L4 21.41c.39.39.9.59 1.41.59.51 0 1.02-.2 1.41-.59l7.78-7.78 2.81-2.81c.8-.78.8-2.07 0-2.86zM5.41 20L4 18.59l7.72-7.72 1.47 1.35L5.41 20z\"/>\n",
              "  </svg>\n",
              "      </button>\n",
              "      \n",
              "  <style>\n",
              "    .colab-df-container {\n",
              "      display:flex;\n",
              "      flex-wrap:wrap;\n",
              "      gap: 12px;\n",
              "    }\n",
              "\n",
              "    .colab-df-convert {\n",
              "      background-color: #E8F0FE;\n",
              "      border: none;\n",
              "      border-radius: 50%;\n",
              "      cursor: pointer;\n",
              "      display: none;\n",
              "      fill: #1967D2;\n",
              "      height: 32px;\n",
              "      padding: 0 0 0 0;\n",
              "      width: 32px;\n",
              "    }\n",
              "\n",
              "    .colab-df-convert:hover {\n",
              "      background-color: #E2EBFA;\n",
              "      box-shadow: 0px 1px 2px rgba(60, 64, 67, 0.3), 0px 1px 3px 1px rgba(60, 64, 67, 0.15);\n",
              "      fill: #174EA6;\n",
              "    }\n",
              "\n",
              "    [theme=dark] .colab-df-convert {\n",
              "      background-color: #3B4455;\n",
              "      fill: #D2E3FC;\n",
              "    }\n",
              "\n",
              "    [theme=dark] .colab-df-convert:hover {\n",
              "      background-color: #434B5C;\n",
              "      box-shadow: 0px 1px 3px 1px rgba(0, 0, 0, 0.15);\n",
              "      filter: drop-shadow(0px 1px 2px rgba(0, 0, 0, 0.3));\n",
              "      fill: #FFFFFF;\n",
              "    }\n",
              "  </style>\n",
              "\n",
              "      <script>\n",
              "        const buttonEl =\n",
              "          document.querySelector('#df-e99473e4-57b2-47dc-a529-cf5380b3b8f1 button.colab-df-convert');\n",
              "        buttonEl.style.display =\n",
              "          google.colab.kernel.accessAllowed ? 'block' : 'none';\n",
              "\n",
              "        async function convertToInteractive(key) {\n",
              "          const element = document.querySelector('#df-e99473e4-57b2-47dc-a529-cf5380b3b8f1');\n",
              "          const dataTable =\n",
              "            await google.colab.kernel.invokeFunction('convertToInteractive',\n",
              "                                                     [key], {});\n",
              "          if (!dataTable) return;\n",
              "\n",
              "          const docLinkHtml = 'Like what you see? Visit the ' +\n",
              "            '<a target=\"_blank\" href=https://colab.research.google.com/notebooks/data_table.ipynb>data table notebook</a>'\n",
              "            + ' to learn more about interactive tables.';\n",
              "          element.innerHTML = '';\n",
              "          dataTable['output_type'] = 'display_data';\n",
              "          await google.colab.output.renderOutput(dataTable, element);\n",
              "          const docLink = document.createElement('div');\n",
              "          docLink.innerHTML = docLinkHtml;\n",
              "          element.appendChild(docLink);\n",
              "        }\n",
              "      </script>\n",
              "    </div>\n",
              "  </div>\n",
              "  "
            ]
          },
          "metadata": {},
          "execution_count": 45
        }
      ]
    },
    {
      "cell_type": "code",
      "source": [
        "# Hitung rata rata dari price per payment_type\n",
        "rata_rata = order_df[\"price\"].groupby(order_df[\"payment_type\"]).mean()\n",
        "print(rata_rata)"
      ],
      "metadata": {
        "colab": {
          "base_uri": "https://localhost:8080/"
        },
        "id": "d39rjwI9AVyM",
        "outputId": "410aea57-d25d-4ee3-a1e3-e5e1a3416b0f"
      },
      "execution_count": 46,
      "outputs": [
        {
          "output_type": "stream",
          "name": "stdout",
          "text": [
            "payment_type\n",
            "credit card        2.600706e+06\n",
            "debit card         2.611974e+06\n",
            "e-wallet           2.598562e+06\n",
            "virtual account    2.619786e+06\n",
            "Name: price, dtype: float64\n"
          ]
        }
      ]
    },
    {
      "cell_type": "markdown",
      "source": [
        "## Sorting Menggunakan Pandas\n",
        "- Sorting : Metode mengurutkan data berdasarkan syarat kolom tertentu dan biasanya digunakan untuk melihat nilai maksimum dan minimum dari dataset\n",
        "- Ascending = Dimulai dari terkecil | Descending = Dari terbesar\n",
        "- Syntax :\n",
        "```\n",
        "nama_dataframe.sort_values(by=[\"nama_kolom_1\", \"nama_kolom_2\"], ascending = [True, False])\n",
        "```\n",
        "\n"
      ],
      "metadata": {
        "id": "NZ1uTfG4Asry"
      }
    },
    {
      "cell_type": "code",
      "source": [
        "# Hitung harga maksimum pembelian customer\n",
        "sort_harga = order_df.sort_values(by=\"price\", ascending=False)\n",
        "\n",
        "print(sort_harga)"
      ],
      "metadata": {
        "colab": {
          "base_uri": "https://localhost:8080/"
        },
        "id": "AGpgo1spBiGA",
        "outputId": "48f5fe32-1661-43cf-8402-bafb9143fd69"
      },
      "execution_count": 54,
      "outputs": [
        {
          "output_type": "stream",
          "name": "stdout",
          "text": [
            "                               order_id  quantity  \\\n",
            "37085  d7b2d3b902441cf3dd12cd125533217d         1   \n",
            "41958  2711089c7fec59d4dc8483e3c6a12fa3         1   \n",
            "3976   f343624eab419250ad81f1ce6be22c93         1   \n",
            "21072  c8947a583ab9791a5a9d02384cb84302         1   \n",
            "47074  f6134169ca6f0cdfbe6458ebb5731613         1   \n",
            "...                                 ...       ...   \n",
            "33786  0d9e86e02c1a823b20c03ea29d616607         1   \n",
            "42166  54220fcc516cabe9ec84b210c0765ef2         1   \n",
            "31745  59a19c83ff825948739dd1601cc107b6         1   \n",
            "42452  9960ee97c2f8d801a200a01893b3942f         1   \n",
            "11939  64619901c45fba79638d666058bf6be6         1   \n",
            "\n",
            "                             product_id    price  \\\n",
            "37085  35afc973633aaeb6b877ff57b2793310  5000000   \n",
            "41958  7c1bd920dbdf22470b68bde975dd3ccf  5000000   \n",
            "3976   777d2e438a1b645f3aec9bd57e92672c  5000000   \n",
            "21072  f8cfb63e323be2e1c4172f255d61843d  5000000   \n",
            "47074  2ea92fab7565c4fe9f91a5e4e1756258  5000000   \n",
            "...                                 ...      ...   \n",
            "33786  f93213a23c50edc16c27b96333f734dc   200000   \n",
            "42166  1166bc797ddf5fb009c376d133f61204   200000   \n",
            "31745  eb38a7604070a2b8465101ed53cba72b   200000   \n",
            "42452  db5efde3ad0cc579b130d71c4b2db522   200000   \n",
            "11939  06c6e01186af8b98ee1fc9e01f9471e9   200000   \n",
            "\n",
            "                              seller_id  freight_value  \\\n",
            "37085  4a3ca9315b744ce9f8e9374361493884         118000   \n",
            "41958  cc419e0650a3c5ba77189a1882b7556a          31000   \n",
            "3976   4a3ca9315b744ce9f8e9374361493884         101000   \n",
            "21072  4a3ca9315b744ce9f8e9374361493884         184000   \n",
            "47074  3d871de0142ce09b7081e2b9d1733cb1         196000   \n",
            "...                                 ...            ...   \n",
            "33786  46dc3b2cc0980fb8ec44634e21d2718e         141000   \n",
            "42166  5cbbd5a299cab112b7bf23862255e43e         175000   \n",
            "31745  e6a69c4a27dfdd98ffe5aa757ad744bc         112000   \n",
            "42452  4869f7a5dfa277a7dca6462dcf3b52b2          26000   \n",
            "11939  fc906263ca5083d09dce42fe02247800          98000   \n",
            "\n",
            "                            customer_id order_status purchase_date  \\\n",
            "37085  217344c7c334e16c8e76551b4b240c1d    delivered    2017-10-31   \n",
            "41958  0ef59d9bb071def3dbf7e7b055965e95    delivered    2017-11-24   \n",
            "3976   3fc0d940852ab274e532e80b1c1d5c2f    delivered    2017-03-07   \n",
            "21072  57c047e791e69bef0af220b0a165a22d    delivered    2017-07-27   \n",
            "47074  cbfdcc896d6ebc83c21fdcf4f4762efc    delivered    2017-12-04   \n",
            "...                                 ...          ...           ...   \n",
            "33786  edaad9e07395713e9f5a2124f6c846a1    delivered    2017-10-13   \n",
            "42166  24e7dc2ff8c07126358af519732b8558    delivered    2017-11-24   \n",
            "31745  2bf857ee40b763708fe19cf877cac511    delivered    2017-10-01   \n",
            "42452  54af40597a8931fea3fbb2b37656fc8d    delivered    2017-11-24   \n",
            "11939  3a1dda1ede23d7e71753e80d7f22c2c4    delivered    2017-05-21   \n",
            "\n",
            "          payment_type product_category_name  product_weight_gram  \n",
            "37085       debit card                beauty               1825.0  \n",
            "41958         e-wallet               fashion                200.0  \n",
            "3976        debit card                gadget                950.0  \n",
            "21072      credit card                beauty                550.0  \n",
            "47074  virtual account                gadget              10600.0  \n",
            "...                ...                   ...                  ...  \n",
            "33786       debit card            automotive               7550.0  \n",
            "42166         e-wallet                gadget               1100.0  \n",
            "31745         e-wallet                beauty                550.0  \n",
            "42452      credit card            automotive               6663.0  \n",
            "11939  virtual account            automotive                200.0  \n",
            "\n",
            "[49999 rows x 12 columns]\n"
          ]
        }
      ]
    }
  ]
}